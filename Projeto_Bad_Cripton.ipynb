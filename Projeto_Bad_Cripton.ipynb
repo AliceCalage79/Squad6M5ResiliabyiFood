{
  "nbformat": 4,
  "nbformat_minor": 0,
  "metadata": {
    "colab": {
      "provenance": [],
      "collapsed_sections": [
        "ThI38Yl-x8LZ",
        "eJY2TUmKHI_Q",
        "YU1Y_n4LHO4q",
        "eoXyywSrIvaw",
        "Ir_8QbjjJic0",
        "ifZUkmD_L5pJ",
        "0D1VprArrds1",
        "lVjRFABW32eG"
      ]
    },
    "kernelspec": {
      "name": "python3",
      "display_name": "Python 3"
    },
    "language_info": {
      "name": "python"
    }
  },
  "cells": [
    {
      "cell_type": "markdown",
      "source": [
        "![Imgur](https://i.imgur.com/Mb7kt57.png)"
      ],
      "metadata": {
        "id": "HIKZviDAzCUv"
      }
    },
    {
      "cell_type": "markdown",
      "metadata": {
        "id": "L9dp9h6ox8LO"
      },
      "source": [
        "#<font color = bluelight> Projeto Bad Cripton"
      ]
    },
    {
      "cell_type": "markdown",
      "source": [
        "## <font color = bluelight> >>Introdução"
      ],
      "metadata": {
        "id": "7cb5HkTivw6j"
      }
    },
    {
      "cell_type": "markdown",
      "source": [
        ">    Nos últimos anos, as criptomoedas emergiram como uma classe de ativos revolucionários, desafiando as estruturas tradicionais de finanças e investimentos. Essas moedas digitais descentralizadas, baseadas na tecnologia de blockchain, oferecem uma série de vantagens, como a capacidade de realizar transações seguras e transparentes sem a necessidade de intermediários, como bancos. No entanto, essa inovação também trouxe desafios significativos, incluindo a sua alta volatilidade e impacto ambiental.\n",
        "Em um mundo cada vez mais digital, as criptomoedas desempenham um papel fundamental na economia atual, atraindo investidores e especuladores de todo o mundo. Seu valor e popularidade cresceram exponencialmente, resultando em uma série histórica de preços que reflete a evolução dessas ações digitais.\n",
        "Neste contexto, nossa equipe foi designada por uma corretora financeira para conduzir uma análise exploratória da série histórica dos valores das criptomoedas. O objetivo é compreender os melhores padrões e tendências por trás desses ativos, bem como avaliar seu impacto no mercado financeiro e na economia global.\n",
        "Além disso, nossa análise também abordará uma questão crucial: a pegada de carbono das criptomoedas. A mineração de criptomoedas, em especial o Bitcoin, consome uma quantidade significativa de energia elétrica, levando a preocupações sobre seu impacto ambiental. Avaliar essa pegada de carbono é essencial para entender o equilíbrio entre a inovação financeira e as preocupações ambientais.\n",
        "Ao longo deste estudo, examinaremos os dados históricos das principais criptomoedas, explorando suas variações de preço, volume de negociação e capitalização de mercado. Além disso, investigaremos as práticas de mineração de criptomoedas e os esforços em curso para tornar essa atividade mais sustentável.\n",
        "Nossa análise exploratória visa fornecer uma visão abrangente das criptomoedas, abordando tanto os benefícios quanto os desafios associados a esses ativos digitais. Por meio de dados, insights e análises, esperamos contribuir para uma compreensão mais completa dessas questões financeiras e ambientalmente relevantes."
      ],
      "metadata": {
        "id": "7bfBnAEUv8cc"
      }
    },
    {
      "cell_type": "markdown",
      "source": [
        "### <font color = bluelight> >>> Métodos de Mineração\n",
        "\n"
      ],
      "metadata": {
        "id": "qSmR5d4FLxk5"
      }
    },
    {
      "cell_type": "markdown",
      "source": [
        "> - Existem diferentes métodos de mineração de criptomoedas, incluindo Proof of Work (PoW) e Proof of Stake (PoS). A maioria das criptomoedas populares, como o Bitcoin, utiliza o PoW, que consome muita energia. Criptomoedas baseadas em PoS geralmente têm uma pegada de carbono menor."
      ],
      "metadata": {
        "id": "sVt1188F1eRh"
      }
    },
    {
      "cell_type": "markdown",
      "source": [
        "## <font color = bluelight> >> Objetivos do Projeto\n",
        "  >- Realizar a análise exploratória a partir das fontes de dados disponíveis no Kaggle\n",
        "  >- Serão utilizados os arquivos que correspondem a uma serie histórica de criptomoedas (10 escolhidas)do ano de 2013 a 2021.\n",
        "  >- Análise descritiva das características dos dados, registros, tipos de dados e valores;\n",
        "  >- Limpar e tratar os dados;\n",
        "  >- Salvar na Base de Dados Postgres;\n",
        "  >- Importar em uma plataforma de vizualização (Tableau, BI ou Looker)\n",
        "  >- Utilizar e visualizar gráficos com o objetivo de obter  insights.\n",
        "  ---"
      ],
      "metadata": {
        "id": "9bXvrl3Yb-xX"
      }
    },
    {
      "cell_type": "markdown",
      "source": [
        "### <font color = bluelight> >>> Perguntas a serem resolvidas"
      ],
      "metadata": {
        "id": "cP1fOGpbHIiU"
      }
    },
    {
      "cell_type": "markdown",
      "source": [
        "####>>>>   1. Como se comportaram os valores para todas as criptomoedas? Os valores tiveram uma tendência de queda ou de aumento?"
      ],
      "metadata": {
        "id": "8VODpoojHWny"
      }
    },
    {
      "cell_type": "markdown",
      "source": [
        "- **R:** O comportamento dos valores para todas as criptomoedas foi variável ao longo do tempo, mas em geral houve uma tendência de aumento, especialmente nos últimos anos. Algumas moedas, como o bitcoin, o ethereum e o cardano, tiveram um crescimento mais expressivo do que outras, como o dogecoin, o stellar e o monero."
      ],
      "metadata": {
        "id": "hvPdSNtUHeYp"
      }
    },
    {
      "cell_type": "markdown",
      "source": [
        "####>>>>  2. Quais os valores médios para todas as criptomoedas?"
      ],
      "metadata": {
        "id": "l_A5lrOzHz7K"
      }
    },
    {
      "cell_type": "markdown",
      "source": [
        "- **R:** Os valores médios para todas as criptomoedas foram calculados usando a média dos preços de fechamento de cada moeda ao longo do período analisado. Os valores médios foram os seguintes:\n",
        " - Moeda Valor médio (USD)\n",
        " - Bitcoin 7.438,77\n",
        " - Dogecoin 0,01\n",
        " - Litecoin 55,30\n",
        " - Solana 18,94\n",
        " - Ethereum 328,67\n",
        " - Stellar 0,11\n",
        " - Cosmos 5,86\n",
        " - Cardano 0,28\n",
        " - Monero 97,66\n",
        " - Polkadot 16,63"
      ],
      "metadata": {
        "id": "5fiNtRAoH86y"
      }
    },
    {
      "cell_type": "markdown",
      "source": [
        "####>>>> 3. Em quais anos houve maiores quedas e valorizações?"
      ],
      "metadata": {
        "id": "5DQ_8GI7IkdQ"
      }
    },
    {
      "cell_type": "markdown",
      "source": [
        "- **R:** Os anos em que houve maiores quedas e valorizações dependem de cada moeda, mas alguns padrões podem ser observados. Por exemplo, o ano de 2017 foi marcado por uma alta valorização de várias moedas, como o bitcoin, o ethereum, o litecoin e o monero. Já o ano de 2018 foi caracterizado por uma forte queda de quase todas as moedas, com exceção do stellar e do cosmos. O ano de 2020 também foi um ano de recuperação para muitas moedas, especialmente o bitcoin e o ethereum. O ano de 2021 foi um ano de grande volatilidade, com altos e baixos para todas as moedas."
      ],
      "metadata": {
        "id": "d9eZ_apAJpKf"
      }
    },
    {
      "cell_type": "markdown",
      "source": [
        "####>>>> 4. Existe alguma tendência de aumento ou queda dos valores pelo dia da semana?"
      ],
      "metadata": {
        "id": "BZpxp118KI0W"
      }
    },
    {
      "cell_type": "markdown",
      "source": [
        " - **R:** Não há uma tendência clara de aumento ou queda dos valores pelo dia da semana, mas alguns dias parecem ter uma maior variação do que outros. Por exemplo, as segundas-feiras e as quintas-feiras costumam ter uma maior amplitude entre os preços máximos e mínimos do que os sábados e os domingos. Isso pode estar relacionado com a maior movimentação do mercado financeiro nesses dias."
      ],
      "metadata": {
        "id": "ovHp9f9LKTXu"
      }
    },
    {
      "cell_type": "markdown",
      "source": [
        "####>>>>  5. Qual moeda se mostra mais interessante em relação à valorização pela análise da série histórica?"
      ],
      "metadata": {
        "id": "ofkyzIImKtMm"
      }
    },
    {
      "cell_type": "markdown",
      "source": [
        " - **R:** A moeda que se mostra mais interessante em relação à valorização pela análise da série histórica é o bitcoin, pois foi a que teve o maior crescimento absoluto e relativo ao longo do tempo. O bitcoin começou valendo menos de um dólar em 2010 e chegou a valer mais de 60 mil dólares em 2021, um aumento de mais de 6 milhões por cento. Além disso, o bitcoin é a moeda mais consolidada e reconhecida no mercado de criptomoedas, com a maior capitalização de mercado e liquidez."
      ],
      "metadata": {
        "id": "6j8JI113LWv4"
      }
    },
    {
      "cell_type": "markdown",
      "source": [
        "####>>>>  6. Qual moeda se mostra menos interessante em relação à valorização pela análise da série histórica?"
      ],
      "metadata": {
        "id": "iktMiOAEL82d"
      }
    },
    {
      "cell_type": "markdown",
      "source": [
        " - **R:** A moeda que se mostra menos interessante em relação à valorização pela análise da série histórica é o dogecoin, pois foi a que teve o menor crescimento absoluto e relativo ao longo do tempo. O dogecoin começou valendo menos de um centavo de dólar em 2013 e nunca ultrapassou a marca de um dólar até hoje, um aumento de cerca de 10 mil por cento. Além disso, o dogecoin é uma moeda que tem uma origem humorística e não tem um propósito claro ou uma vantagem competitiva no mercado de criptomoedas."
      ],
      "metadata": {
        "id": "pQQUxxdiMlN8"
      }
    },
    {
      "cell_type": "markdown",
      "source": [
        "####>>>>7. Existe correlação entre os valores para todas as criptomoedas?"
      ],
      "metadata": {
        "id": "QoElI187NIUk"
      }
    },
    {
      "cell_type": "markdown",
      "source": [
        " - **R:** Existe correlação entre os valores para todas as criptomoedas, mas essa correlação varia em intensidade e direção dependendo das moedas comparadas. Mas, exemplo claro de correlação é o caso do bitcoin e do ethereum, que têm uma correlação positiva e forte de 0,88. Isso significa que os valores dessas duas moedas tendem a se mover na mesma direção e com uma magnitude similar. Ou seja, quando o bitcoin sobe, o ethereum também sobe, e quando o bitcoin cai, o ethereum também cai. Isso pode ser explicado pelo fato de que o bitcoin e o ethereum são as duas moedas mais populares e influentes do mercado de criptomoedas, e que muitos investidores e usuários as consideram como alternativas ou complementos entre si."
      ],
      "metadata": {
        "id": "IdEq6PBiNQZz"
      }
    },
    {
      "cell_type": "markdown",
      "metadata": {
        "id": "8RgPEoWxx8LR"
      },
      "source": [
        "## <font color= bluelight>>> Importação de pacotes de bibliotecas que serão utilizados no projeto bem como suas versões"
      ]
    },
    {
      "cell_type": "code",
      "execution_count": 54,
      "metadata": {
        "notebookRunGroups": {
          "groupValue": ""
        },
        "id": "e4LJvh62x8LS",
        "colab": {
          "base_uri": "https://localhost:8080/"
        },
        "outputId": "f8024bcc-8914-4bb3-d22d-222752dc461a"
      },
      "outputs": [
        {
          "output_type": "stream",
          "name": "stdout",
          "text": [
            "Pacotes Instalados! Versões Utilizadas:\n",
            "\n",
            "Pandas      --> 1.5.3\n",
            "Numpy       --> 1.23.5\n"
          ]
        }
      ],
      "source": [
        "# Pacotes de bibliotecas que serão usadas no projeto:\n",
        "import pandas as pd\n",
        "import numpy as np\n",
        "import os\n",
        "\n",
        "\n",
        "# versões dos pacotes:\n",
        "print('Pacotes Instalados! Versões Utilizadas:\\n')\n",
        "print(f'Pandas      --> {pd.__version__}')\n",
        "print(f'Numpy       --> {np.__version__}')\n"
      ]
    },
    {
      "cell_type": "markdown",
      "source": [
        "---"
      ],
      "metadata": {
        "id": "0GrkjnDSw4R5"
      }
    },
    {
      "cell_type": "markdown",
      "source": [
        "---\n",
        "##<font color = bluelight> >>Conhecendo os Dados:\n"
      ],
      "metadata": {
        "id": "1NUWrp2qGaoI"
      }
    },
    {
      "cell_type": "markdown",
      "source": [
        ">- Nesta etapa do projeto vamos entender os dados iniciais, suas características, registros, tipos e valores, aplicando uma análise com as estatísticas descritivas."
      ],
      "metadata": {
        "id": "zoKcOrOTC2FI"
      }
    },
    {
      "cell_type": "markdown",
      "source": [
        "### <font color = bluelight> >>>Coletando os dados iníciais\n"
      ],
      "metadata": {
        "id": "h0WrqAefIMxG"
      }
    },
    {
      "cell_type": "markdown",
      "source": [
        " - As fontes de dados estão disponíveis no site da Kaggle. Serão utilizados os arquivos das seguintes criptomoedas (10 criptos) link encontra se disponível logo abaixo.\n",
        " -bitcoin\n",
        " -cardano\n",
        " -cosmos\n",
        " -dogecoin\n",
        " -ethereum\n",
        " -litecoin\n",
        " -monero\n",
        " -polkadot\n",
        " -solana\n",
        " -stellar\n",
        "  -  Link [Serie historica de valores de criptomoedas ](https://www.kaggle.com/datasets/sudalairajkumar/cryptocurrencypricehistory)\n",
        "  - Siga a [Documentação](https://colab.research.google.com/drive/1sIQuGii297HHdrJJkP3qeqbGF55ydJ-S?usp=sharing) após o download"
      ],
      "metadata": {
        "id": "UZe4QSJB7c2M"
      }
    },
    {
      "cell_type": "markdown",
      "metadata": {
        "id": "LbXYwaTMx8LT"
      },
      "source": [
        "### <font color = bluelight>>>> Carregando a base de dados"
      ]
    },
    {
      "cell_type": "markdown",
      "source": [
        "####>>>> Importando os arquivos"
      ],
      "metadata": {
        "id": "l4Qqk59JLluE"
      }
    },
    {
      "cell_type": "code",
      "source": [
        "from google.colab import files\n",
        "uploaded = files.upload()"
      ],
      "metadata": {
        "id": "wvX5mKPVHxYq",
        "outputId": "7a8d8137-b5df-47fe-c97f-afc98449f986",
        "colab": {
          "base_uri": "https://localhost:8080/",
          "height": 72
        }
      },
      "execution_count": 55,
      "outputs": [
        {
          "output_type": "display_data",
          "data": {
            "text/plain": [
              "<IPython.core.display.HTML object>"
            ],
            "text/html": [
              "\n",
              "     <input type=\"file\" id=\"files-54d0bb7e-e6b9-49ff-9665-f600168fd9fd\" name=\"files[]\" multiple disabled\n",
              "        style=\"border:none\" />\n",
              "     <output id=\"result-54d0bb7e-e6b9-49ff-9665-f600168fd9fd\">\n",
              "      Upload widget is only available when the cell has been executed in the\n",
              "      current browser session. Please rerun this cell to enable.\n",
              "      </output>\n",
              "      <script>// Copyright 2017 Google LLC\n",
              "//\n",
              "// Licensed under the Apache License, Version 2.0 (the \"License\");\n",
              "// you may not use this file except in compliance with the License.\n",
              "// You may obtain a copy of the License at\n",
              "//\n",
              "//      http://www.apache.org/licenses/LICENSE-2.0\n",
              "//\n",
              "// Unless required by applicable law or agreed to in writing, software\n",
              "// distributed under the License is distributed on an \"AS IS\" BASIS,\n",
              "// WITHOUT WARRANTIES OR CONDITIONS OF ANY KIND, either express or implied.\n",
              "// See the License for the specific language governing permissions and\n",
              "// limitations under the License.\n",
              "\n",
              "/**\n",
              " * @fileoverview Helpers for google.colab Python module.\n",
              " */\n",
              "(function(scope) {\n",
              "function span(text, styleAttributes = {}) {\n",
              "  const element = document.createElement('span');\n",
              "  element.textContent = text;\n",
              "  for (const key of Object.keys(styleAttributes)) {\n",
              "    element.style[key] = styleAttributes[key];\n",
              "  }\n",
              "  return element;\n",
              "}\n",
              "\n",
              "// Max number of bytes which will be uploaded at a time.\n",
              "const MAX_PAYLOAD_SIZE = 100 * 1024;\n",
              "\n",
              "function _uploadFiles(inputId, outputId) {\n",
              "  const steps = uploadFilesStep(inputId, outputId);\n",
              "  const outputElement = document.getElementById(outputId);\n",
              "  // Cache steps on the outputElement to make it available for the next call\n",
              "  // to uploadFilesContinue from Python.\n",
              "  outputElement.steps = steps;\n",
              "\n",
              "  return _uploadFilesContinue(outputId);\n",
              "}\n",
              "\n",
              "// This is roughly an async generator (not supported in the browser yet),\n",
              "// where there are multiple asynchronous steps and the Python side is going\n",
              "// to poll for completion of each step.\n",
              "// This uses a Promise to block the python side on completion of each step,\n",
              "// then passes the result of the previous step as the input to the next step.\n",
              "function _uploadFilesContinue(outputId) {\n",
              "  const outputElement = document.getElementById(outputId);\n",
              "  const steps = outputElement.steps;\n",
              "\n",
              "  const next = steps.next(outputElement.lastPromiseValue);\n",
              "  return Promise.resolve(next.value.promise).then((value) => {\n",
              "    // Cache the last promise value to make it available to the next\n",
              "    // step of the generator.\n",
              "    outputElement.lastPromiseValue = value;\n",
              "    return next.value.response;\n",
              "  });\n",
              "}\n",
              "\n",
              "/**\n",
              " * Generator function which is called between each async step of the upload\n",
              " * process.\n",
              " * @param {string} inputId Element ID of the input file picker element.\n",
              " * @param {string} outputId Element ID of the output display.\n",
              " * @return {!Iterable<!Object>} Iterable of next steps.\n",
              " */\n",
              "function* uploadFilesStep(inputId, outputId) {\n",
              "  const inputElement = document.getElementById(inputId);\n",
              "  inputElement.disabled = false;\n",
              "\n",
              "  const outputElement = document.getElementById(outputId);\n",
              "  outputElement.innerHTML = '';\n",
              "\n",
              "  const pickedPromise = new Promise((resolve) => {\n",
              "    inputElement.addEventListener('change', (e) => {\n",
              "      resolve(e.target.files);\n",
              "    });\n",
              "  });\n",
              "\n",
              "  const cancel = document.createElement('button');\n",
              "  inputElement.parentElement.appendChild(cancel);\n",
              "  cancel.textContent = 'Cancel upload';\n",
              "  const cancelPromise = new Promise((resolve) => {\n",
              "    cancel.onclick = () => {\n",
              "      resolve(null);\n",
              "    };\n",
              "  });\n",
              "\n",
              "  // Wait for the user to pick the files.\n",
              "  const files = yield {\n",
              "    promise: Promise.race([pickedPromise, cancelPromise]),\n",
              "    response: {\n",
              "      action: 'starting',\n",
              "    }\n",
              "  };\n",
              "\n",
              "  cancel.remove();\n",
              "\n",
              "  // Disable the input element since further picks are not allowed.\n",
              "  inputElement.disabled = true;\n",
              "\n",
              "  if (!files) {\n",
              "    return {\n",
              "      response: {\n",
              "        action: 'complete',\n",
              "      }\n",
              "    };\n",
              "  }\n",
              "\n",
              "  for (const file of files) {\n",
              "    const li = document.createElement('li');\n",
              "    li.append(span(file.name, {fontWeight: 'bold'}));\n",
              "    li.append(span(\n",
              "        `(${file.type || 'n/a'}) - ${file.size} bytes, ` +\n",
              "        `last modified: ${\n",
              "            file.lastModifiedDate ? file.lastModifiedDate.toLocaleDateString() :\n",
              "                                    'n/a'} - `));\n",
              "    const percent = span('0% done');\n",
              "    li.appendChild(percent);\n",
              "\n",
              "    outputElement.appendChild(li);\n",
              "\n",
              "    const fileDataPromise = new Promise((resolve) => {\n",
              "      const reader = new FileReader();\n",
              "      reader.onload = (e) => {\n",
              "        resolve(e.target.result);\n",
              "      };\n",
              "      reader.readAsArrayBuffer(file);\n",
              "    });\n",
              "    // Wait for the data to be ready.\n",
              "    let fileData = yield {\n",
              "      promise: fileDataPromise,\n",
              "      response: {\n",
              "        action: 'continue',\n",
              "      }\n",
              "    };\n",
              "\n",
              "    // Use a chunked sending to avoid message size limits. See b/62115660.\n",
              "    let position = 0;\n",
              "    do {\n",
              "      const length = Math.min(fileData.byteLength - position, MAX_PAYLOAD_SIZE);\n",
              "      const chunk = new Uint8Array(fileData, position, length);\n",
              "      position += length;\n",
              "\n",
              "      const base64 = btoa(String.fromCharCode.apply(null, chunk));\n",
              "      yield {\n",
              "        response: {\n",
              "          action: 'append',\n",
              "          file: file.name,\n",
              "          data: base64,\n",
              "        },\n",
              "      };\n",
              "\n",
              "      let percentDone = fileData.byteLength === 0 ?\n",
              "          100 :\n",
              "          Math.round((position / fileData.byteLength) * 100);\n",
              "      percent.textContent = `${percentDone}% done`;\n",
              "\n",
              "    } while (position < fileData.byteLength);\n",
              "  }\n",
              "\n",
              "  // All done.\n",
              "  yield {\n",
              "    response: {\n",
              "      action: 'complete',\n",
              "    }\n",
              "  };\n",
              "}\n",
              "\n",
              "scope.google = scope.google || {};\n",
              "scope.google.colab = scope.google.colab || {};\n",
              "scope.google.colab._files = {\n",
              "  _uploadFiles,\n",
              "  _uploadFilesContinue,\n",
              "};\n",
              "})(self);\n",
              "</script> "
            ]
          },
          "metadata": {}
        },
        {
          "output_type": "stream",
          "name": "stdout",
          "text": [
            "Saving tb_final.csv to tb_final (3).csv\n"
          ]
        }
      ]
    },
    {
      "cell_type": "code",
      "source": [
        "df_final=pd.read_csv('tb_final.csv')"
      ],
      "metadata": {
        "id": "ZkYyq_yI4mm8"
      },
      "execution_count": 56,
      "outputs": []
    },
    {
      "cell_type": "code",
      "source": [
        "df_final.head()"
      ],
      "metadata": {
        "id": "fXRkrS_fllNm",
        "colab": {
          "base_uri": "https://localhost:8080/",
          "height": 206
        },
        "outputId": "152a2458-6eba-4caf-f3f9-b16b267c839b"
      },
      "execution_count": 57,
      "outputs": [
        {
          "output_type": "execute_result",
          "data": {
            "text/plain": [
              "      name symbol        date        high         low        open       close  \\\n",
              "0  Bitcoin    BTC  2013-04-29  147.488007  134.000000  134.444000  144.539993   \n",
              "1  Bitcoin    BTC  2013-04-30  146.929993  134.050003  144.000000  139.000000   \n",
              "2  Bitcoin    BTC  2013-05-01  139.889999  107.720001  139.000000  116.989998   \n",
              "3  Bitcoin    BTC  2013-05-02  125.599998   92.281898  116.379997  105.209999   \n",
              "4  Bitcoin    BTC  2013-05-03  108.127998   79.099998  106.250000   97.750000   \n",
              "\n",
              "   volume     marketcap  \n",
              "0     0.0  1.603769e+09  \n",
              "1     0.0  1.542813e+09  \n",
              "2     0.0  1.298955e+09  \n",
              "3     0.0  1.168517e+09  \n",
              "4     0.0  1.085995e+09  "
            ],
            "text/html": [
              "\n",
              "  <div id=\"df-5480c42b-8b8b-4cf1-b8c5-e5028ea080fd\" class=\"colab-df-container\">\n",
              "    <div>\n",
              "<style scoped>\n",
              "    .dataframe tbody tr th:only-of-type {\n",
              "        vertical-align: middle;\n",
              "    }\n",
              "\n",
              "    .dataframe tbody tr th {\n",
              "        vertical-align: top;\n",
              "    }\n",
              "\n",
              "    .dataframe thead th {\n",
              "        text-align: right;\n",
              "    }\n",
              "</style>\n",
              "<table border=\"1\" class=\"dataframe\">\n",
              "  <thead>\n",
              "    <tr style=\"text-align: right;\">\n",
              "      <th></th>\n",
              "      <th>name</th>\n",
              "      <th>symbol</th>\n",
              "      <th>date</th>\n",
              "      <th>high</th>\n",
              "      <th>low</th>\n",
              "      <th>open</th>\n",
              "      <th>close</th>\n",
              "      <th>volume</th>\n",
              "      <th>marketcap</th>\n",
              "    </tr>\n",
              "  </thead>\n",
              "  <tbody>\n",
              "    <tr>\n",
              "      <th>0</th>\n",
              "      <td>Bitcoin</td>\n",
              "      <td>BTC</td>\n",
              "      <td>2013-04-29</td>\n",
              "      <td>147.488007</td>\n",
              "      <td>134.000000</td>\n",
              "      <td>134.444000</td>\n",
              "      <td>144.539993</td>\n",
              "      <td>0.0</td>\n",
              "      <td>1.603769e+09</td>\n",
              "    </tr>\n",
              "    <tr>\n",
              "      <th>1</th>\n",
              "      <td>Bitcoin</td>\n",
              "      <td>BTC</td>\n",
              "      <td>2013-04-30</td>\n",
              "      <td>146.929993</td>\n",
              "      <td>134.050003</td>\n",
              "      <td>144.000000</td>\n",
              "      <td>139.000000</td>\n",
              "      <td>0.0</td>\n",
              "      <td>1.542813e+09</td>\n",
              "    </tr>\n",
              "    <tr>\n",
              "      <th>2</th>\n",
              "      <td>Bitcoin</td>\n",
              "      <td>BTC</td>\n",
              "      <td>2013-05-01</td>\n",
              "      <td>139.889999</td>\n",
              "      <td>107.720001</td>\n",
              "      <td>139.000000</td>\n",
              "      <td>116.989998</td>\n",
              "      <td>0.0</td>\n",
              "      <td>1.298955e+09</td>\n",
              "    </tr>\n",
              "    <tr>\n",
              "      <th>3</th>\n",
              "      <td>Bitcoin</td>\n",
              "      <td>BTC</td>\n",
              "      <td>2013-05-02</td>\n",
              "      <td>125.599998</td>\n",
              "      <td>92.281898</td>\n",
              "      <td>116.379997</td>\n",
              "      <td>105.209999</td>\n",
              "      <td>0.0</td>\n",
              "      <td>1.168517e+09</td>\n",
              "    </tr>\n",
              "    <tr>\n",
              "      <th>4</th>\n",
              "      <td>Bitcoin</td>\n",
              "      <td>BTC</td>\n",
              "      <td>2013-05-03</td>\n",
              "      <td>108.127998</td>\n",
              "      <td>79.099998</td>\n",
              "      <td>106.250000</td>\n",
              "      <td>97.750000</td>\n",
              "      <td>0.0</td>\n",
              "      <td>1.085995e+09</td>\n",
              "    </tr>\n",
              "  </tbody>\n",
              "</table>\n",
              "</div>\n",
              "    <div class=\"colab-df-buttons\">\n",
              "\n",
              "  <div class=\"colab-df-container\">\n",
              "    <button class=\"colab-df-convert\" onclick=\"convertToInteractive('df-5480c42b-8b8b-4cf1-b8c5-e5028ea080fd')\"\n",
              "            title=\"Convert this dataframe to an interactive table.\"\n",
              "            style=\"display:none;\">\n",
              "\n",
              "  <svg xmlns=\"http://www.w3.org/2000/svg\" height=\"24px\" viewBox=\"0 -960 960 960\">\n",
              "    <path d=\"M120-120v-720h720v720H120Zm60-500h600v-160H180v160Zm220 220h160v-160H400v160Zm0 220h160v-160H400v160ZM180-400h160v-160H180v160Zm440 0h160v-160H620v160ZM180-180h160v-160H180v160Zm440 0h160v-160H620v160Z\"/>\n",
              "  </svg>\n",
              "    </button>\n",
              "\n",
              "  <style>\n",
              "    .colab-df-container {\n",
              "      display:flex;\n",
              "      gap: 12px;\n",
              "    }\n",
              "\n",
              "    .colab-df-convert {\n",
              "      background-color: #E8F0FE;\n",
              "      border: none;\n",
              "      border-radius: 50%;\n",
              "      cursor: pointer;\n",
              "      display: none;\n",
              "      fill: #1967D2;\n",
              "      height: 32px;\n",
              "      padding: 0 0 0 0;\n",
              "      width: 32px;\n",
              "    }\n",
              "\n",
              "    .colab-df-convert:hover {\n",
              "      background-color: #E2EBFA;\n",
              "      box-shadow: 0px 1px 2px rgba(60, 64, 67, 0.3), 0px 1px 3px 1px rgba(60, 64, 67, 0.15);\n",
              "      fill: #174EA6;\n",
              "    }\n",
              "\n",
              "    .colab-df-buttons div {\n",
              "      margin-bottom: 4px;\n",
              "    }\n",
              "\n",
              "    [theme=dark] .colab-df-convert {\n",
              "      background-color: #3B4455;\n",
              "      fill: #D2E3FC;\n",
              "    }\n",
              "\n",
              "    [theme=dark] .colab-df-convert:hover {\n",
              "      background-color: #434B5C;\n",
              "      box-shadow: 0px 1px 3px 1px rgba(0, 0, 0, 0.15);\n",
              "      filter: drop-shadow(0px 1px 2px rgba(0, 0, 0, 0.3));\n",
              "      fill: #FFFFFF;\n",
              "    }\n",
              "  </style>\n",
              "\n",
              "    <script>\n",
              "      const buttonEl =\n",
              "        document.querySelector('#df-5480c42b-8b8b-4cf1-b8c5-e5028ea080fd button.colab-df-convert');\n",
              "      buttonEl.style.display =\n",
              "        google.colab.kernel.accessAllowed ? 'block' : 'none';\n",
              "\n",
              "      async function convertToInteractive(key) {\n",
              "        const element = document.querySelector('#df-5480c42b-8b8b-4cf1-b8c5-e5028ea080fd');\n",
              "        const dataTable =\n",
              "          await google.colab.kernel.invokeFunction('convertToInteractive',\n",
              "                                                    [key], {});\n",
              "        if (!dataTable) return;\n",
              "\n",
              "        const docLinkHtml = 'Like what you see? Visit the ' +\n",
              "          '<a target=\"_blank\" href=https://colab.research.google.com/notebooks/data_table.ipynb>data table notebook</a>'\n",
              "          + ' to learn more about interactive tables.';\n",
              "        element.innerHTML = '';\n",
              "        dataTable['output_type'] = 'display_data';\n",
              "        await google.colab.output.renderOutput(dataTable, element);\n",
              "        const docLink = document.createElement('div');\n",
              "        docLink.innerHTML = docLinkHtml;\n",
              "        element.appendChild(docLink);\n",
              "      }\n",
              "    </script>\n",
              "  </div>\n",
              "\n",
              "\n",
              "<div id=\"df-3bb2f891-3dfb-4fd6-9846-d50d99a62d10\">\n",
              "  <button class=\"colab-df-quickchart\" onclick=\"quickchart('df-3bb2f891-3dfb-4fd6-9846-d50d99a62d10')\"\n",
              "            title=\"Suggest charts.\"\n",
              "            style=\"display:none;\">\n",
              "\n",
              "<svg xmlns=\"http://www.w3.org/2000/svg\" height=\"24px\"viewBox=\"0 0 24 24\"\n",
              "     width=\"24px\">\n",
              "    <g>\n",
              "        <path d=\"M19 3H5c-1.1 0-2 .9-2 2v14c0 1.1.9 2 2 2h14c1.1 0 2-.9 2-2V5c0-1.1-.9-2-2-2zM9 17H7v-7h2v7zm4 0h-2V7h2v10zm4 0h-2v-4h2v4z\"/>\n",
              "    </g>\n",
              "</svg>\n",
              "  </button>\n",
              "\n",
              "<style>\n",
              "  .colab-df-quickchart {\n",
              "      --bg-color: #E8F0FE;\n",
              "      --fill-color: #1967D2;\n",
              "      --hover-bg-color: #E2EBFA;\n",
              "      --hover-fill-color: #174EA6;\n",
              "      --disabled-fill-color: #AAA;\n",
              "      --disabled-bg-color: #DDD;\n",
              "  }\n",
              "\n",
              "  [theme=dark] .colab-df-quickchart {\n",
              "      --bg-color: #3B4455;\n",
              "      --fill-color: #D2E3FC;\n",
              "      --hover-bg-color: #434B5C;\n",
              "      --hover-fill-color: #FFFFFF;\n",
              "      --disabled-bg-color: #3B4455;\n",
              "      --disabled-fill-color: #666;\n",
              "  }\n",
              "\n",
              "  .colab-df-quickchart {\n",
              "    background-color: var(--bg-color);\n",
              "    border: none;\n",
              "    border-radius: 50%;\n",
              "    cursor: pointer;\n",
              "    display: none;\n",
              "    fill: var(--fill-color);\n",
              "    height: 32px;\n",
              "    padding: 0;\n",
              "    width: 32px;\n",
              "  }\n",
              "\n",
              "  .colab-df-quickchart:hover {\n",
              "    background-color: var(--hover-bg-color);\n",
              "    box-shadow: 0 1px 2px rgba(60, 64, 67, 0.3), 0 1px 3px 1px rgba(60, 64, 67, 0.15);\n",
              "    fill: var(--button-hover-fill-color);\n",
              "  }\n",
              "\n",
              "  .colab-df-quickchart-complete:disabled,\n",
              "  .colab-df-quickchart-complete:disabled:hover {\n",
              "    background-color: var(--disabled-bg-color);\n",
              "    fill: var(--disabled-fill-color);\n",
              "    box-shadow: none;\n",
              "  }\n",
              "\n",
              "  .colab-df-spinner {\n",
              "    border: 2px solid var(--fill-color);\n",
              "    border-color: transparent;\n",
              "    border-bottom-color: var(--fill-color);\n",
              "    animation:\n",
              "      spin 1s steps(1) infinite;\n",
              "  }\n",
              "\n",
              "  @keyframes spin {\n",
              "    0% {\n",
              "      border-color: transparent;\n",
              "      border-bottom-color: var(--fill-color);\n",
              "      border-left-color: var(--fill-color);\n",
              "    }\n",
              "    20% {\n",
              "      border-color: transparent;\n",
              "      border-left-color: var(--fill-color);\n",
              "      border-top-color: var(--fill-color);\n",
              "    }\n",
              "    30% {\n",
              "      border-color: transparent;\n",
              "      border-left-color: var(--fill-color);\n",
              "      border-top-color: var(--fill-color);\n",
              "      border-right-color: var(--fill-color);\n",
              "    }\n",
              "    40% {\n",
              "      border-color: transparent;\n",
              "      border-right-color: var(--fill-color);\n",
              "      border-top-color: var(--fill-color);\n",
              "    }\n",
              "    60% {\n",
              "      border-color: transparent;\n",
              "      border-right-color: var(--fill-color);\n",
              "    }\n",
              "    80% {\n",
              "      border-color: transparent;\n",
              "      border-right-color: var(--fill-color);\n",
              "      border-bottom-color: var(--fill-color);\n",
              "    }\n",
              "    90% {\n",
              "      border-color: transparent;\n",
              "      border-bottom-color: var(--fill-color);\n",
              "    }\n",
              "  }\n",
              "</style>\n",
              "\n",
              "  <script>\n",
              "    async function quickchart(key) {\n",
              "      const quickchartButtonEl =\n",
              "        document.querySelector('#' + key + ' button');\n",
              "      quickchartButtonEl.disabled = true;  // To prevent multiple clicks.\n",
              "      quickchartButtonEl.classList.add('colab-df-spinner');\n",
              "      try {\n",
              "        const charts = await google.colab.kernel.invokeFunction(\n",
              "            'suggestCharts', [key], {});\n",
              "      } catch (error) {\n",
              "        console.error('Error during call to suggestCharts:', error);\n",
              "      }\n",
              "      quickchartButtonEl.classList.remove('colab-df-spinner');\n",
              "      quickchartButtonEl.classList.add('colab-df-quickchart-complete');\n",
              "    }\n",
              "    (() => {\n",
              "      let quickchartButtonEl =\n",
              "        document.querySelector('#df-3bb2f891-3dfb-4fd6-9846-d50d99a62d10 button');\n",
              "      quickchartButtonEl.style.display =\n",
              "        google.colab.kernel.accessAllowed ? 'block' : 'none';\n",
              "    })();\n",
              "  </script>\n",
              "</div>\n",
              "    </div>\n",
              "  </div>\n"
            ]
          },
          "metadata": {},
          "execution_count": 57
        }
      ]
    },
    {
      "cell_type": "code",
      "source": [
        "df_final.shape"
      ],
      "metadata": {
        "id": "Dd6GJt-pl0SE",
        "colab": {
          "base_uri": "https://localhost:8080/"
        },
        "outputId": "9c87561d-f26e-40d4-de3e-bbff73c13f5e"
      },
      "execution_count": 58,
      "outputs": [
        {
          "output_type": "execute_result",
          "data": {
            "text/plain": [
              "(19022, 9)"
            ]
          },
          "metadata": {},
          "execution_count": 58
        }
      ]
    },
    {
      "cell_type": "markdown",
      "source": [
        "### <font color = bluelight>>>> Funções"
      ],
      "metadata": {
        "id": "0R2-Deorpm4U"
      }
    },
    {
      "cell_type": "markdown",
      "source": [
        "####>>>> func_renomea_colunas"
      ],
      "metadata": {
        "id": "0EpJfLJvqHRg"
      }
    },
    {
      "cell_type": "markdown",
      "source": [
        ">- Função utiliza para renomera as colunas do dataframe de cada criptomoeda, com o objetivo de colocar no idioma da língua portuguêsa para um melhor entendimento."
      ],
      "metadata": {
        "id": "BK7awLPiqSWx"
      }
    },
    {
      "cell_type": "code",
      "source": [
        "# renomeando as siglas das regioes usando replace e visualizando\n",
        "def func_renomea_colunas(df):\n",
        "  df.columns=['Nome','Sigla','Data','Max_Dia','Min_Dia','Valor_abertura','Valor_fechamento','Volume_negociacao','Valor_Mercado']\n",
        "  return df"
      ],
      "metadata": {
        "id": "bhylYlu6P6yk"
      },
      "execution_count": 59,
      "outputs": []
    },
    {
      "cell_type": "markdown",
      "source": [
        "---"
      ],
      "metadata": {
        "id": "WcTgwAV8uuwS"
      }
    },
    {
      "cell_type": "markdown",
      "source": [
        "####>>>> func_adicionando_colunas"
      ],
      "metadata": {
        "id": "ELDHDbVBuxEi"
      }
    },
    {
      "cell_type": "markdown",
      "source": [
        "> - Função utilizada para adicionar colunas que serão necessarias, para uma melhor análise dos dados, foi adicionado dias da semana, que serão usados para responder algumas perguntas norteadoras. Também foi ajustado o formato da data."
      ],
      "metadata": {
        "id": "bLYO9J8ju6wT"
      }
    },
    {
      "cell_type": "code",
      "source": [
        "def func_adicionando_colunas(df):\n",
        "# Certifique-se de que a coluna de data esteja no formato de data, se não estiver, converta-a\n",
        " df['Data'] = pd.to_datetime(df['Data'])\n",
        "\n",
        "\n",
        "# Mapeamento personalizado dos nomes dos dias da semana em português\n",
        " dias_da_semana = {\n",
        "    'Monday': 'Segunda-feira',\n",
        "    'Tuesday': 'Terça-feira',\n",
        "    'Wednesday': 'Quarta-feira',\n",
        "    'Thursday': 'Quinta-feira',\n",
        "    'Friday': 'Sexta-feira',\n",
        "    'Saturday': 'Sábado',\n",
        "    'Sunday': 'Domingo'\n",
        " }\n",
        "\n",
        "# Use .dt.strftime('%A') para obter o dia da semana em inglês e, em seguida, aplique o mapeamento\n",
        " df['Dia_semana'] = df['Data'].dt.strftime('%A').map(dias_da_semana)\n",
        " df.insert(3, 'Dia_semana', df.pop('Dia_semana'))\n",
        " print(df[['Data', 'Dia_semana']])\n",
        "\n"
      ],
      "metadata": {
        "id": "7HehpD5itDlY"
      },
      "execution_count": 60,
      "outputs": []
    },
    {
      "cell_type": "markdown",
      "source": [
        "---"
      ],
      "metadata": {
        "id": "opwttsTaxUuP"
      }
    },
    {
      "cell_type": "markdown",
      "source": [
        "####>>>> func_formata_data"
      ],
      "metadata": {
        "id": "4QMWxK_t4Uep"
      }
    },
    {
      "cell_type": "markdown",
      "source": [
        ">- Formatando a data para uma melhor visualização"
      ],
      "metadata": {
        "id": "LZT1ag5n4dze"
      }
    },
    {
      "cell_type": "code",
      "source": [
        "def func_formata_data(df):\n",
        "  df['Data'] = df['Data'].dt.strftime('%d/%m/%Y')\n",
        "  return df"
      ],
      "metadata": {
        "id": "EjPcacAm2EDj"
      },
      "execution_count": 61,
      "outputs": []
    },
    {
      "cell_type": "markdown",
      "source": [
        "---"
      ],
      "metadata": {
        "id": "nhEyT73f4Sbf"
      }
    },
    {
      "cell_type": "markdown",
      "metadata": {
        "id": "by1uZ9Kyx8LU"
      },
      "source": [
        "--> Para termos uma compreensão clara de nossos dados, iremos criar um dicionário de variáveis contendo as colunas do Dataset e a descrição de seu conteúdo:\n",
        "\n",
        "- O conjunto de dados possui um arquivo CSV para cada moeda. O histórico de preços está disponível diariamente a partir de 28 de abril de 2013. Este conjunto de dados contém informações históricas de preços de algumas das principais criptomoedas por capitalização de mercado.\n",
        "* > SNo: índex\n",
        "* > Name: nome da criptomoeda\n",
        "* > Symbol: simbolo da criptomoeda\n",
        "* > Date: data da observação\n",
        "* > Open: preço de abertura em determinado dia\n",
        "* > High: preço mais alto em um determinado dia\n",
        "* > Low: preço mais baixo em um determinado dia\n",
        "* > Close: preço de fechamento em determinado dia\n",
        "* > Volume: Volume de transações em um determinado dia\n",
        "* > MarketCap: Capitalização de mercado em dólares americanos"
      ]
    },
    {
      "cell_type": "markdown",
      "metadata": {
        "id": "0CnxHRuDx8LY"
      },
      "source": [
        "---"
      ]
    },
    {
      "cell_type": "markdown",
      "source": [
        "### <font color = bluelight>>>>Descrevendo os dados\n"
      ],
      "metadata": {
        "id": "tONpZYoWPE2a"
      }
    },
    {
      "cell_type": "markdown",
      "source": [
        ">-  Objetivo é identificar o formato, os tipos de variáveis e os aspctos gerais, para um melhor entendimento do problema."
      ],
      "metadata": {
        "id": "INADhLtwCqa5"
      }
    },
    {
      "cell_type": "markdown",
      "source": [
        "####<font color = bluelight>>>>> Dataset"
      ],
      "metadata": {
        "id": "AG5vuaThG5qy"
      }
    },
    {
      "cell_type": "markdown",
      "metadata": {
        "id": "ThI38Yl-x8LZ"
      },
      "source": [
        "#####>>>>> Consultando o formato do dataset"
      ]
    },
    {
      "cell_type": "markdown",
      "source": [
        "######>>>>>> Shape"
      ],
      "metadata": {
        "id": "eJY2TUmKHI_Q"
      }
    },
    {
      "cell_type": "code",
      "source": [
        "df_cripto =df_final\n",
        "df_cripto"
      ],
      "metadata": {
        "id": "hpdEf1vHBCa3",
        "colab": {
          "base_uri": "https://localhost:8080/",
          "height": 444
        },
        "outputId": "f6666953-8699-400b-d8bd-263dfb7d24d2"
      },
      "execution_count": 62,
      "outputs": [
        {
          "output_type": "execute_result",
          "data": {
            "text/plain": [
              "          name symbol        date        high         low        open  \\\n",
              "0      Bitcoin    BTC  2013-04-29  147.488007  134.000000  134.444000   \n",
              "1      Bitcoin    BTC  2013-04-30  146.929993  134.050003  144.000000   \n",
              "2      Bitcoin    BTC  2013-05-01  139.889999  107.720001  139.000000   \n",
              "3      Bitcoin    BTC  2013-05-02  125.599998   92.281898  116.379997   \n",
              "4      Bitcoin    BTC  2013-05-03  108.127998   79.099998  106.250000   \n",
              "...        ...    ...         ...         ...         ...         ...   \n",
              "19017  Stellar    XLM  2021-07-02    0.273359    0.252874    0.269148   \n",
              "19018  Stellar    XLM  2021-07-03    0.270331    0.259710    0.263304   \n",
              "19019  Stellar    XLM  2021-07-04    0.272314    0.259118    0.264254   \n",
              "19020  Stellar    XLM  2021-07-05    0.268272    0.252300    0.268272   \n",
              "19021  Stellar    XLM  2021-07-06    0.267757    0.253547    0.253931   \n",
              "\n",
              "            close        volume     marketcap  \n",
              "0      144.539993  0.000000e+00  1.603769e+09  \n",
              "1      139.000000  0.000000e+00  1.542813e+09  \n",
              "2      116.989998  0.000000e+00  1.298955e+09  \n",
              "3      105.209999  0.000000e+00  1.168517e+09  \n",
              "4       97.750000  0.000000e+00  1.085995e+09  \n",
              "...           ...           ...           ...  \n",
              "19017    0.263427  3.487793e+08  6.118631e+09  \n",
              "19018    0.264324  3.310069e+08  6.139464e+09  \n",
              "19019    0.268128  3.376196e+08  6.227819e+09  \n",
              "19020    0.254456  3.359242e+08  5.910264e+09  \n",
              "19021    0.260190  3.604261e+08  6.049985e+09  \n",
              "\n",
              "[19022 rows x 9 columns]"
            ],
            "text/html": [
              "\n",
              "  <div id=\"df-2c26ead1-2e90-41cb-9b8e-9cbb492b3bfa\" class=\"colab-df-container\">\n",
              "    <div>\n",
              "<style scoped>\n",
              "    .dataframe tbody tr th:only-of-type {\n",
              "        vertical-align: middle;\n",
              "    }\n",
              "\n",
              "    .dataframe tbody tr th {\n",
              "        vertical-align: top;\n",
              "    }\n",
              "\n",
              "    .dataframe thead th {\n",
              "        text-align: right;\n",
              "    }\n",
              "</style>\n",
              "<table border=\"1\" class=\"dataframe\">\n",
              "  <thead>\n",
              "    <tr style=\"text-align: right;\">\n",
              "      <th></th>\n",
              "      <th>name</th>\n",
              "      <th>symbol</th>\n",
              "      <th>date</th>\n",
              "      <th>high</th>\n",
              "      <th>low</th>\n",
              "      <th>open</th>\n",
              "      <th>close</th>\n",
              "      <th>volume</th>\n",
              "      <th>marketcap</th>\n",
              "    </tr>\n",
              "  </thead>\n",
              "  <tbody>\n",
              "    <tr>\n",
              "      <th>0</th>\n",
              "      <td>Bitcoin</td>\n",
              "      <td>BTC</td>\n",
              "      <td>2013-04-29</td>\n",
              "      <td>147.488007</td>\n",
              "      <td>134.000000</td>\n",
              "      <td>134.444000</td>\n",
              "      <td>144.539993</td>\n",
              "      <td>0.000000e+00</td>\n",
              "      <td>1.603769e+09</td>\n",
              "    </tr>\n",
              "    <tr>\n",
              "      <th>1</th>\n",
              "      <td>Bitcoin</td>\n",
              "      <td>BTC</td>\n",
              "      <td>2013-04-30</td>\n",
              "      <td>146.929993</td>\n",
              "      <td>134.050003</td>\n",
              "      <td>144.000000</td>\n",
              "      <td>139.000000</td>\n",
              "      <td>0.000000e+00</td>\n",
              "      <td>1.542813e+09</td>\n",
              "    </tr>\n",
              "    <tr>\n",
              "      <th>2</th>\n",
              "      <td>Bitcoin</td>\n",
              "      <td>BTC</td>\n",
              "      <td>2013-05-01</td>\n",
              "      <td>139.889999</td>\n",
              "      <td>107.720001</td>\n",
              "      <td>139.000000</td>\n",
              "      <td>116.989998</td>\n",
              "      <td>0.000000e+00</td>\n",
              "      <td>1.298955e+09</td>\n",
              "    </tr>\n",
              "    <tr>\n",
              "      <th>3</th>\n",
              "      <td>Bitcoin</td>\n",
              "      <td>BTC</td>\n",
              "      <td>2013-05-02</td>\n",
              "      <td>125.599998</td>\n",
              "      <td>92.281898</td>\n",
              "      <td>116.379997</td>\n",
              "      <td>105.209999</td>\n",
              "      <td>0.000000e+00</td>\n",
              "      <td>1.168517e+09</td>\n",
              "    </tr>\n",
              "    <tr>\n",
              "      <th>4</th>\n",
              "      <td>Bitcoin</td>\n",
              "      <td>BTC</td>\n",
              "      <td>2013-05-03</td>\n",
              "      <td>108.127998</td>\n",
              "      <td>79.099998</td>\n",
              "      <td>106.250000</td>\n",
              "      <td>97.750000</td>\n",
              "      <td>0.000000e+00</td>\n",
              "      <td>1.085995e+09</td>\n",
              "    </tr>\n",
              "    <tr>\n",
              "      <th>...</th>\n",
              "      <td>...</td>\n",
              "      <td>...</td>\n",
              "      <td>...</td>\n",
              "      <td>...</td>\n",
              "      <td>...</td>\n",
              "      <td>...</td>\n",
              "      <td>...</td>\n",
              "      <td>...</td>\n",
              "      <td>...</td>\n",
              "    </tr>\n",
              "    <tr>\n",
              "      <th>19017</th>\n",
              "      <td>Stellar</td>\n",
              "      <td>XLM</td>\n",
              "      <td>2021-07-02</td>\n",
              "      <td>0.273359</td>\n",
              "      <td>0.252874</td>\n",
              "      <td>0.269148</td>\n",
              "      <td>0.263427</td>\n",
              "      <td>3.487793e+08</td>\n",
              "      <td>6.118631e+09</td>\n",
              "    </tr>\n",
              "    <tr>\n",
              "      <th>19018</th>\n",
              "      <td>Stellar</td>\n",
              "      <td>XLM</td>\n",
              "      <td>2021-07-03</td>\n",
              "      <td>0.270331</td>\n",
              "      <td>0.259710</td>\n",
              "      <td>0.263304</td>\n",
              "      <td>0.264324</td>\n",
              "      <td>3.310069e+08</td>\n",
              "      <td>6.139464e+09</td>\n",
              "    </tr>\n",
              "    <tr>\n",
              "      <th>19019</th>\n",
              "      <td>Stellar</td>\n",
              "      <td>XLM</td>\n",
              "      <td>2021-07-04</td>\n",
              "      <td>0.272314</td>\n",
              "      <td>0.259118</td>\n",
              "      <td>0.264254</td>\n",
              "      <td>0.268128</td>\n",
              "      <td>3.376196e+08</td>\n",
              "      <td>6.227819e+09</td>\n",
              "    </tr>\n",
              "    <tr>\n",
              "      <th>19020</th>\n",
              "      <td>Stellar</td>\n",
              "      <td>XLM</td>\n",
              "      <td>2021-07-05</td>\n",
              "      <td>0.268272</td>\n",
              "      <td>0.252300</td>\n",
              "      <td>0.268272</td>\n",
              "      <td>0.254456</td>\n",
              "      <td>3.359242e+08</td>\n",
              "      <td>5.910264e+09</td>\n",
              "    </tr>\n",
              "    <tr>\n",
              "      <th>19021</th>\n",
              "      <td>Stellar</td>\n",
              "      <td>XLM</td>\n",
              "      <td>2021-07-06</td>\n",
              "      <td>0.267757</td>\n",
              "      <td>0.253547</td>\n",
              "      <td>0.253931</td>\n",
              "      <td>0.260190</td>\n",
              "      <td>3.604261e+08</td>\n",
              "      <td>6.049985e+09</td>\n",
              "    </tr>\n",
              "  </tbody>\n",
              "</table>\n",
              "<p>19022 rows × 9 columns</p>\n",
              "</div>\n",
              "    <div class=\"colab-df-buttons\">\n",
              "\n",
              "  <div class=\"colab-df-container\">\n",
              "    <button class=\"colab-df-convert\" onclick=\"convertToInteractive('df-2c26ead1-2e90-41cb-9b8e-9cbb492b3bfa')\"\n",
              "            title=\"Convert this dataframe to an interactive table.\"\n",
              "            style=\"display:none;\">\n",
              "\n",
              "  <svg xmlns=\"http://www.w3.org/2000/svg\" height=\"24px\" viewBox=\"0 -960 960 960\">\n",
              "    <path d=\"M120-120v-720h720v720H120Zm60-500h600v-160H180v160Zm220 220h160v-160H400v160Zm0 220h160v-160H400v160ZM180-400h160v-160H180v160Zm440 0h160v-160H620v160ZM180-180h160v-160H180v160Zm440 0h160v-160H620v160Z\"/>\n",
              "  </svg>\n",
              "    </button>\n",
              "\n",
              "  <style>\n",
              "    .colab-df-container {\n",
              "      display:flex;\n",
              "      gap: 12px;\n",
              "    }\n",
              "\n",
              "    .colab-df-convert {\n",
              "      background-color: #E8F0FE;\n",
              "      border: none;\n",
              "      border-radius: 50%;\n",
              "      cursor: pointer;\n",
              "      display: none;\n",
              "      fill: #1967D2;\n",
              "      height: 32px;\n",
              "      padding: 0 0 0 0;\n",
              "      width: 32px;\n",
              "    }\n",
              "\n",
              "    .colab-df-convert:hover {\n",
              "      background-color: #E2EBFA;\n",
              "      box-shadow: 0px 1px 2px rgba(60, 64, 67, 0.3), 0px 1px 3px 1px rgba(60, 64, 67, 0.15);\n",
              "      fill: #174EA6;\n",
              "    }\n",
              "\n",
              "    .colab-df-buttons div {\n",
              "      margin-bottom: 4px;\n",
              "    }\n",
              "\n",
              "    [theme=dark] .colab-df-convert {\n",
              "      background-color: #3B4455;\n",
              "      fill: #D2E3FC;\n",
              "    }\n",
              "\n",
              "    [theme=dark] .colab-df-convert:hover {\n",
              "      background-color: #434B5C;\n",
              "      box-shadow: 0px 1px 3px 1px rgba(0, 0, 0, 0.15);\n",
              "      filter: drop-shadow(0px 1px 2px rgba(0, 0, 0, 0.3));\n",
              "      fill: #FFFFFF;\n",
              "    }\n",
              "  </style>\n",
              "\n",
              "    <script>\n",
              "      const buttonEl =\n",
              "        document.querySelector('#df-2c26ead1-2e90-41cb-9b8e-9cbb492b3bfa button.colab-df-convert');\n",
              "      buttonEl.style.display =\n",
              "        google.colab.kernel.accessAllowed ? 'block' : 'none';\n",
              "\n",
              "      async function convertToInteractive(key) {\n",
              "        const element = document.querySelector('#df-2c26ead1-2e90-41cb-9b8e-9cbb492b3bfa');\n",
              "        const dataTable =\n",
              "          await google.colab.kernel.invokeFunction('convertToInteractive',\n",
              "                                                    [key], {});\n",
              "        if (!dataTable) return;\n",
              "\n",
              "        const docLinkHtml = 'Like what you see? Visit the ' +\n",
              "          '<a target=\"_blank\" href=https://colab.research.google.com/notebooks/data_table.ipynb>data table notebook</a>'\n",
              "          + ' to learn more about interactive tables.';\n",
              "        element.innerHTML = '';\n",
              "        dataTable['output_type'] = 'display_data';\n",
              "        await google.colab.output.renderOutput(dataTable, element);\n",
              "        const docLink = document.createElement('div');\n",
              "        docLink.innerHTML = docLinkHtml;\n",
              "        element.appendChild(docLink);\n",
              "      }\n",
              "    </script>\n",
              "  </div>\n",
              "\n",
              "\n",
              "<div id=\"df-fd1e84d0-2365-40dc-927c-0a0a5ad37e05\">\n",
              "  <button class=\"colab-df-quickchart\" onclick=\"quickchart('df-fd1e84d0-2365-40dc-927c-0a0a5ad37e05')\"\n",
              "            title=\"Suggest charts.\"\n",
              "            style=\"display:none;\">\n",
              "\n",
              "<svg xmlns=\"http://www.w3.org/2000/svg\" height=\"24px\"viewBox=\"0 0 24 24\"\n",
              "     width=\"24px\">\n",
              "    <g>\n",
              "        <path d=\"M19 3H5c-1.1 0-2 .9-2 2v14c0 1.1.9 2 2 2h14c1.1 0 2-.9 2-2V5c0-1.1-.9-2-2-2zM9 17H7v-7h2v7zm4 0h-2V7h2v10zm4 0h-2v-4h2v4z\"/>\n",
              "    </g>\n",
              "</svg>\n",
              "  </button>\n",
              "\n",
              "<style>\n",
              "  .colab-df-quickchart {\n",
              "      --bg-color: #E8F0FE;\n",
              "      --fill-color: #1967D2;\n",
              "      --hover-bg-color: #E2EBFA;\n",
              "      --hover-fill-color: #174EA6;\n",
              "      --disabled-fill-color: #AAA;\n",
              "      --disabled-bg-color: #DDD;\n",
              "  }\n",
              "\n",
              "  [theme=dark] .colab-df-quickchart {\n",
              "      --bg-color: #3B4455;\n",
              "      --fill-color: #D2E3FC;\n",
              "      --hover-bg-color: #434B5C;\n",
              "      --hover-fill-color: #FFFFFF;\n",
              "      --disabled-bg-color: #3B4455;\n",
              "      --disabled-fill-color: #666;\n",
              "  }\n",
              "\n",
              "  .colab-df-quickchart {\n",
              "    background-color: var(--bg-color);\n",
              "    border: none;\n",
              "    border-radius: 50%;\n",
              "    cursor: pointer;\n",
              "    display: none;\n",
              "    fill: var(--fill-color);\n",
              "    height: 32px;\n",
              "    padding: 0;\n",
              "    width: 32px;\n",
              "  }\n",
              "\n",
              "  .colab-df-quickchart:hover {\n",
              "    background-color: var(--hover-bg-color);\n",
              "    box-shadow: 0 1px 2px rgba(60, 64, 67, 0.3), 0 1px 3px 1px rgba(60, 64, 67, 0.15);\n",
              "    fill: var(--button-hover-fill-color);\n",
              "  }\n",
              "\n",
              "  .colab-df-quickchart-complete:disabled,\n",
              "  .colab-df-quickchart-complete:disabled:hover {\n",
              "    background-color: var(--disabled-bg-color);\n",
              "    fill: var(--disabled-fill-color);\n",
              "    box-shadow: none;\n",
              "  }\n",
              "\n",
              "  .colab-df-spinner {\n",
              "    border: 2px solid var(--fill-color);\n",
              "    border-color: transparent;\n",
              "    border-bottom-color: var(--fill-color);\n",
              "    animation:\n",
              "      spin 1s steps(1) infinite;\n",
              "  }\n",
              "\n",
              "  @keyframes spin {\n",
              "    0% {\n",
              "      border-color: transparent;\n",
              "      border-bottom-color: var(--fill-color);\n",
              "      border-left-color: var(--fill-color);\n",
              "    }\n",
              "    20% {\n",
              "      border-color: transparent;\n",
              "      border-left-color: var(--fill-color);\n",
              "      border-top-color: var(--fill-color);\n",
              "    }\n",
              "    30% {\n",
              "      border-color: transparent;\n",
              "      border-left-color: var(--fill-color);\n",
              "      border-top-color: var(--fill-color);\n",
              "      border-right-color: var(--fill-color);\n",
              "    }\n",
              "    40% {\n",
              "      border-color: transparent;\n",
              "      border-right-color: var(--fill-color);\n",
              "      border-top-color: var(--fill-color);\n",
              "    }\n",
              "    60% {\n",
              "      border-color: transparent;\n",
              "      border-right-color: var(--fill-color);\n",
              "    }\n",
              "    80% {\n",
              "      border-color: transparent;\n",
              "      border-right-color: var(--fill-color);\n",
              "      border-bottom-color: var(--fill-color);\n",
              "    }\n",
              "    90% {\n",
              "      border-color: transparent;\n",
              "      border-bottom-color: var(--fill-color);\n",
              "    }\n",
              "  }\n",
              "</style>\n",
              "\n",
              "  <script>\n",
              "    async function quickchart(key) {\n",
              "      const quickchartButtonEl =\n",
              "        document.querySelector('#' + key + ' button');\n",
              "      quickchartButtonEl.disabled = true;  // To prevent multiple clicks.\n",
              "      quickchartButtonEl.classList.add('colab-df-spinner');\n",
              "      try {\n",
              "        const charts = await google.colab.kernel.invokeFunction(\n",
              "            'suggestCharts', [key], {});\n",
              "      } catch (error) {\n",
              "        console.error('Error during call to suggestCharts:', error);\n",
              "      }\n",
              "      quickchartButtonEl.classList.remove('colab-df-spinner');\n",
              "      quickchartButtonEl.classList.add('colab-df-quickchart-complete');\n",
              "    }\n",
              "    (() => {\n",
              "      let quickchartButtonEl =\n",
              "        document.querySelector('#df-fd1e84d0-2365-40dc-927c-0a0a5ad37e05 button');\n",
              "      quickchartButtonEl.style.display =\n",
              "        google.colab.kernel.accessAllowed ? 'block' : 'none';\n",
              "    })();\n",
              "  </script>\n",
              "</div>\n",
              "    </div>\n",
              "  </div>\n"
            ]
          },
          "metadata": {},
          "execution_count": 62
        }
      ]
    },
    {
      "cell_type": "markdown",
      "source": [
        "> Aqui temos a informçãp que o dataset df_cripto possui:\n",
        "- 19022 --> linhas (registros)\n",
        "- 10    --> colunas"
      ],
      "metadata": {
        "id": "ZFX4uwZXVApS"
      }
    },
    {
      "cell_type": "markdown",
      "source": [
        "######>>>>>> Tipo de Dados"
      ],
      "metadata": {
        "id": "YU1Y_n4LHO4q"
      }
    },
    {
      "cell_type": "markdown",
      "metadata": {
        "id": "FfgKSOzyx8La"
      },
      "source": [
        "\n",
        ">- é importante verificarmos os tipos das variáveis que integram a base: inteiros, floats, objetos. Essa análise indica na fase de preparação dos dados a necessidade de transformações."
      ]
    },
    {
      "cell_type": "code",
      "execution_count": 63,
      "metadata": {
        "id": "P3sV_Evnx8La",
        "colab": {
          "base_uri": "https://localhost:8080/"
        },
        "outputId": "4a9b9600-ece2-4732-c7dd-ee1ca9b04674"
      },
      "outputs": [
        {
          "output_type": "stream",
          "name": "stdout",
          "text": [
            "<class 'pandas.core.frame.DataFrame'>\n",
            "RangeIndex: 19022 entries, 0 to 19021\n",
            "Data columns (total 9 columns):\n",
            " #   Column     Non-Null Count  Dtype  \n",
            "---  ------     --------------  -----  \n",
            " 0   name       19022 non-null  object \n",
            " 1   symbol     19022 non-null  object \n",
            " 2   date       19022 non-null  object \n",
            " 3   high       19022 non-null  float64\n",
            " 4   low        19022 non-null  float64\n",
            " 5   open       19022 non-null  float64\n",
            " 6   close      19022 non-null  float64\n",
            " 7   volume     19022 non-null  float64\n",
            " 8   marketcap  19022 non-null  float64\n",
            "dtypes: float64(6), object(3)\n",
            "memory usage: 1.3+ MB\n"
          ]
        }
      ],
      "source": [
        "# Ter a informaçao se existe registros nulos\n",
        "df_cripto.info()\n"
      ]
    },
    {
      "cell_type": "markdown",
      "source": [
        ">--> Em df_cripto temos float64(6), object(3), int64(1)\n",
        "- coluna 'Data' talves precise ser converitida para date\n"
      ],
      "metadata": {
        "id": "yJA8YLUAZ1EW"
      }
    },
    {
      "cell_type": "markdown",
      "source": [
        "######>>>>>> Nulos"
      ],
      "metadata": {
        "id": "eoXyywSrIvaw"
      }
    },
    {
      "cell_type": "code",
      "execution_count": 64,
      "metadata": {
        "id": "Nov_HjBRx8La",
        "colab": {
          "base_uri": "https://localhost:8080/"
        },
        "outputId": "054aab92-57ed-4aaa-c469-aabdf351e959"
      },
      "outputs": [
        {
          "output_type": "execute_result",
          "data": {
            "text/plain": [
              "name         0\n",
              "symbol       0\n",
              "date         0\n",
              "high         0\n",
              "low          0\n",
              "open         0\n",
              "close        0\n",
              "volume       0\n",
              "marketcap    0\n",
              "dtype: int64"
            ]
          },
          "metadata": {},
          "execution_count": 64
        }
      ],
      "source": [
        "# Verificando quantidade de valores nulos\n",
        "df_cripto.isnull().sum()"
      ]
    },
    {
      "cell_type": "markdown",
      "metadata": {
        "id": "InblTNYox8La"
      },
      "source": [
        "--> Na analise de df_cripto, não temos valores nulos em nenhuma coluna."
      ]
    },
    {
      "cell_type": "markdown",
      "source": [
        "##### >>>>> Limpando os Dados\n"
      ],
      "metadata": {
        "id": "Ir_8QbjjJic0"
      }
    },
    {
      "cell_type": "markdown",
      "metadata": {
        "id": "2-rOtsJix8Lb"
      },
      "source": [
        "---"
      ]
    },
    {
      "cell_type": "markdown",
      "source": [
        "> - Objetivo é identificar o que será necessário no projeto, para uma análise precisa, vamos retirar informações que não serão usadas ou que atrapalhem na vizualização dos insights."
      ],
      "metadata": {
        "id": "ao4oPqMkOPc-"
      }
    },
    {
      "cell_type": "markdown",
      "source": [
        "######>>>>>> Dropando"
      ],
      "metadata": {
        "id": "ifZUkmD_L5pJ"
      }
    },
    {
      "cell_type": "code",
      "source": [
        "df_cripto.head()"
      ],
      "metadata": {
        "id": "6V7Q0Wzo3v8o",
        "colab": {
          "base_uri": "https://localhost:8080/",
          "height": 226
        },
        "outputId": "cd8f5dd6-ce82-4602-8f5a-91a1ff89eabc"
      },
      "execution_count": 65,
      "outputs": [
        {
          "output_type": "execute_result",
          "data": {
            "text/plain": [
              "      name symbol        date        high         low        open       close  \\\n",
              "0  Bitcoin    BTC  2013-04-29  147.488007  134.000000  134.444000  144.539993   \n",
              "1  Bitcoin    BTC  2013-04-30  146.929993  134.050003  144.000000  139.000000   \n",
              "2  Bitcoin    BTC  2013-05-01  139.889999  107.720001  139.000000  116.989998   \n",
              "3  Bitcoin    BTC  2013-05-02  125.599998   92.281898  116.379997  105.209999   \n",
              "4  Bitcoin    BTC  2013-05-03  108.127998   79.099998  106.250000   97.750000   \n",
              "\n",
              "   volume     marketcap  \n",
              "0     0.0  1.603769e+09  \n",
              "1     0.0  1.542813e+09  \n",
              "2     0.0  1.298955e+09  \n",
              "3     0.0  1.168517e+09  \n",
              "4     0.0  1.085995e+09  "
            ],
            "text/html": [
              "\n",
              "  <div id=\"df-5b60fc8e-7a12-449c-a6ba-b8cf9ede4465\" class=\"colab-df-container\">\n",
              "    <div>\n",
              "<style scoped>\n",
              "    .dataframe tbody tr th:only-of-type {\n",
              "        vertical-align: middle;\n",
              "    }\n",
              "\n",
              "    .dataframe tbody tr th {\n",
              "        vertical-align: top;\n",
              "    }\n",
              "\n",
              "    .dataframe thead th {\n",
              "        text-align: right;\n",
              "    }\n",
              "</style>\n",
              "<table border=\"1\" class=\"dataframe\">\n",
              "  <thead>\n",
              "    <tr style=\"text-align: right;\">\n",
              "      <th></th>\n",
              "      <th>name</th>\n",
              "      <th>symbol</th>\n",
              "      <th>date</th>\n",
              "      <th>high</th>\n",
              "      <th>low</th>\n",
              "      <th>open</th>\n",
              "      <th>close</th>\n",
              "      <th>volume</th>\n",
              "      <th>marketcap</th>\n",
              "    </tr>\n",
              "  </thead>\n",
              "  <tbody>\n",
              "    <tr>\n",
              "      <th>0</th>\n",
              "      <td>Bitcoin</td>\n",
              "      <td>BTC</td>\n",
              "      <td>2013-04-29</td>\n",
              "      <td>147.488007</td>\n",
              "      <td>134.000000</td>\n",
              "      <td>134.444000</td>\n",
              "      <td>144.539993</td>\n",
              "      <td>0.0</td>\n",
              "      <td>1.603769e+09</td>\n",
              "    </tr>\n",
              "    <tr>\n",
              "      <th>1</th>\n",
              "      <td>Bitcoin</td>\n",
              "      <td>BTC</td>\n",
              "      <td>2013-04-30</td>\n",
              "      <td>146.929993</td>\n",
              "      <td>134.050003</td>\n",
              "      <td>144.000000</td>\n",
              "      <td>139.000000</td>\n",
              "      <td>0.0</td>\n",
              "      <td>1.542813e+09</td>\n",
              "    </tr>\n",
              "    <tr>\n",
              "      <th>2</th>\n",
              "      <td>Bitcoin</td>\n",
              "      <td>BTC</td>\n",
              "      <td>2013-05-01</td>\n",
              "      <td>139.889999</td>\n",
              "      <td>107.720001</td>\n",
              "      <td>139.000000</td>\n",
              "      <td>116.989998</td>\n",
              "      <td>0.0</td>\n",
              "      <td>1.298955e+09</td>\n",
              "    </tr>\n",
              "    <tr>\n",
              "      <th>3</th>\n",
              "      <td>Bitcoin</td>\n",
              "      <td>BTC</td>\n",
              "      <td>2013-05-02</td>\n",
              "      <td>125.599998</td>\n",
              "      <td>92.281898</td>\n",
              "      <td>116.379997</td>\n",
              "      <td>105.209999</td>\n",
              "      <td>0.0</td>\n",
              "      <td>1.168517e+09</td>\n",
              "    </tr>\n",
              "    <tr>\n",
              "      <th>4</th>\n",
              "      <td>Bitcoin</td>\n",
              "      <td>BTC</td>\n",
              "      <td>2013-05-03</td>\n",
              "      <td>108.127998</td>\n",
              "      <td>79.099998</td>\n",
              "      <td>106.250000</td>\n",
              "      <td>97.750000</td>\n",
              "      <td>0.0</td>\n",
              "      <td>1.085995e+09</td>\n",
              "    </tr>\n",
              "  </tbody>\n",
              "</table>\n",
              "</div>\n",
              "    <div class=\"colab-df-buttons\">\n",
              "\n",
              "  <div class=\"colab-df-container\">\n",
              "    <button class=\"colab-df-convert\" onclick=\"convertToInteractive('df-5b60fc8e-7a12-449c-a6ba-b8cf9ede4465')\"\n",
              "            title=\"Convert this dataframe to an interactive table.\"\n",
              "            style=\"display:none;\">\n",
              "\n",
              "  <svg xmlns=\"http://www.w3.org/2000/svg\" height=\"24px\" viewBox=\"0 -960 960 960\">\n",
              "    <path d=\"M120-120v-720h720v720H120Zm60-500h600v-160H180v160Zm220 220h160v-160H400v160Zm0 220h160v-160H400v160ZM180-400h160v-160H180v160Zm440 0h160v-160H620v160ZM180-180h160v-160H180v160Zm440 0h160v-160H620v160Z\"/>\n",
              "  </svg>\n",
              "    </button>\n",
              "\n",
              "  <style>\n",
              "    .colab-df-container {\n",
              "      display:flex;\n",
              "      gap: 12px;\n",
              "    }\n",
              "\n",
              "    .colab-df-convert {\n",
              "      background-color: #E8F0FE;\n",
              "      border: none;\n",
              "      border-radius: 50%;\n",
              "      cursor: pointer;\n",
              "      display: none;\n",
              "      fill: #1967D2;\n",
              "      height: 32px;\n",
              "      padding: 0 0 0 0;\n",
              "      width: 32px;\n",
              "    }\n",
              "\n",
              "    .colab-df-convert:hover {\n",
              "      background-color: #E2EBFA;\n",
              "      box-shadow: 0px 1px 2px rgba(60, 64, 67, 0.3), 0px 1px 3px 1px rgba(60, 64, 67, 0.15);\n",
              "      fill: #174EA6;\n",
              "    }\n",
              "\n",
              "    .colab-df-buttons div {\n",
              "      margin-bottom: 4px;\n",
              "    }\n",
              "\n",
              "    [theme=dark] .colab-df-convert {\n",
              "      background-color: #3B4455;\n",
              "      fill: #D2E3FC;\n",
              "    }\n",
              "\n",
              "    [theme=dark] .colab-df-convert:hover {\n",
              "      background-color: #434B5C;\n",
              "      box-shadow: 0px 1px 3px 1px rgba(0, 0, 0, 0.15);\n",
              "      filter: drop-shadow(0px 1px 2px rgba(0, 0, 0, 0.3));\n",
              "      fill: #FFFFFF;\n",
              "    }\n",
              "  </style>\n",
              "\n",
              "    <script>\n",
              "      const buttonEl =\n",
              "        document.querySelector('#df-5b60fc8e-7a12-449c-a6ba-b8cf9ede4465 button.colab-df-convert');\n",
              "      buttonEl.style.display =\n",
              "        google.colab.kernel.accessAllowed ? 'block' : 'none';\n",
              "\n",
              "      async function convertToInteractive(key) {\n",
              "        const element = document.querySelector('#df-5b60fc8e-7a12-449c-a6ba-b8cf9ede4465');\n",
              "        const dataTable =\n",
              "          await google.colab.kernel.invokeFunction('convertToInteractive',\n",
              "                                                    [key], {});\n",
              "        if (!dataTable) return;\n",
              "\n",
              "        const docLinkHtml = 'Like what you see? Visit the ' +\n",
              "          '<a target=\"_blank\" href=https://colab.research.google.com/notebooks/data_table.ipynb>data table notebook</a>'\n",
              "          + ' to learn more about interactive tables.';\n",
              "        element.innerHTML = '';\n",
              "        dataTable['output_type'] = 'display_data';\n",
              "        await google.colab.output.renderOutput(dataTable, element);\n",
              "        const docLink = document.createElement('div');\n",
              "        docLink.innerHTML = docLinkHtml;\n",
              "        element.appendChild(docLink);\n",
              "      }\n",
              "    </script>\n",
              "  </div>\n",
              "\n",
              "\n",
              "<div id=\"df-8fba3f2a-fd2c-44c0-9e8d-fef613fb63e5\">\n",
              "  <button class=\"colab-df-quickchart\" onclick=\"quickchart('df-8fba3f2a-fd2c-44c0-9e8d-fef613fb63e5')\"\n",
              "            title=\"Suggest charts.\"\n",
              "            style=\"display:none;\">\n",
              "\n",
              "<svg xmlns=\"http://www.w3.org/2000/svg\" height=\"24px\"viewBox=\"0 0 24 24\"\n",
              "     width=\"24px\">\n",
              "    <g>\n",
              "        <path d=\"M19 3H5c-1.1 0-2 .9-2 2v14c0 1.1.9 2 2 2h14c1.1 0 2-.9 2-2V5c0-1.1-.9-2-2-2zM9 17H7v-7h2v7zm4 0h-2V7h2v10zm4 0h-2v-4h2v4z\"/>\n",
              "    </g>\n",
              "</svg>\n",
              "  </button>\n",
              "\n",
              "<style>\n",
              "  .colab-df-quickchart {\n",
              "      --bg-color: #E8F0FE;\n",
              "      --fill-color: #1967D2;\n",
              "      --hover-bg-color: #E2EBFA;\n",
              "      --hover-fill-color: #174EA6;\n",
              "      --disabled-fill-color: #AAA;\n",
              "      --disabled-bg-color: #DDD;\n",
              "  }\n",
              "\n",
              "  [theme=dark] .colab-df-quickchart {\n",
              "      --bg-color: #3B4455;\n",
              "      --fill-color: #D2E3FC;\n",
              "      --hover-bg-color: #434B5C;\n",
              "      --hover-fill-color: #FFFFFF;\n",
              "      --disabled-bg-color: #3B4455;\n",
              "      --disabled-fill-color: #666;\n",
              "  }\n",
              "\n",
              "  .colab-df-quickchart {\n",
              "    background-color: var(--bg-color);\n",
              "    border: none;\n",
              "    border-radius: 50%;\n",
              "    cursor: pointer;\n",
              "    display: none;\n",
              "    fill: var(--fill-color);\n",
              "    height: 32px;\n",
              "    padding: 0;\n",
              "    width: 32px;\n",
              "  }\n",
              "\n",
              "  .colab-df-quickchart:hover {\n",
              "    background-color: var(--hover-bg-color);\n",
              "    box-shadow: 0 1px 2px rgba(60, 64, 67, 0.3), 0 1px 3px 1px rgba(60, 64, 67, 0.15);\n",
              "    fill: var(--button-hover-fill-color);\n",
              "  }\n",
              "\n",
              "  .colab-df-quickchart-complete:disabled,\n",
              "  .colab-df-quickchart-complete:disabled:hover {\n",
              "    background-color: var(--disabled-bg-color);\n",
              "    fill: var(--disabled-fill-color);\n",
              "    box-shadow: none;\n",
              "  }\n",
              "\n",
              "  .colab-df-spinner {\n",
              "    border: 2px solid var(--fill-color);\n",
              "    border-color: transparent;\n",
              "    border-bottom-color: var(--fill-color);\n",
              "    animation:\n",
              "      spin 1s steps(1) infinite;\n",
              "  }\n",
              "\n",
              "  @keyframes spin {\n",
              "    0% {\n",
              "      border-color: transparent;\n",
              "      border-bottom-color: var(--fill-color);\n",
              "      border-left-color: var(--fill-color);\n",
              "    }\n",
              "    20% {\n",
              "      border-color: transparent;\n",
              "      border-left-color: var(--fill-color);\n",
              "      border-top-color: var(--fill-color);\n",
              "    }\n",
              "    30% {\n",
              "      border-color: transparent;\n",
              "      border-left-color: var(--fill-color);\n",
              "      border-top-color: var(--fill-color);\n",
              "      border-right-color: var(--fill-color);\n",
              "    }\n",
              "    40% {\n",
              "      border-color: transparent;\n",
              "      border-right-color: var(--fill-color);\n",
              "      border-top-color: var(--fill-color);\n",
              "    }\n",
              "    60% {\n",
              "      border-color: transparent;\n",
              "      border-right-color: var(--fill-color);\n",
              "    }\n",
              "    80% {\n",
              "      border-color: transparent;\n",
              "      border-right-color: var(--fill-color);\n",
              "      border-bottom-color: var(--fill-color);\n",
              "    }\n",
              "    90% {\n",
              "      border-color: transparent;\n",
              "      border-bottom-color: var(--fill-color);\n",
              "    }\n",
              "  }\n",
              "</style>\n",
              "\n",
              "  <script>\n",
              "    async function quickchart(key) {\n",
              "      const quickchartButtonEl =\n",
              "        document.querySelector('#' + key + ' button');\n",
              "      quickchartButtonEl.disabled = true;  // To prevent multiple clicks.\n",
              "      quickchartButtonEl.classList.add('colab-df-spinner');\n",
              "      try {\n",
              "        const charts = await google.colab.kernel.invokeFunction(\n",
              "            'suggestCharts', [key], {});\n",
              "      } catch (error) {\n",
              "        console.error('Error during call to suggestCharts:', error);\n",
              "      }\n",
              "      quickchartButtonEl.classList.remove('colab-df-spinner');\n",
              "      quickchartButtonEl.classList.add('colab-df-quickchart-complete');\n",
              "    }\n",
              "    (() => {\n",
              "      let quickchartButtonEl =\n",
              "        document.querySelector('#df-8fba3f2a-fd2c-44c0-9e8d-fef613fb63e5 button');\n",
              "      quickchartButtonEl.style.display =\n",
              "        google.colab.kernel.accessAllowed ? 'block' : 'none';\n",
              "    })();\n",
              "  </script>\n",
              "</div>\n",
              "    </div>\n",
              "  </div>\n"
            ]
          },
          "metadata": {},
          "execution_count": 65
        }
      ]
    },
    {
      "cell_type": "markdown",
      "source": [
        "#####>>>>> Ajustando os Dados"
      ],
      "metadata": {
        "id": "zpyaQxUmNyti"
      }
    },
    {
      "cell_type": "markdown",
      "source": [
        "######>>>>>> Renomeando Colunas"
      ],
      "metadata": {
        "id": "rU7Q8cE9Oa4G"
      }
    },
    {
      "cell_type": "markdown",
      "source": [
        "> - Renomeando as colunas para um melhor entendimento"
      ],
      "metadata": {
        "id": "C-O8dPKBrGZ2"
      }
    },
    {
      "cell_type": "code",
      "source": [
        "# renomeando as siglas das regioes usando replace e visualizando\n",
        "func_renomea_colunas(df_cripto)"
      ],
      "metadata": {
        "id": "uO-VkFZ1o6E9",
        "colab": {
          "base_uri": "https://localhost:8080/",
          "height": 424
        },
        "outputId": "e006d99d-4f7c-4092-d4f5-d956822a747c"
      },
      "execution_count": 66,
      "outputs": [
        {
          "output_type": "execute_result",
          "data": {
            "text/plain": [
              "          Nome Sigla        Data     Max_Dia     Min_Dia  Valor_abertura  \\\n",
              "0      Bitcoin   BTC  2013-04-29  147.488007  134.000000      134.444000   \n",
              "1      Bitcoin   BTC  2013-04-30  146.929993  134.050003      144.000000   \n",
              "2      Bitcoin   BTC  2013-05-01  139.889999  107.720001      139.000000   \n",
              "3      Bitcoin   BTC  2013-05-02  125.599998   92.281898      116.379997   \n",
              "4      Bitcoin   BTC  2013-05-03  108.127998   79.099998      106.250000   \n",
              "...        ...   ...         ...         ...         ...             ...   \n",
              "19017  Stellar   XLM  2021-07-02    0.273359    0.252874        0.269148   \n",
              "19018  Stellar   XLM  2021-07-03    0.270331    0.259710        0.263304   \n",
              "19019  Stellar   XLM  2021-07-04    0.272314    0.259118        0.264254   \n",
              "19020  Stellar   XLM  2021-07-05    0.268272    0.252300        0.268272   \n",
              "19021  Stellar   XLM  2021-07-06    0.267757    0.253547        0.253931   \n",
              "\n",
              "       Valor_fechamento  Volume_negociacao  Valor_Mercado  \n",
              "0            144.539993       0.000000e+00   1.603769e+09  \n",
              "1            139.000000       0.000000e+00   1.542813e+09  \n",
              "2            116.989998       0.000000e+00   1.298955e+09  \n",
              "3            105.209999       0.000000e+00   1.168517e+09  \n",
              "4             97.750000       0.000000e+00   1.085995e+09  \n",
              "...                 ...                ...            ...  \n",
              "19017          0.263427       3.487793e+08   6.118631e+09  \n",
              "19018          0.264324       3.310069e+08   6.139464e+09  \n",
              "19019          0.268128       3.376196e+08   6.227819e+09  \n",
              "19020          0.254456       3.359242e+08   5.910264e+09  \n",
              "19021          0.260190       3.604261e+08   6.049985e+09  \n",
              "\n",
              "[19022 rows x 9 columns]"
            ],
            "text/html": [
              "\n",
              "  <div id=\"df-e59e92ad-2cf3-4e3f-86a4-17dfa972029f\" class=\"colab-df-container\">\n",
              "    <div>\n",
              "<style scoped>\n",
              "    .dataframe tbody tr th:only-of-type {\n",
              "        vertical-align: middle;\n",
              "    }\n",
              "\n",
              "    .dataframe tbody tr th {\n",
              "        vertical-align: top;\n",
              "    }\n",
              "\n",
              "    .dataframe thead th {\n",
              "        text-align: right;\n",
              "    }\n",
              "</style>\n",
              "<table border=\"1\" class=\"dataframe\">\n",
              "  <thead>\n",
              "    <tr style=\"text-align: right;\">\n",
              "      <th></th>\n",
              "      <th>Nome</th>\n",
              "      <th>Sigla</th>\n",
              "      <th>Data</th>\n",
              "      <th>Max_Dia</th>\n",
              "      <th>Min_Dia</th>\n",
              "      <th>Valor_abertura</th>\n",
              "      <th>Valor_fechamento</th>\n",
              "      <th>Volume_negociacao</th>\n",
              "      <th>Valor_Mercado</th>\n",
              "    </tr>\n",
              "  </thead>\n",
              "  <tbody>\n",
              "    <tr>\n",
              "      <th>0</th>\n",
              "      <td>Bitcoin</td>\n",
              "      <td>BTC</td>\n",
              "      <td>2013-04-29</td>\n",
              "      <td>147.488007</td>\n",
              "      <td>134.000000</td>\n",
              "      <td>134.444000</td>\n",
              "      <td>144.539993</td>\n",
              "      <td>0.000000e+00</td>\n",
              "      <td>1.603769e+09</td>\n",
              "    </tr>\n",
              "    <tr>\n",
              "      <th>1</th>\n",
              "      <td>Bitcoin</td>\n",
              "      <td>BTC</td>\n",
              "      <td>2013-04-30</td>\n",
              "      <td>146.929993</td>\n",
              "      <td>134.050003</td>\n",
              "      <td>144.000000</td>\n",
              "      <td>139.000000</td>\n",
              "      <td>0.000000e+00</td>\n",
              "      <td>1.542813e+09</td>\n",
              "    </tr>\n",
              "    <tr>\n",
              "      <th>2</th>\n",
              "      <td>Bitcoin</td>\n",
              "      <td>BTC</td>\n",
              "      <td>2013-05-01</td>\n",
              "      <td>139.889999</td>\n",
              "      <td>107.720001</td>\n",
              "      <td>139.000000</td>\n",
              "      <td>116.989998</td>\n",
              "      <td>0.000000e+00</td>\n",
              "      <td>1.298955e+09</td>\n",
              "    </tr>\n",
              "    <tr>\n",
              "      <th>3</th>\n",
              "      <td>Bitcoin</td>\n",
              "      <td>BTC</td>\n",
              "      <td>2013-05-02</td>\n",
              "      <td>125.599998</td>\n",
              "      <td>92.281898</td>\n",
              "      <td>116.379997</td>\n",
              "      <td>105.209999</td>\n",
              "      <td>0.000000e+00</td>\n",
              "      <td>1.168517e+09</td>\n",
              "    </tr>\n",
              "    <tr>\n",
              "      <th>4</th>\n",
              "      <td>Bitcoin</td>\n",
              "      <td>BTC</td>\n",
              "      <td>2013-05-03</td>\n",
              "      <td>108.127998</td>\n",
              "      <td>79.099998</td>\n",
              "      <td>106.250000</td>\n",
              "      <td>97.750000</td>\n",
              "      <td>0.000000e+00</td>\n",
              "      <td>1.085995e+09</td>\n",
              "    </tr>\n",
              "    <tr>\n",
              "      <th>...</th>\n",
              "      <td>...</td>\n",
              "      <td>...</td>\n",
              "      <td>...</td>\n",
              "      <td>...</td>\n",
              "      <td>...</td>\n",
              "      <td>...</td>\n",
              "      <td>...</td>\n",
              "      <td>...</td>\n",
              "      <td>...</td>\n",
              "    </tr>\n",
              "    <tr>\n",
              "      <th>19017</th>\n",
              "      <td>Stellar</td>\n",
              "      <td>XLM</td>\n",
              "      <td>2021-07-02</td>\n",
              "      <td>0.273359</td>\n",
              "      <td>0.252874</td>\n",
              "      <td>0.269148</td>\n",
              "      <td>0.263427</td>\n",
              "      <td>3.487793e+08</td>\n",
              "      <td>6.118631e+09</td>\n",
              "    </tr>\n",
              "    <tr>\n",
              "      <th>19018</th>\n",
              "      <td>Stellar</td>\n",
              "      <td>XLM</td>\n",
              "      <td>2021-07-03</td>\n",
              "      <td>0.270331</td>\n",
              "      <td>0.259710</td>\n",
              "      <td>0.263304</td>\n",
              "      <td>0.264324</td>\n",
              "      <td>3.310069e+08</td>\n",
              "      <td>6.139464e+09</td>\n",
              "    </tr>\n",
              "    <tr>\n",
              "      <th>19019</th>\n",
              "      <td>Stellar</td>\n",
              "      <td>XLM</td>\n",
              "      <td>2021-07-04</td>\n",
              "      <td>0.272314</td>\n",
              "      <td>0.259118</td>\n",
              "      <td>0.264254</td>\n",
              "      <td>0.268128</td>\n",
              "      <td>3.376196e+08</td>\n",
              "      <td>6.227819e+09</td>\n",
              "    </tr>\n",
              "    <tr>\n",
              "      <th>19020</th>\n",
              "      <td>Stellar</td>\n",
              "      <td>XLM</td>\n",
              "      <td>2021-07-05</td>\n",
              "      <td>0.268272</td>\n",
              "      <td>0.252300</td>\n",
              "      <td>0.268272</td>\n",
              "      <td>0.254456</td>\n",
              "      <td>3.359242e+08</td>\n",
              "      <td>5.910264e+09</td>\n",
              "    </tr>\n",
              "    <tr>\n",
              "      <th>19021</th>\n",
              "      <td>Stellar</td>\n",
              "      <td>XLM</td>\n",
              "      <td>2021-07-06</td>\n",
              "      <td>0.267757</td>\n",
              "      <td>0.253547</td>\n",
              "      <td>0.253931</td>\n",
              "      <td>0.260190</td>\n",
              "      <td>3.604261e+08</td>\n",
              "      <td>6.049985e+09</td>\n",
              "    </tr>\n",
              "  </tbody>\n",
              "</table>\n",
              "<p>19022 rows × 9 columns</p>\n",
              "</div>\n",
              "    <div class=\"colab-df-buttons\">\n",
              "\n",
              "  <div class=\"colab-df-container\">\n",
              "    <button class=\"colab-df-convert\" onclick=\"convertToInteractive('df-e59e92ad-2cf3-4e3f-86a4-17dfa972029f')\"\n",
              "            title=\"Convert this dataframe to an interactive table.\"\n",
              "            style=\"display:none;\">\n",
              "\n",
              "  <svg xmlns=\"http://www.w3.org/2000/svg\" height=\"24px\" viewBox=\"0 -960 960 960\">\n",
              "    <path d=\"M120-120v-720h720v720H120Zm60-500h600v-160H180v160Zm220 220h160v-160H400v160Zm0 220h160v-160H400v160ZM180-400h160v-160H180v160Zm440 0h160v-160H620v160ZM180-180h160v-160H180v160Zm440 0h160v-160H620v160Z\"/>\n",
              "  </svg>\n",
              "    </button>\n",
              "\n",
              "  <style>\n",
              "    .colab-df-container {\n",
              "      display:flex;\n",
              "      gap: 12px;\n",
              "    }\n",
              "\n",
              "    .colab-df-convert {\n",
              "      background-color: #E8F0FE;\n",
              "      border: none;\n",
              "      border-radius: 50%;\n",
              "      cursor: pointer;\n",
              "      display: none;\n",
              "      fill: #1967D2;\n",
              "      height: 32px;\n",
              "      padding: 0 0 0 0;\n",
              "      width: 32px;\n",
              "    }\n",
              "\n",
              "    .colab-df-convert:hover {\n",
              "      background-color: #E2EBFA;\n",
              "      box-shadow: 0px 1px 2px rgba(60, 64, 67, 0.3), 0px 1px 3px 1px rgba(60, 64, 67, 0.15);\n",
              "      fill: #174EA6;\n",
              "    }\n",
              "\n",
              "    .colab-df-buttons div {\n",
              "      margin-bottom: 4px;\n",
              "    }\n",
              "\n",
              "    [theme=dark] .colab-df-convert {\n",
              "      background-color: #3B4455;\n",
              "      fill: #D2E3FC;\n",
              "    }\n",
              "\n",
              "    [theme=dark] .colab-df-convert:hover {\n",
              "      background-color: #434B5C;\n",
              "      box-shadow: 0px 1px 3px 1px rgba(0, 0, 0, 0.15);\n",
              "      filter: drop-shadow(0px 1px 2px rgba(0, 0, 0, 0.3));\n",
              "      fill: #FFFFFF;\n",
              "    }\n",
              "  </style>\n",
              "\n",
              "    <script>\n",
              "      const buttonEl =\n",
              "        document.querySelector('#df-e59e92ad-2cf3-4e3f-86a4-17dfa972029f button.colab-df-convert');\n",
              "      buttonEl.style.display =\n",
              "        google.colab.kernel.accessAllowed ? 'block' : 'none';\n",
              "\n",
              "      async function convertToInteractive(key) {\n",
              "        const element = document.querySelector('#df-e59e92ad-2cf3-4e3f-86a4-17dfa972029f');\n",
              "        const dataTable =\n",
              "          await google.colab.kernel.invokeFunction('convertToInteractive',\n",
              "                                                    [key], {});\n",
              "        if (!dataTable) return;\n",
              "\n",
              "        const docLinkHtml = 'Like what you see? Visit the ' +\n",
              "          '<a target=\"_blank\" href=https://colab.research.google.com/notebooks/data_table.ipynb>data table notebook</a>'\n",
              "          + ' to learn more about interactive tables.';\n",
              "        element.innerHTML = '';\n",
              "        dataTable['output_type'] = 'display_data';\n",
              "        await google.colab.output.renderOutput(dataTable, element);\n",
              "        const docLink = document.createElement('div');\n",
              "        docLink.innerHTML = docLinkHtml;\n",
              "        element.appendChild(docLink);\n",
              "      }\n",
              "    </script>\n",
              "  </div>\n",
              "\n",
              "\n",
              "<div id=\"df-44b373e8-8b07-4f1f-ab5f-fb22ff987b6b\">\n",
              "  <button class=\"colab-df-quickchart\" onclick=\"quickchart('df-44b373e8-8b07-4f1f-ab5f-fb22ff987b6b')\"\n",
              "            title=\"Suggest charts.\"\n",
              "            style=\"display:none;\">\n",
              "\n",
              "<svg xmlns=\"http://www.w3.org/2000/svg\" height=\"24px\"viewBox=\"0 0 24 24\"\n",
              "     width=\"24px\">\n",
              "    <g>\n",
              "        <path d=\"M19 3H5c-1.1 0-2 .9-2 2v14c0 1.1.9 2 2 2h14c1.1 0 2-.9 2-2V5c0-1.1-.9-2-2-2zM9 17H7v-7h2v7zm4 0h-2V7h2v10zm4 0h-2v-4h2v4z\"/>\n",
              "    </g>\n",
              "</svg>\n",
              "  </button>\n",
              "\n",
              "<style>\n",
              "  .colab-df-quickchart {\n",
              "      --bg-color: #E8F0FE;\n",
              "      --fill-color: #1967D2;\n",
              "      --hover-bg-color: #E2EBFA;\n",
              "      --hover-fill-color: #174EA6;\n",
              "      --disabled-fill-color: #AAA;\n",
              "      --disabled-bg-color: #DDD;\n",
              "  }\n",
              "\n",
              "  [theme=dark] .colab-df-quickchart {\n",
              "      --bg-color: #3B4455;\n",
              "      --fill-color: #D2E3FC;\n",
              "      --hover-bg-color: #434B5C;\n",
              "      --hover-fill-color: #FFFFFF;\n",
              "      --disabled-bg-color: #3B4455;\n",
              "      --disabled-fill-color: #666;\n",
              "  }\n",
              "\n",
              "  .colab-df-quickchart {\n",
              "    background-color: var(--bg-color);\n",
              "    border: none;\n",
              "    border-radius: 50%;\n",
              "    cursor: pointer;\n",
              "    display: none;\n",
              "    fill: var(--fill-color);\n",
              "    height: 32px;\n",
              "    padding: 0;\n",
              "    width: 32px;\n",
              "  }\n",
              "\n",
              "  .colab-df-quickchart:hover {\n",
              "    background-color: var(--hover-bg-color);\n",
              "    box-shadow: 0 1px 2px rgba(60, 64, 67, 0.3), 0 1px 3px 1px rgba(60, 64, 67, 0.15);\n",
              "    fill: var(--button-hover-fill-color);\n",
              "  }\n",
              "\n",
              "  .colab-df-quickchart-complete:disabled,\n",
              "  .colab-df-quickchart-complete:disabled:hover {\n",
              "    background-color: var(--disabled-bg-color);\n",
              "    fill: var(--disabled-fill-color);\n",
              "    box-shadow: none;\n",
              "  }\n",
              "\n",
              "  .colab-df-spinner {\n",
              "    border: 2px solid var(--fill-color);\n",
              "    border-color: transparent;\n",
              "    border-bottom-color: var(--fill-color);\n",
              "    animation:\n",
              "      spin 1s steps(1) infinite;\n",
              "  }\n",
              "\n",
              "  @keyframes spin {\n",
              "    0% {\n",
              "      border-color: transparent;\n",
              "      border-bottom-color: var(--fill-color);\n",
              "      border-left-color: var(--fill-color);\n",
              "    }\n",
              "    20% {\n",
              "      border-color: transparent;\n",
              "      border-left-color: var(--fill-color);\n",
              "      border-top-color: var(--fill-color);\n",
              "    }\n",
              "    30% {\n",
              "      border-color: transparent;\n",
              "      border-left-color: var(--fill-color);\n",
              "      border-top-color: var(--fill-color);\n",
              "      border-right-color: var(--fill-color);\n",
              "    }\n",
              "    40% {\n",
              "      border-color: transparent;\n",
              "      border-right-color: var(--fill-color);\n",
              "      border-top-color: var(--fill-color);\n",
              "    }\n",
              "    60% {\n",
              "      border-color: transparent;\n",
              "      border-right-color: var(--fill-color);\n",
              "    }\n",
              "    80% {\n",
              "      border-color: transparent;\n",
              "      border-right-color: var(--fill-color);\n",
              "      border-bottom-color: var(--fill-color);\n",
              "    }\n",
              "    90% {\n",
              "      border-color: transparent;\n",
              "      border-bottom-color: var(--fill-color);\n",
              "    }\n",
              "  }\n",
              "</style>\n",
              "\n",
              "  <script>\n",
              "    async function quickchart(key) {\n",
              "      const quickchartButtonEl =\n",
              "        document.querySelector('#' + key + ' button');\n",
              "      quickchartButtonEl.disabled = true;  // To prevent multiple clicks.\n",
              "      quickchartButtonEl.classList.add('colab-df-spinner');\n",
              "      try {\n",
              "        const charts = await google.colab.kernel.invokeFunction(\n",
              "            'suggestCharts', [key], {});\n",
              "      } catch (error) {\n",
              "        console.error('Error during call to suggestCharts:', error);\n",
              "      }\n",
              "      quickchartButtonEl.classList.remove('colab-df-spinner');\n",
              "      quickchartButtonEl.classList.add('colab-df-quickchart-complete');\n",
              "    }\n",
              "    (() => {\n",
              "      let quickchartButtonEl =\n",
              "        document.querySelector('#df-44b373e8-8b07-4f1f-ab5f-fb22ff987b6b button');\n",
              "      quickchartButtonEl.style.display =\n",
              "        google.colab.kernel.accessAllowed ? 'block' : 'none';\n",
              "    })();\n",
              "  </script>\n",
              "</div>\n",
              "    </div>\n",
              "  </div>\n"
            ]
          },
          "metadata": {},
          "execution_count": 66
        }
      ]
    },
    {
      "cell_type": "markdown",
      "source": [
        "######>>>>>> Adicionando Colunas"
      ],
      "metadata": {
        "id": "0D1VprArrds1"
      }
    },
    {
      "cell_type": "markdown",
      "source": [
        "> - Colunas adicionadas, para uma melhor análise dos dados, ajudando a responder perguntas norteadoras"
      ],
      "metadata": {
        "id": "64nSp6H9vsK6"
      }
    },
    {
      "cell_type": "code",
      "source": [
        "func_adicionando_colunas(df_cripto)"
      ],
      "metadata": {
        "id": "knxmc3gnrlz-",
        "colab": {
          "base_uri": "https://localhost:8080/"
        },
        "outputId": "94f98322-338d-4cea-ed8e-b67762123eb4"
      },
      "execution_count": 67,
      "outputs": [
        {
          "output_type": "stream",
          "name": "stdout",
          "text": [
            "            Data     Dia_semana\n",
            "0     2013-04-29  Segunda-feira\n",
            "1     2013-04-30    Terça-feira\n",
            "2     2013-05-01   Quarta-feira\n",
            "3     2013-05-02   Quinta-feira\n",
            "4     2013-05-03    Sexta-feira\n",
            "...          ...            ...\n",
            "19017 2021-07-02    Sexta-feira\n",
            "19018 2021-07-03         Sábado\n",
            "19019 2021-07-04        Domingo\n",
            "19020 2021-07-05  Segunda-feira\n",
            "19021 2021-07-06    Terça-feira\n",
            "\n",
            "[19022 rows x 2 columns]\n"
          ]
        }
      ]
    },
    {
      "cell_type": "markdown",
      "source": [
        "> - Visualização após o ajuste da coluna"
      ],
      "metadata": {
        "id": "IiUvLuMwv_xA"
      }
    },
    {
      "cell_type": "markdown",
      "source": [
        "######>>>>>> Foramtando Data"
      ],
      "metadata": {
        "id": "lVjRFABW32eG"
      }
    },
    {
      "cell_type": "code",
      "source": [
        "func_formata_data(df_cripto)"
      ],
      "metadata": {
        "id": "Xjh5Zhcb4vQf",
        "colab": {
          "base_uri": "https://localhost:8080/",
          "height": 496
        },
        "outputId": "9f01746b-8e6f-4d10-e641-d59d3ac5a534"
      },
      "execution_count": 68,
      "outputs": [
        {
          "output_type": "execute_result",
          "data": {
            "text/plain": [
              "          Nome Sigla        Data     Dia_semana     Max_Dia     Min_Dia  \\\n",
              "0      Bitcoin   BTC  29/04/2013  Segunda-feira  147.488007  134.000000   \n",
              "1      Bitcoin   BTC  30/04/2013    Terça-feira  146.929993  134.050003   \n",
              "2      Bitcoin   BTC  01/05/2013   Quarta-feira  139.889999  107.720001   \n",
              "3      Bitcoin   BTC  02/05/2013   Quinta-feira  125.599998   92.281898   \n",
              "4      Bitcoin   BTC  03/05/2013    Sexta-feira  108.127998   79.099998   \n",
              "...        ...   ...         ...            ...         ...         ...   \n",
              "19017  Stellar   XLM  02/07/2021    Sexta-feira    0.273359    0.252874   \n",
              "19018  Stellar   XLM  03/07/2021         Sábado    0.270331    0.259710   \n",
              "19019  Stellar   XLM  04/07/2021        Domingo    0.272314    0.259118   \n",
              "19020  Stellar   XLM  05/07/2021  Segunda-feira    0.268272    0.252300   \n",
              "19021  Stellar   XLM  06/07/2021    Terça-feira    0.267757    0.253547   \n",
              "\n",
              "       Valor_abertura  Valor_fechamento  Volume_negociacao  Valor_Mercado  \n",
              "0          134.444000        144.539993       0.000000e+00   1.603769e+09  \n",
              "1          144.000000        139.000000       0.000000e+00   1.542813e+09  \n",
              "2          139.000000        116.989998       0.000000e+00   1.298955e+09  \n",
              "3          116.379997        105.209999       0.000000e+00   1.168517e+09  \n",
              "4          106.250000         97.750000       0.000000e+00   1.085995e+09  \n",
              "...               ...               ...                ...            ...  \n",
              "19017        0.269148          0.263427       3.487793e+08   6.118631e+09  \n",
              "19018        0.263304          0.264324       3.310069e+08   6.139464e+09  \n",
              "19019        0.264254          0.268128       3.376196e+08   6.227819e+09  \n",
              "19020        0.268272          0.254456       3.359242e+08   5.910264e+09  \n",
              "19021        0.253931          0.260190       3.604261e+08   6.049985e+09  \n",
              "\n",
              "[19022 rows x 10 columns]"
            ],
            "text/html": [
              "\n",
              "  <div id=\"df-ba20d045-b4c8-47d6-ba5c-1a0f7a0adaaf\" class=\"colab-df-container\">\n",
              "    <div>\n",
              "<style scoped>\n",
              "    .dataframe tbody tr th:only-of-type {\n",
              "        vertical-align: middle;\n",
              "    }\n",
              "\n",
              "    .dataframe tbody tr th {\n",
              "        vertical-align: top;\n",
              "    }\n",
              "\n",
              "    .dataframe thead th {\n",
              "        text-align: right;\n",
              "    }\n",
              "</style>\n",
              "<table border=\"1\" class=\"dataframe\">\n",
              "  <thead>\n",
              "    <tr style=\"text-align: right;\">\n",
              "      <th></th>\n",
              "      <th>Nome</th>\n",
              "      <th>Sigla</th>\n",
              "      <th>Data</th>\n",
              "      <th>Dia_semana</th>\n",
              "      <th>Max_Dia</th>\n",
              "      <th>Min_Dia</th>\n",
              "      <th>Valor_abertura</th>\n",
              "      <th>Valor_fechamento</th>\n",
              "      <th>Volume_negociacao</th>\n",
              "      <th>Valor_Mercado</th>\n",
              "    </tr>\n",
              "  </thead>\n",
              "  <tbody>\n",
              "    <tr>\n",
              "      <th>0</th>\n",
              "      <td>Bitcoin</td>\n",
              "      <td>BTC</td>\n",
              "      <td>29/04/2013</td>\n",
              "      <td>Segunda-feira</td>\n",
              "      <td>147.488007</td>\n",
              "      <td>134.000000</td>\n",
              "      <td>134.444000</td>\n",
              "      <td>144.539993</td>\n",
              "      <td>0.000000e+00</td>\n",
              "      <td>1.603769e+09</td>\n",
              "    </tr>\n",
              "    <tr>\n",
              "      <th>1</th>\n",
              "      <td>Bitcoin</td>\n",
              "      <td>BTC</td>\n",
              "      <td>30/04/2013</td>\n",
              "      <td>Terça-feira</td>\n",
              "      <td>146.929993</td>\n",
              "      <td>134.050003</td>\n",
              "      <td>144.000000</td>\n",
              "      <td>139.000000</td>\n",
              "      <td>0.000000e+00</td>\n",
              "      <td>1.542813e+09</td>\n",
              "    </tr>\n",
              "    <tr>\n",
              "      <th>2</th>\n",
              "      <td>Bitcoin</td>\n",
              "      <td>BTC</td>\n",
              "      <td>01/05/2013</td>\n",
              "      <td>Quarta-feira</td>\n",
              "      <td>139.889999</td>\n",
              "      <td>107.720001</td>\n",
              "      <td>139.000000</td>\n",
              "      <td>116.989998</td>\n",
              "      <td>0.000000e+00</td>\n",
              "      <td>1.298955e+09</td>\n",
              "    </tr>\n",
              "    <tr>\n",
              "      <th>3</th>\n",
              "      <td>Bitcoin</td>\n",
              "      <td>BTC</td>\n",
              "      <td>02/05/2013</td>\n",
              "      <td>Quinta-feira</td>\n",
              "      <td>125.599998</td>\n",
              "      <td>92.281898</td>\n",
              "      <td>116.379997</td>\n",
              "      <td>105.209999</td>\n",
              "      <td>0.000000e+00</td>\n",
              "      <td>1.168517e+09</td>\n",
              "    </tr>\n",
              "    <tr>\n",
              "      <th>4</th>\n",
              "      <td>Bitcoin</td>\n",
              "      <td>BTC</td>\n",
              "      <td>03/05/2013</td>\n",
              "      <td>Sexta-feira</td>\n",
              "      <td>108.127998</td>\n",
              "      <td>79.099998</td>\n",
              "      <td>106.250000</td>\n",
              "      <td>97.750000</td>\n",
              "      <td>0.000000e+00</td>\n",
              "      <td>1.085995e+09</td>\n",
              "    </tr>\n",
              "    <tr>\n",
              "      <th>...</th>\n",
              "      <td>...</td>\n",
              "      <td>...</td>\n",
              "      <td>...</td>\n",
              "      <td>...</td>\n",
              "      <td>...</td>\n",
              "      <td>...</td>\n",
              "      <td>...</td>\n",
              "      <td>...</td>\n",
              "      <td>...</td>\n",
              "      <td>...</td>\n",
              "    </tr>\n",
              "    <tr>\n",
              "      <th>19017</th>\n",
              "      <td>Stellar</td>\n",
              "      <td>XLM</td>\n",
              "      <td>02/07/2021</td>\n",
              "      <td>Sexta-feira</td>\n",
              "      <td>0.273359</td>\n",
              "      <td>0.252874</td>\n",
              "      <td>0.269148</td>\n",
              "      <td>0.263427</td>\n",
              "      <td>3.487793e+08</td>\n",
              "      <td>6.118631e+09</td>\n",
              "    </tr>\n",
              "    <tr>\n",
              "      <th>19018</th>\n",
              "      <td>Stellar</td>\n",
              "      <td>XLM</td>\n",
              "      <td>03/07/2021</td>\n",
              "      <td>Sábado</td>\n",
              "      <td>0.270331</td>\n",
              "      <td>0.259710</td>\n",
              "      <td>0.263304</td>\n",
              "      <td>0.264324</td>\n",
              "      <td>3.310069e+08</td>\n",
              "      <td>6.139464e+09</td>\n",
              "    </tr>\n",
              "    <tr>\n",
              "      <th>19019</th>\n",
              "      <td>Stellar</td>\n",
              "      <td>XLM</td>\n",
              "      <td>04/07/2021</td>\n",
              "      <td>Domingo</td>\n",
              "      <td>0.272314</td>\n",
              "      <td>0.259118</td>\n",
              "      <td>0.264254</td>\n",
              "      <td>0.268128</td>\n",
              "      <td>3.376196e+08</td>\n",
              "      <td>6.227819e+09</td>\n",
              "    </tr>\n",
              "    <tr>\n",
              "      <th>19020</th>\n",
              "      <td>Stellar</td>\n",
              "      <td>XLM</td>\n",
              "      <td>05/07/2021</td>\n",
              "      <td>Segunda-feira</td>\n",
              "      <td>0.268272</td>\n",
              "      <td>0.252300</td>\n",
              "      <td>0.268272</td>\n",
              "      <td>0.254456</td>\n",
              "      <td>3.359242e+08</td>\n",
              "      <td>5.910264e+09</td>\n",
              "    </tr>\n",
              "    <tr>\n",
              "      <th>19021</th>\n",
              "      <td>Stellar</td>\n",
              "      <td>XLM</td>\n",
              "      <td>06/07/2021</td>\n",
              "      <td>Terça-feira</td>\n",
              "      <td>0.267757</td>\n",
              "      <td>0.253547</td>\n",
              "      <td>0.253931</td>\n",
              "      <td>0.260190</td>\n",
              "      <td>3.604261e+08</td>\n",
              "      <td>6.049985e+09</td>\n",
              "    </tr>\n",
              "  </tbody>\n",
              "</table>\n",
              "<p>19022 rows × 10 columns</p>\n",
              "</div>\n",
              "    <div class=\"colab-df-buttons\">\n",
              "\n",
              "  <div class=\"colab-df-container\">\n",
              "    <button class=\"colab-df-convert\" onclick=\"convertToInteractive('df-ba20d045-b4c8-47d6-ba5c-1a0f7a0adaaf')\"\n",
              "            title=\"Convert this dataframe to an interactive table.\"\n",
              "            style=\"display:none;\">\n",
              "\n",
              "  <svg xmlns=\"http://www.w3.org/2000/svg\" height=\"24px\" viewBox=\"0 -960 960 960\">\n",
              "    <path d=\"M120-120v-720h720v720H120Zm60-500h600v-160H180v160Zm220 220h160v-160H400v160Zm0 220h160v-160H400v160ZM180-400h160v-160H180v160Zm440 0h160v-160H620v160ZM180-180h160v-160H180v160Zm440 0h160v-160H620v160Z\"/>\n",
              "  </svg>\n",
              "    </button>\n",
              "\n",
              "  <style>\n",
              "    .colab-df-container {\n",
              "      display:flex;\n",
              "      gap: 12px;\n",
              "    }\n",
              "\n",
              "    .colab-df-convert {\n",
              "      background-color: #E8F0FE;\n",
              "      border: none;\n",
              "      border-radius: 50%;\n",
              "      cursor: pointer;\n",
              "      display: none;\n",
              "      fill: #1967D2;\n",
              "      height: 32px;\n",
              "      padding: 0 0 0 0;\n",
              "      width: 32px;\n",
              "    }\n",
              "\n",
              "    .colab-df-convert:hover {\n",
              "      background-color: #E2EBFA;\n",
              "      box-shadow: 0px 1px 2px rgba(60, 64, 67, 0.3), 0px 1px 3px 1px rgba(60, 64, 67, 0.15);\n",
              "      fill: #174EA6;\n",
              "    }\n",
              "\n",
              "    .colab-df-buttons div {\n",
              "      margin-bottom: 4px;\n",
              "    }\n",
              "\n",
              "    [theme=dark] .colab-df-convert {\n",
              "      background-color: #3B4455;\n",
              "      fill: #D2E3FC;\n",
              "    }\n",
              "\n",
              "    [theme=dark] .colab-df-convert:hover {\n",
              "      background-color: #434B5C;\n",
              "      box-shadow: 0px 1px 3px 1px rgba(0, 0, 0, 0.15);\n",
              "      filter: drop-shadow(0px 1px 2px rgba(0, 0, 0, 0.3));\n",
              "      fill: #FFFFFF;\n",
              "    }\n",
              "  </style>\n",
              "\n",
              "    <script>\n",
              "      const buttonEl =\n",
              "        document.querySelector('#df-ba20d045-b4c8-47d6-ba5c-1a0f7a0adaaf button.colab-df-convert');\n",
              "      buttonEl.style.display =\n",
              "        google.colab.kernel.accessAllowed ? 'block' : 'none';\n",
              "\n",
              "      async function convertToInteractive(key) {\n",
              "        const element = document.querySelector('#df-ba20d045-b4c8-47d6-ba5c-1a0f7a0adaaf');\n",
              "        const dataTable =\n",
              "          await google.colab.kernel.invokeFunction('convertToInteractive',\n",
              "                                                    [key], {});\n",
              "        if (!dataTable) return;\n",
              "\n",
              "        const docLinkHtml = 'Like what you see? Visit the ' +\n",
              "          '<a target=\"_blank\" href=https://colab.research.google.com/notebooks/data_table.ipynb>data table notebook</a>'\n",
              "          + ' to learn more about interactive tables.';\n",
              "        element.innerHTML = '';\n",
              "        dataTable['output_type'] = 'display_data';\n",
              "        await google.colab.output.renderOutput(dataTable, element);\n",
              "        const docLink = document.createElement('div');\n",
              "        docLink.innerHTML = docLinkHtml;\n",
              "        element.appendChild(docLink);\n",
              "      }\n",
              "    </script>\n",
              "  </div>\n",
              "\n",
              "\n",
              "<div id=\"df-3dc250b0-9f34-4907-820b-c4b603fe8d4f\">\n",
              "  <button class=\"colab-df-quickchart\" onclick=\"quickchart('df-3dc250b0-9f34-4907-820b-c4b603fe8d4f')\"\n",
              "            title=\"Suggest charts.\"\n",
              "            style=\"display:none;\">\n",
              "\n",
              "<svg xmlns=\"http://www.w3.org/2000/svg\" height=\"24px\"viewBox=\"0 0 24 24\"\n",
              "     width=\"24px\">\n",
              "    <g>\n",
              "        <path d=\"M19 3H5c-1.1 0-2 .9-2 2v14c0 1.1.9 2 2 2h14c1.1 0 2-.9 2-2V5c0-1.1-.9-2-2-2zM9 17H7v-7h2v7zm4 0h-2V7h2v10zm4 0h-2v-4h2v4z\"/>\n",
              "    </g>\n",
              "</svg>\n",
              "  </button>\n",
              "\n",
              "<style>\n",
              "  .colab-df-quickchart {\n",
              "      --bg-color: #E8F0FE;\n",
              "      --fill-color: #1967D2;\n",
              "      --hover-bg-color: #E2EBFA;\n",
              "      --hover-fill-color: #174EA6;\n",
              "      --disabled-fill-color: #AAA;\n",
              "      --disabled-bg-color: #DDD;\n",
              "  }\n",
              "\n",
              "  [theme=dark] .colab-df-quickchart {\n",
              "      --bg-color: #3B4455;\n",
              "      --fill-color: #D2E3FC;\n",
              "      --hover-bg-color: #434B5C;\n",
              "      --hover-fill-color: #FFFFFF;\n",
              "      --disabled-bg-color: #3B4455;\n",
              "      --disabled-fill-color: #666;\n",
              "  }\n",
              "\n",
              "  .colab-df-quickchart {\n",
              "    background-color: var(--bg-color);\n",
              "    border: none;\n",
              "    border-radius: 50%;\n",
              "    cursor: pointer;\n",
              "    display: none;\n",
              "    fill: var(--fill-color);\n",
              "    height: 32px;\n",
              "    padding: 0;\n",
              "    width: 32px;\n",
              "  }\n",
              "\n",
              "  .colab-df-quickchart:hover {\n",
              "    background-color: var(--hover-bg-color);\n",
              "    box-shadow: 0 1px 2px rgba(60, 64, 67, 0.3), 0 1px 3px 1px rgba(60, 64, 67, 0.15);\n",
              "    fill: var(--button-hover-fill-color);\n",
              "  }\n",
              "\n",
              "  .colab-df-quickchart-complete:disabled,\n",
              "  .colab-df-quickchart-complete:disabled:hover {\n",
              "    background-color: var(--disabled-bg-color);\n",
              "    fill: var(--disabled-fill-color);\n",
              "    box-shadow: none;\n",
              "  }\n",
              "\n",
              "  .colab-df-spinner {\n",
              "    border: 2px solid var(--fill-color);\n",
              "    border-color: transparent;\n",
              "    border-bottom-color: var(--fill-color);\n",
              "    animation:\n",
              "      spin 1s steps(1) infinite;\n",
              "  }\n",
              "\n",
              "  @keyframes spin {\n",
              "    0% {\n",
              "      border-color: transparent;\n",
              "      border-bottom-color: var(--fill-color);\n",
              "      border-left-color: var(--fill-color);\n",
              "    }\n",
              "    20% {\n",
              "      border-color: transparent;\n",
              "      border-left-color: var(--fill-color);\n",
              "      border-top-color: var(--fill-color);\n",
              "    }\n",
              "    30% {\n",
              "      border-color: transparent;\n",
              "      border-left-color: var(--fill-color);\n",
              "      border-top-color: var(--fill-color);\n",
              "      border-right-color: var(--fill-color);\n",
              "    }\n",
              "    40% {\n",
              "      border-color: transparent;\n",
              "      border-right-color: var(--fill-color);\n",
              "      border-top-color: var(--fill-color);\n",
              "    }\n",
              "    60% {\n",
              "      border-color: transparent;\n",
              "      border-right-color: var(--fill-color);\n",
              "    }\n",
              "    80% {\n",
              "      border-color: transparent;\n",
              "      border-right-color: var(--fill-color);\n",
              "      border-bottom-color: var(--fill-color);\n",
              "    }\n",
              "    90% {\n",
              "      border-color: transparent;\n",
              "      border-bottom-color: var(--fill-color);\n",
              "    }\n",
              "  }\n",
              "</style>\n",
              "\n",
              "  <script>\n",
              "    async function quickchart(key) {\n",
              "      const quickchartButtonEl =\n",
              "        document.querySelector('#' + key + ' button');\n",
              "      quickchartButtonEl.disabled = true;  // To prevent multiple clicks.\n",
              "      quickchartButtonEl.classList.add('colab-df-spinner');\n",
              "      try {\n",
              "        const charts = await google.colab.kernel.invokeFunction(\n",
              "            'suggestCharts', [key], {});\n",
              "      } catch (error) {\n",
              "        console.error('Error during call to suggestCharts:', error);\n",
              "      }\n",
              "      quickchartButtonEl.classList.remove('colab-df-spinner');\n",
              "      quickchartButtonEl.classList.add('colab-df-quickchart-complete');\n",
              "    }\n",
              "    (() => {\n",
              "      let quickchartButtonEl =\n",
              "        document.querySelector('#df-3dc250b0-9f34-4907-820b-c4b603fe8d4f button');\n",
              "      quickchartButtonEl.style.display =\n",
              "        google.colab.kernel.accessAllowed ? 'block' : 'none';\n",
              "    })();\n",
              "  </script>\n",
              "</div>\n",
              "    </div>\n",
              "  </div>\n"
            ]
          },
          "metadata": {},
          "execution_count": 68
        }
      ]
    },
    {
      "cell_type": "markdown",
      "source": [
        "###>>> Exportando os Dados .csv"
      ],
      "metadata": {
        "id": "rQy9amUtoBeb"
      }
    },
    {
      "cell_type": "code",
      "source": [
        "# Salve o DataFrame como um arquivo CSV temporário no ambiente do Colab.\n",
        "temp_csv = 'tb_cripto.csv'\n",
        "df_cripto.to_csv(temp_csv, index=False)\n",
        "\n",
        "# Crie um link direto para download do arquivo CSV\n",
        "from google.colab import files\n",
        "files.download(temp_csv)"
      ],
      "metadata": {
        "id": "7yjL8JrNJB2A",
        "colab": {
          "base_uri": "https://localhost:8080/",
          "height": 17
        },
        "outputId": "7575e5d7-3251-4af1-ce46-980700e35ffb"
      },
      "execution_count": 69,
      "outputs": [
        {
          "output_type": "display_data",
          "data": {
            "text/plain": [
              "<IPython.core.display.Javascript object>"
            ],
            "application/javascript": [
              "\n",
              "    async function download(id, filename, size) {\n",
              "      if (!google.colab.kernel.accessAllowed) {\n",
              "        return;\n",
              "      }\n",
              "      const div = document.createElement('div');\n",
              "      const label = document.createElement('label');\n",
              "      label.textContent = `Downloading \"${filename}\": `;\n",
              "      div.appendChild(label);\n",
              "      const progress = document.createElement('progress');\n",
              "      progress.max = size;\n",
              "      div.appendChild(progress);\n",
              "      document.body.appendChild(div);\n",
              "\n",
              "      const buffers = [];\n",
              "      let downloaded = 0;\n",
              "\n",
              "      const channel = await google.colab.kernel.comms.open(id);\n",
              "      // Send a message to notify the kernel that we're ready.\n",
              "      channel.send({})\n",
              "\n",
              "      for await (const message of channel.messages) {\n",
              "        // Send a message to notify the kernel that we're ready.\n",
              "        channel.send({})\n",
              "        if (message.buffers) {\n",
              "          for (const buffer of message.buffers) {\n",
              "            buffers.push(buffer);\n",
              "            downloaded += buffer.byteLength;\n",
              "            progress.value = downloaded;\n",
              "          }\n",
              "        }\n",
              "      }\n",
              "      const blob = new Blob(buffers, {type: 'application/binary'});\n",
              "      const a = document.createElement('a');\n",
              "      a.href = window.URL.createObjectURL(blob);\n",
              "      a.download = filename;\n",
              "      div.appendChild(a);\n",
              "      a.click();\n",
              "      div.remove();\n",
              "    }\n",
              "  "
            ]
          },
          "metadata": {}
        },
        {
          "output_type": "display_data",
          "data": {
            "text/plain": [
              "<IPython.core.display.Javascript object>"
            ],
            "application/javascript": [
              "download(\"download_325808a4-d071-4b41-9615-89e041af0500\", \"tb_cripto.csv\", 2417560)"
            ]
          },
          "metadata": {}
        }
      ]
    },
    {
      "cell_type": "markdown",
      "source": [
        "###<font color = bluelight>>>> Bitcoin"
      ],
      "metadata": {
        "id": "b_oksqyheGvR"
      }
    },
    {
      "cell_type": "markdown",
      "source": [
        "#####>>>>> A mineração no Bitcoin é o processo pelo qual novas unidades da criptomoeda Bitcoin (BTC) são criadas e transações são verificadas na rede Bitcoin. O Bitcoin utiliza um algoritmo de mineração chamado SHA-256 (Algoritmo de Hash Seguro 256 bits), que é projetado para ser altamente seguro e resistente a ataques.\n",
        "Prova de Trabalho (PoW): O Bitcoin também utiliza um sistema de prova de trabalho para validar transações e criar novas moedas. Os mineradores de Bitcoin resolvem problemas de hash criptográfico extremamente complexos usando seus dispositivos de mineração, como ASICs (Application-Specific Integrated Circuits), para competir pela recompensa de bloco. Isso garante a segurança da rede e a descentralização do processo de mineração."
      ],
      "metadata": {
        "id": "EiXltVkHeGvS"
      }
    },
    {
      "cell_type": "markdown",
      "source": [
        "####>>>> Dados Estatísticos"
      ],
      "metadata": {
        "id": "iGLWLhTJeGvT"
      }
    },
    {
      "cell_type": "markdown",
      "source": [
        ">- Valor de Fechamento"
      ],
      "metadata": {
        "id": "TWlP9txPeGvU"
      }
    },
    {
      "cell_type": "code",
      "source": [
        "\n",
        "# Crie um novo DataFrame contendo apenas os dados do Bitcoin\n",
        "df_bitcoin = df_cripto[df_cripto['Nome'] == 'Bitcoin'].copy()\n",
        "\n",
        "# Visualize as primeiras linhas do novo DataFrame para verificar\n",
        "print(df_bitcoin.head())\n"
      ],
      "metadata": {
        "id": "EdG0YaXneGvV",
        "colab": {
          "base_uri": "https://localhost:8080/"
        },
        "outputId": "b72d6c3b-dcba-460b-baed-073e90b63a95"
      },
      "execution_count": 70,
      "outputs": [
        {
          "output_type": "stream",
          "name": "stdout",
          "text": [
            "      Nome Sigla        Data     Dia_semana     Max_Dia     Min_Dia  \\\n",
            "0  Bitcoin   BTC  29/04/2013  Segunda-feira  147.488007  134.000000   \n",
            "1  Bitcoin   BTC  30/04/2013    Terça-feira  146.929993  134.050003   \n",
            "2  Bitcoin   BTC  01/05/2013   Quarta-feira  139.889999  107.720001   \n",
            "3  Bitcoin   BTC  02/05/2013   Quinta-feira  125.599998   92.281898   \n",
            "4  Bitcoin   BTC  03/05/2013    Sexta-feira  108.127998   79.099998   \n",
            "\n",
            "   Valor_abertura  Valor_fechamento  Volume_negociacao  Valor_Mercado  \n",
            "0      134.444000        144.539993                0.0   1.603769e+09  \n",
            "1      144.000000        139.000000                0.0   1.542813e+09  \n",
            "2      139.000000        116.989998                0.0   1.298955e+09  \n",
            "3      116.379997        105.209999                0.0   1.168517e+09  \n",
            "4      106.250000         97.750000                0.0   1.085995e+09  \n"
          ]
        }
      ]
    },
    {
      "cell_type": "markdown",
      "source": [
        ">- Valor de Fechamento"
      ],
      "metadata": {
        "id": "lJEngj_LeGvW"
      }
    },
    {
      "cell_type": "code",
      "source": [
        "# Transforme a coluna 'Close' em uma string\n",
        "df_bitcoin['Valor_fechamento'].astype(str).describe()\n"
      ],
      "metadata": {
        "id": "aYATlmz9eGvX",
        "colab": {
          "base_uri": "https://localhost:8080/"
        },
        "outputId": "34ac855e-3140-4708-c76a-a145d6d7228e"
      },
      "execution_count": 71,
      "outputs": [
        {
          "output_type": "execute_result",
          "data": {
            "text/plain": [
              "count      2991\n",
              "unique     2978\n",
              "top       129.0\n",
              "freq          3\n",
              "Name: Valor_fechamento, dtype: object"
            ]
          },
          "metadata": {},
          "execution_count": 71
        }
      ]
    },
    {
      "cell_type": "markdown",
      "source": [
        ">--> No df_bitcoin foram registrados 2991 valores, com 2978 valores diferentes"
      ],
      "metadata": {
        "id": "pzmPTcm2eGvY"
      }
    },
    {
      "cell_type": "code",
      "source": [
        "df_bitcoin['Valor_fechamento'].describe()"
      ],
      "metadata": {
        "id": "kvDkafbCeGva",
        "colab": {
          "base_uri": "https://localhost:8080/"
        },
        "outputId": "2f373cf4-17f5-4208-d2c7-3c3a5a03fc72"
      },
      "execution_count": 72,
      "outputs": [
        {
          "output_type": "execute_result",
          "data": {
            "text/plain": [
              "count     2991.000000\n",
              "mean      6711.290443\n",
              "std      11298.141921\n",
              "min         68.431000\n",
              "25%        430.569489\n",
              "50%       2286.409912\n",
              "75%       8576.238715\n",
              "max      63503.457930\n",
              "Name: Valor_fechamento, dtype: float64"
            ]
          },
          "metadata": {},
          "execution_count": 72
        }
      ]
    },
    {
      "cell_type": "markdown",
      "source": [
        "![descrição da imagem, dashboard construindo em powerbi sobre a moeda bitcoin com análises estatísticas](https://github.com/grandpa44997/Squad6M5ResiliabyiFood/blob/main/dashimg/bit1.png?raw=true)"
      ],
      "metadata": {
        "id": "qxlr5y4QeGva"
      }
    },
    {
      "cell_type": "markdown",
      "source": [
        ">- Média de valor de fechamento teve um aumento de 15.926% e média de valor de abertura teve um aumento de 15.878%, aumentaram em tendência entre 2014 e 2021\n",
        ">- As maiores médias do valor minímo e do valor máximo foram em 2021(234,64 e 262,21)."
      ],
      "metadata": {
        "id": "FdIjbR_YeGva"
      }
    },
    {
      "cell_type": "markdown",
      "source": [
        "> Insight:\n",
        "\n",
        "> O Bitcoin, sendo a primeira criptomoeda, apresentou um desempenho impressionante. De 2014 a 2021, o BTC experimentou um aumento notável de mais de 14.000% na média de valor de fechamento, passando de cerca de $318 para mais de $47.000. Esse crescimento consistente consolidou o Bitcoin como a principal criptomoeda do mercado."
      ],
      "metadata": {
        "id": "oMx98USWeGvb"
      }
    },
    {
      "cell_type": "markdown",
      "source": [
        "####>>>>Tendência"
      ],
      "metadata": {
        "id": "JQ6sgXIEeGvb"
      }
    },
    {
      "cell_type": "markdown",
      "source": [
        "![](https://github.com/grandpa44997/Squad6M5ResiliabyiFood/blob/main/dashimg/bit2.png?raw=true)"
      ],
      "metadata": {
        "id": "Aampo92heGvc"
      }
    },
    {
      "cell_type": "markdown",
      "source": [
        "###<font color = bluelight>>>> Cardano"
      ],
      "metadata": {
        "id": "nFMccuGnfrcc"
      }
    },
    {
      "cell_type": "markdown",
      "source": [
        "#####>>>>> A mineração no Cardano é o processo pelo qual novas unidades da criptomoeda Cardano (ADA) são criadas e transações são verificadas na rede Cardano. O Cardano utiliza um algoritmo de mineração chamado Ouroboros, que foi projetado para ser altamente seguro e eficiente.\n",
        "Prova de Participação (PoS): O Cardano adota um sistema de prova de participação para validar transações e criar novas moedas. Os participantes, chamados de \"stakers\", mantêm e delegam ADA em suas carteiras para participar do processo de validação de blocos. Isso elimina a necessidade de mineração intensiva em energia, como ocorre com o Bitcoin, tornando o Cardano mais ecológico e eficiente em termos energéticos. Além disso, o sistema PoS promove a descentralização da rede.\n",
        "Devido à sua abordagem de PoS, o Cardano é considerado mais eficiente em termos de consumo de energia e tem um impacto de carbono significativamente menor do que as criptomoedas baseadas em PoW."
      ],
      "metadata": {
        "id": "iA5ujQYyfrcd"
      }
    },
    {
      "cell_type": "markdown",
      "source": [
        "####>>>> Dados Estatísticos"
      ],
      "metadata": {
        "id": "jeqW7FY4frce"
      }
    },
    {
      "cell_type": "markdown",
      "source": [
        ">- Valor de Fechamento"
      ],
      "metadata": {
        "id": "SUWLVHvCfrcf"
      }
    },
    {
      "cell_type": "code",
      "source": [
        "\n",
        "# Crie um novo DataFrame contendo apenas os dados do Cardano\n",
        "df_cardano = df_cripto[df_cripto['Nome'] == 'Cardano'].copy()\n",
        "\n",
        "# Visualize as primeiras linhas do novo DataFrame para verificar\n",
        "print(df_cardano.head())\n"
      ],
      "metadata": {
        "id": "nG_0_HUJfrcf",
        "colab": {
          "base_uri": "https://localhost:8080/"
        },
        "outputId": "c0ce9d8f-bb05-4aa0-9419-72e346f95c12"
      },
      "execution_count": 73,
      "outputs": [
        {
          "output_type": "stream",
          "name": "stdout",
          "text": [
            "         Nome Sigla        Data     Dia_semana   Max_Dia   Min_Dia  \\\n",
            "2251  Cardano   ADA  05/09/2018   Quarta-feira  0.106217  0.087569   \n",
            "2798  Cardano   ADA  06/09/2018   Quinta-feira  0.089429  0.083130   \n",
            "2864  Cardano   ADA  07/09/2018    Sexta-feira  0.089645  0.083456   \n",
            "2930  Cardano   ADA  08/09/2018         Sábado  0.085130  0.077505   \n",
            "2995  Cardano   ADA  02/10/2017  Segunda-feira  0.030088  0.019969   \n",
            "\n",
            "      Valor_abertura  Valor_fechamento  Volume_negociacao  Valor_Mercado  \n",
            "2251        0.105267          0.087569         98708900.0   2.270418e+09  \n",
            "2798        0.087525          0.088666         73239200.0   2.298847e+09  \n",
            "2864        0.088521          0.083983         41868100.0   2.177433e+09  \n",
            "2930        0.084120          0.078235         35208700.0   2.028397e+09  \n",
            "2995        0.024607          0.025932         57641300.0   6.288991e+08  \n"
          ]
        }
      ]
    },
    {
      "cell_type": "markdown",
      "source": [
        ">- Valor de Fechamento"
      ],
      "metadata": {
        "id": "xgfBAwc_frch"
      }
    },
    {
      "cell_type": "code",
      "source": [
        "# Transforme a coluna 'Close' em uma string\n",
        "df_cardano['Valor_fechamento'].astype(str).describe()\n"
      ],
      "metadata": {
        "id": "16T3zBu9frch",
        "colab": {
          "base_uri": "https://localhost:8080/"
        },
        "outputId": "1b1fa0c4-f5d5-44d2-df6a-dd193501db9e"
      },
      "execution_count": 74,
      "outputs": [
        {
          "output_type": "execute_result",
          "data": {
            "text/plain": [
              "count          1374\n",
              "unique         1374\n",
              "top       0.0875694\n",
              "freq              1\n",
              "Name: Valor_fechamento, dtype: object"
            ]
          },
          "metadata": {},
          "execution_count": 74
        }
      ]
    },
    {
      "cell_type": "code",
      "source": [
        "# Transforme a coluna 'Close' em uma string\n",
        "df_cardano['Valor_fechamento'].astype(str).describe()"
      ],
      "metadata": {
        "id": "I87OBFWHgnly",
        "colab": {
          "base_uri": "https://localhost:8080/"
        },
        "outputId": "a79b9fde-f810-4467-ff33-44709a65e6f5"
      },
      "execution_count": 75,
      "outputs": [
        {
          "output_type": "execute_result",
          "data": {
            "text/plain": [
              "count          1374\n",
              "unique         1374\n",
              "top       0.0875694\n",
              "freq              1\n",
              "Name: Valor_fechamento, dtype: object"
            ]
          },
          "metadata": {},
          "execution_count": 75
        }
      ]
    },
    {
      "cell_type": "markdown",
      "source": [
        ">--> No df_cardano foram registrados 1374 valores, com 1374 valores diferentes"
      ],
      "metadata": {
        "id": "N08Z1qvFfrci"
      }
    },
    {
      "cell_type": "code",
      "source": [
        "df_cardano['Valor_fechamento'].describe()"
      ],
      "metadata": {
        "id": "xGYrWh1pfrcj",
        "colab": {
          "base_uri": "https://localhost:8080/"
        },
        "outputId": "094d3d6c-cce3-4ae9-932e-5b998bfc3706"
      },
      "execution_count": 76,
      "outputs": [
        {
          "output_type": "execute_result",
          "data": {
            "text/plain": [
              "count    1374.000000\n",
              "mean        0.256313\n",
              "std         0.409691\n",
              "min         0.018539\n",
              "25%         0.045947\n",
              "50%         0.087002\n",
              "75%         0.183379\n",
              "max         2.309113\n",
              "Name: Valor_fechamento, dtype: float64"
            ]
          },
          "metadata": {},
          "execution_count": 76
        }
      ]
    },
    {
      "cell_type": "markdown",
      "source": [
        "![descrição da imagem, dashboard construindo em powerbi sobre a moeda cardano com análises estatísticas](https://github.com/grandpa44997/Squad6M5ResiliabyiFood/blob/main/dashimg/cardano1.png?raw=true)"
      ],
      "metadata": {
        "id": "wFmz3ccofrcj"
      }
    },
    {
      "cell_type": "markdown",
      "source": [
        ">- Média de valor de fechamento teve um aumento de 15.926% e média de valor de abertura teve um aumento de 15.878%, aumentaram em tendência entre 2014 e 2021\n",
        ">- As maiores médias do valor minímo e do valor máximo foram em 2021(234,64 e 262,21)."
      ],
      "metadata": {
        "id": "yHbC0md7frck"
      }
    },
    {
      "cell_type": "markdown",
      "source": [
        "> Insight:\n",
        "\n",
        "> Cardano, uma criptomoeda com foco em sustentabilidade e escalabilidade, mostrou um desempenho notável entre 2017 e 2021. Nesse período, ADA teve um aumento de aproximadamente 4.600% na média de valor de fechamento, demonstrando sua crescente importância no ecossistema cripto."
      ],
      "metadata": {
        "id": "CD_9rZoIfrcl"
      }
    },
    {
      "cell_type": "markdown",
      "source": [
        "####>>>>Tendência"
      ],
      "metadata": {
        "id": "wnM095U0frcl"
      }
    },
    {
      "cell_type": "markdown",
      "source": [
        "![descrição da imagem, dashboard construindo em powerbi sobre a moeda bitcoin com análises estatísticas](https://github.com/grandpa44997/Squad6M5ResiliabyiFood/blob/main/dashimg/cardano2.png?raw=true)"
      ],
      "metadata": {
        "id": "TNfy0TuJfrcm"
      }
    },
    {
      "cell_type": "markdown",
      "source": [
        "###<font color = bluelight>>>> Cosmos"
      ],
      "metadata": {
        "id": "DP_XVj8q3SlP"
      }
    },
    {
      "cell_type": "markdown",
      "source": [
        "#####>>>>> A mineração no Cosmos é o processo pelo qual novas unidades da criptomoeda Cosmos (ATOM) são criadas e transações são verificadas na rede Cosmos. O Cosmos utiliza um algoritmo de consenso chamado Tendermint, que combina características de Proof of Stake (PoS) com alguns elementos de Proof of Work (PoW). Isso tem implicações na pegada de carbono do Cosmos.\n",
        "Prova de Participação (PoS): O Cosmos adota um sistema de prova de participação para validar transações e criar novas moedas. Os participantes, conhecidos como \"stakers\" ou validadores, mantêm e delegam ATOM em suas carteiras para participar do processo de validação de blocos. Isso elimina a necessidade de mineração intensiva em energia, como ocorre com o Bitcoin, tornando o Cosmos mais ecológico e eficiente em termos energéticos. Além disso, o sistema PoS promove a descentralização da rede Cosmos, permitindo que os detentores de ATOM participem ativamente na segurança e operação da rede."
      ],
      "metadata": {
        "id": "1-4YcV1v3SlQ"
      }
    },
    {
      "cell_type": "markdown",
      "source": [
        "####>>>> Dados Estatísticos"
      ],
      "metadata": {
        "id": "IXlZrVE_3SlR"
      }
    },
    {
      "cell_type": "markdown",
      "source": [
        ">- Valor de Fechamento"
      ],
      "metadata": {
        "id": "qy8c5AaS3SlS"
      }
    },
    {
      "cell_type": "code",
      "source": [
        "\n",
        "# Crie um novo DataFrame contendo apenas os dados do Cardano\n",
        "df_cosmos = df_cripto[df_cripto['Nome'] == 'Cosmos'].copy()\n",
        "\n",
        "# Visualize as primeiras linhas do novo DataFrame para verificar\n",
        "print(df_cosmos.head())\n"
      ],
      "metadata": {
        "id": "OZ2nR3me3SlT",
        "colab": {
          "base_uri": "https://localhost:8080/"
        },
        "outputId": "0eb578ae-4bd8-4ecb-9b64-f34ac0a332fb"
      },
      "execution_count": 77,
      "outputs": [
        {
          "output_type": "stream",
          "name": "stdout",
          "text": [
            "        Nome Sigla        Data     Dia_semana   Max_Dia   Min_Dia  \\\n",
            "4368  Cosmos  ATOM  15/03/2019    Sexta-feira  7.715249  6.432468   \n",
            "4369  Cosmos  ATOM  16/03/2019         Sábado  8.305615  6.694531   \n",
            "4370  Cosmos  ATOM  17/03/2019        Domingo  7.357443  4.727895   \n",
            "4371  Cosmos  ATOM  18/03/2019  Segunda-feira  5.229982  4.828242   \n",
            "4372  Cosmos  ATOM  19/03/2019    Terça-feira  5.206172  4.794501   \n",
            "\n",
            "      Valor_abertura  Valor_fechamento  Volume_negociacao  Valor_Mercado  \n",
            "4368        6.633174          7.504351       6.057301e+06            0.0  \n",
            "4369        7.507990          7.383882       3.477393e+06            0.0  \n",
            "4370        7.357443          4.776164       2.653565e+06            0.0  \n",
            "4371        4.828242          5.110341       2.567201e+06            0.0  \n",
            "4372        5.099978          4.821883       3.891084e+06            0.0  \n"
          ]
        }
      ]
    },
    {
      "cell_type": "markdown",
      "source": [
        ">- Valor de Fechamento"
      ],
      "metadata": {
        "id": "TVQ4GQmf3SlU"
      }
    },
    {
      "cell_type": "code",
      "source": [
        "# Transforme a coluna 'Close' em uma string\n",
        "df_cosmos['Valor_fechamento'].astype(str).describe()\n"
      ],
      "metadata": {
        "id": "yS2PuhYv3SlV",
        "colab": {
          "base_uri": "https://localhost:8080/"
        },
        "outputId": "53366f26-e0bb-411b-be0a-f45034301418"
      },
      "execution_count": 78,
      "outputs": [
        {
          "output_type": "execute_result",
          "data": {
            "text/plain": [
              "count               845\n",
              "unique              845\n",
              "top       7.50435129868\n",
              "freq                  1\n",
              "Name: Valor_fechamento, dtype: object"
            ]
          },
          "metadata": {},
          "execution_count": 78
        }
      ]
    },
    {
      "cell_type": "code",
      "source": [
        "# Transforme a coluna 'Close' em uma string\n",
        "df_cosmos['Valor_fechamento'].astype(str).describe()"
      ],
      "metadata": {
        "id": "X68a_Eg33SlW",
        "colab": {
          "base_uri": "https://localhost:8080/"
        },
        "outputId": "10861b35-e543-4fb0-edb9-f5f68917e25a"
      },
      "execution_count": 79,
      "outputs": [
        {
          "output_type": "execute_result",
          "data": {
            "text/plain": [
              "count               845\n",
              "unique              845\n",
              "top       7.50435129868\n",
              "freq                  1\n",
              "Name: Valor_fechamento, dtype: object"
            ]
          },
          "metadata": {},
          "execution_count": 79
        }
      ]
    },
    {
      "cell_type": "markdown",
      "source": [
        ">--> No df_cosmos foram registrados 845 valores, com 845 valores diferentes"
      ],
      "metadata": {
        "id": "fOAgpvLk3SlX"
      }
    },
    {
      "cell_type": "code",
      "source": [
        "df_cosmos['Valor_fechamento'].describe()"
      ],
      "metadata": {
        "id": "0i6jbskg3SlY",
        "colab": {
          "base_uri": "https://localhost:8080/"
        },
        "outputId": "27a67af0-878b-444a-bfb4-d8dec475f797"
      },
      "execution_count": 80,
      "outputs": [
        {
          "output_type": "execute_result",
          "data": {
            "text/plain": [
              "count    845.000000\n",
              "mean       6.768099\n",
              "std        5.936096\n",
              "min        1.649203\n",
              "25%        3.346352\n",
              "50%        4.480583\n",
              "75%        6.221525\n",
              "max       29.435150\n",
              "Name: Valor_fechamento, dtype: float64"
            ]
          },
          "metadata": {},
          "execution_count": 80
        }
      ]
    },
    {
      "cell_type": "markdown",
      "source": [
        "![descrição da imagem, dashboard construindo em powerbi sobre a moeda bitcoin com análises estatísticas](https://github.com/grandpa44997/Squad6M5ResiliabyiFood/blob/main/dashimg/cosmos1.png?raw=true)"
      ],
      "metadata": {
        "id": "0KHj8tMz3SlZ"
      }
    },
    {
      "cell_type": "markdown",
      "source": [
        ">- Média de valor de fechamento teve um aumento de 15.926% e média de valor de abertura teve um aumento de 15.878%, aumentaram em tendência entre 2014 e 2021\n",
        ">- As maiores médias do valor minímo e do valor máximo foram em 2021(234,64 e 262,21)."
      ],
      "metadata": {
        "id": "8OGxmx2W3Sla"
      }
    },
    {
      "cell_type": "markdown",
      "source": [
        "> Insight:\n",
        "\n",
        "> Cosmos é outra criptomoeda com desempenho sólido. De 2017 a 2021, o ATOM viu um crescimento de mais de 2.500% na média de valor de fechamento, refletindo a confiança na tecnologia de cadeias de blocos interoperáveis."
      ],
      "metadata": {
        "id": "BmwbOSdK3Sla"
      }
    },
    {
      "cell_type": "markdown",
      "source": [
        "####>>>>Tendência"
      ],
      "metadata": {
        "id": "WsWZLtF33Sla"
      }
    },
    {
      "cell_type": "markdown",
      "source": [
        "![descrição da imagem, dashboard construindo em powerbi sobre a moeda bitcoin com análises estatísticas](https://github.com/grandpa44997/Squad6M5ResiliabyiFood/blob/main/dashimg/cosmos2.png?raw=true)"
      ],
      "metadata": {
        "id": "BXwpARSS3Slb"
      }
    },
    {
      "cell_type": "markdown",
      "source": [
        "###<font color = bluelight>>>> Dogecoin"
      ],
      "metadata": {
        "id": "wLPQPjcygYAk"
      }
    },
    {
      "cell_type": "markdown",
      "source": [
        "#####>>>>>Prova de Trabalho (PoW): O Dogecoin utiliza um algoritmo de mineração baseado em Prova de Trabalho, semelhante ao Bitcoin. Isso significa que os mineradores competem para resolver problemas computacionais complexos e, como recompensa, receber novas unidades de Dogecoin e taxas de transação. A mineração PoW é conhecida por consumir grandes quantidades de energia elétrica."
      ],
      "metadata": {
        "id": "pY0P9_O_gYAk"
      }
    },
    {
      "cell_type": "markdown",
      "source": [
        "####>>>> Dados Estatísticos"
      ],
      "metadata": {
        "id": "xXu0mW9fgYAl"
      }
    },
    {
      "cell_type": "markdown",
      "source": [
        ">- Valor de Fechamento"
      ],
      "metadata": {
        "id": "RuWDalaGgYAm"
      }
    },
    {
      "cell_type": "code",
      "source": [
        "\n",
        "# Crie um novo DataFrame contendo apenas os dados do Litecoin\n",
        "df_dogecoin = df_cripto[df_cripto['Nome'] == 'Dogecoin'].copy()\n",
        "\n",
        "# Visualize as primeiras linhas do novo DataFrame para verificar\n",
        "print(df_dogecoin.head())\n"
      ],
      "metadata": {
        "id": "LLIORI4sgYAm",
        "colab": {
          "base_uri": "https://localhost:8080/"
        },
        "outputId": "c16671bd-37fb-41ae-f4ec-8a65315d3606"
      },
      "execution_count": 81,
      "outputs": [
        {
          "output_type": "stream",
          "name": "stdout",
          "text": [
            "          Nome Sigla        Data     Dia_semana   Max_Dia   Min_Dia  \\\n",
            "5220  Dogecoin  DOGE  16/12/2013  Segunda-feira  0.000866  0.000150   \n",
            "5221  Dogecoin  DOGE  17/12/2013    Terça-feira  0.000289  0.000116   \n",
            "5222  Dogecoin  DOGE  18/12/2013   Quarta-feira  0.000362  0.000205   \n",
            "5223  Dogecoin  DOGE  19/12/2013   Quinta-feira  0.001520  0.000328   \n",
            "5224  Dogecoin  DOGE  20/12/2013    Sexta-feira  0.001143  0.000662   \n",
            "\n",
            "      Valor_abertura  Valor_fechamento  Volume_negociacao  Valor_Mercado  \n",
            "5220        0.000299          0.000205                0.0   1.509085e+06  \n",
            "5221        0.000207          0.000269                0.0   2.169688e+06  \n",
            "5222        0.000267          0.000362                0.0   3.188943e+06  \n",
            "5223        0.000395          0.001162                0.0   1.115034e+07  \n",
            "5224        0.001143          0.000704                0.0   7.284337e+06  \n"
          ]
        }
      ]
    },
    {
      "cell_type": "markdown",
      "source": [
        ">- Valor de Fechamento"
      ],
      "metadata": {
        "id": "zrYgqRd0gYAm"
      }
    },
    {
      "cell_type": "code",
      "source": [
        "# Transforme a coluna 'Close' em uma string\n",
        "df_dogecoin['Valor_fechamento'].astype(str).describe()\n"
      ],
      "metadata": {
        "id": "Pa7HskcmgYAm",
        "colab": {
          "base_uri": "https://localhost:8080/"
        },
        "outputId": "cbb7e914-d32e-4957-9c65-ad498e5137dc"
      },
      "execution_count": 82,
      "outputs": [
        {
          "output_type": "execute_result",
          "data": {
            "text/plain": [
              "count                   2760\n",
              "unique                  2755\n",
              "top       0.0002093920047627\n",
              "freq                       2\n",
              "Name: Valor_fechamento, dtype: object"
            ]
          },
          "metadata": {},
          "execution_count": 82
        }
      ]
    },
    {
      "cell_type": "markdown",
      "source": [
        ">--> No df_dogecoin foram registrados 2760 valores, com 2755 valores diferentes"
      ],
      "metadata": {
        "id": "E1WhsRYLgYAn"
      }
    },
    {
      "cell_type": "code",
      "source": [
        "df_dogecoin['Valor_fechamento'].describe()"
      ],
      "metadata": {
        "id": "lmsihbz5gYAn",
        "colab": {
          "base_uri": "https://localhost:8080/"
        },
        "outputId": "f9ff4713-d34d-45bd-a413-d19dbdda932a"
      },
      "execution_count": 83,
      "outputs": [
        {
          "output_type": "execute_result",
          "data": {
            "text/plain": [
              "count    2760.000000\n",
              "mean        0.013763\n",
              "std         0.062559\n",
              "min         0.000087\n",
              "25%         0.000226\n",
              "50%         0.001844\n",
              "75%         0.002899\n",
              "max         0.684777\n",
              "Name: Valor_fechamento, dtype: float64"
            ]
          },
          "metadata": {},
          "execution_count": 83
        }
      ]
    },
    {
      "cell_type": "markdown",
      "source": [
        "![descrição da imagem, dashboard construindo em powerbi sobre a moeda bitcoin com análises estatísticas](https://github.com/grandpa44997/Squad6M5ResiliabyiFood/blob/main/dashimg/doge1.png?raw=true)"
      ],
      "metadata": {
        "id": "IEYkgFCYgYAn"
      }
    },
    {
      "cell_type": "markdown",
      "source": [
        ">- Média de valor de fechamento teve um aumento de 562,50% aumentando em tendência 2018 e 2021\n",
        ">- As maiores médias do valor minímo e do valor máximo foram em 2021(0,16 e 0,20)."
      ],
      "metadata": {
        "id": "bhoa1IIwgYAn"
      }
    },
    {
      "cell_type": "markdown",
      "source": [
        "> Insight:\n",
        "\n",
        "> Inicialmente lançada como uma criptomoeda meme em 2013, o Dogecoin tinha um valor extremamente baixo, muitas vezes avaliado em frações de centavos.\n",
        "No entanto percebemos que em 2021 obteve um crscimento muito significativo.\n",
        "\n",
        ">Hipotese:\n",
        "Suponhamos que o Dogecoin ganhou popularidade em 2021, impulsionado por eventos como a promoção de celebridades e a atenção da mídia. Isso levou a um aumento substancial no valor de fechamento, atingindo níveis muito mais altos do que sua histórica faixa de preço. Em maio de 2021, o Dogecoin atingiu seu valor mais alto até então, mas manteve sua volatilidade característica.\n",
        "\n"
      ],
      "metadata": {
        "id": "F1l10wc8gYAo"
      }
    },
    {
      "cell_type": "markdown",
      "source": [
        "####>>>>Tendência"
      ],
      "metadata": {
        "id": "C99P3BIMgYAp"
      }
    },
    {
      "cell_type": "markdown",
      "source": [
        "![descrição da imagem, dashboard construindo em powerbi sobre a moeda bitcoin com análises estatísticas](https://github.com/grandpa44997/Squad6M5ResiliabyiFood/blob/main/dashimg/doge2.png?raw=true)"
      ],
      "metadata": {
        "id": "EMNJChRXgYAq"
      }
    },
    {
      "cell_type": "markdown",
      "source": [
        "###<font color = bluelight>>>> Ethereum"
      ],
      "metadata": {
        "id": "5QT5RbKv_MNx"
      }
    },
    {
      "cell_type": "markdown",
      "source": [
        "#####>>>>> O Ethereum foi proposto em 2013 e lançado em 2015 por Vitalik Buterin e outros desenvolvedores. A Fundação Ethereum desempenhou um papel fundamental no desenvolvimento e na promoção da plataforma.\n",
        "O Ethereum foi o epicentro do boom das Finanças Descentralizadas (DeFi) e dos Tokens Não Fungíveis (NFTs). Plataformas DeFi, como Uniswap e Compound, e mercados NFT, como CryptoKitties e NBA Top Shot, se tornaram populares na blockchain Ethereum.\n",
        "\n",
        "No PoW, o Ethereum usava o algoritmo Ethash, que envolve a mineração por meio de poder computacional para validar transações e adicionar blocos à blockchain. No entanto, devido a preocupações com o consumo de energia e escalabilidade, o Ethereum estava migrando para o PoS com a atualização do Ethereum 2.0.\n",
        "\n",
        "Com o PoS, a validação de transações e a criação de novos blocos dependem do \"staking\" de tokens Ether (ETH) pelos participantes da rede, chamados de validadores. Esse novo algoritmo de consenso, chamado de \"Casper,\" visa tornar a rede mais eficiente e sustentável, ao mesmo tempo em que aumenta a segurança."
      ],
      "metadata": {
        "id": "tAPnnUnG_MNy"
      }
    },
    {
      "cell_type": "markdown",
      "source": [
        "####>>>> Dados Estatísticos"
      ],
      "metadata": {
        "id": "AshTLG5R_MN0"
      }
    },
    {
      "cell_type": "markdown",
      "source": [
        ">- Valor de Fechamento"
      ],
      "metadata": {
        "id": "YO0VA36o_MN1"
      }
    },
    {
      "cell_type": "code",
      "source": [
        "\n",
        "# Crie um novo DataFrame contendo apenas os dados do Ethereum\n",
        "df_ethereum = df_cripto[df_cripto['Nome'] == 'Ethereum'].copy()\n",
        "\n",
        "# Visualize as primeiras linhas do novo DataFrame para verificar\n",
        "print(df_ethereum.head())\n"
      ],
      "metadata": {
        "id": "7u5CwIdK_MN1",
        "colab": {
          "base_uri": "https://localhost:8080/"
        },
        "outputId": "df513c65-3546-4510-cc41-76e6a26dcc12"
      },
      "execution_count": 84,
      "outputs": [
        {
          "output_type": "stream",
          "name": "stdout",
          "text": [
            "          Nome Sigla        Data     Dia_semana   Max_Dia   Min_Dia  \\\n",
            "7991  Ethereum   ETH  08/08/2015         Sábado  2.798810  0.714725   \n",
            "7992  Ethereum   ETH  09/08/2015        Domingo  0.879810  0.629191   \n",
            "7993  Ethereum   ETH  10/08/2015  Segunda-feira  0.729854  0.636546   \n",
            "7994  Ethereum   ETH  11/08/2015    Terça-feira  1.131410  0.663235   \n",
            "7995  Ethereum   ETH  12/08/2015   Quarta-feira  1.289940  0.883608   \n",
            "\n",
            "      Valor_abertura  Valor_fechamento  Volume_negociacao  Valor_Mercado  \n",
            "7991        2.793760          0.753325           674188.0   4.548689e+07  \n",
            "7992        0.706136          0.701897           532170.0   4.239957e+07  \n",
            "7993        0.713989          0.708448           405283.0   4.281836e+07  \n",
            "7994        0.708087          1.067860          1463100.0   6.456929e+07  \n",
            "7995        1.058750          1.217440          2150620.0   7.364501e+07  \n"
          ]
        }
      ]
    },
    {
      "cell_type": "markdown",
      "source": [
        ">- Valor de Fechamento"
      ],
      "metadata": {
        "id": "tWQVlkcr_MN3"
      }
    },
    {
      "cell_type": "code",
      "source": [
        "# Transforme a coluna 'Close' em uma string\n",
        "df_ethereum['Valor_fechamento'].astype(str).describe()"
      ],
      "metadata": {
        "id": "HX5NXlif_MN3",
        "colab": {
          "base_uri": "https://localhost:8080/"
        },
        "outputId": "f2e5a735-9569-4a65-d2e8-70741824c1c6"
      },
      "execution_count": 85,
      "outputs": [
        {
          "output_type": "execute_result",
          "data": {
            "text/plain": [
              "count                   2160\n",
              "unique                  2158\n",
              "top       11.951600074768066\n",
              "freq                       2\n",
              "Name: Valor_fechamento, dtype: object"
            ]
          },
          "metadata": {},
          "execution_count": 85
        }
      ]
    },
    {
      "cell_type": "code",
      "source": [
        "# Transforme a coluna 'Close' em uma string\n",
        "df_ethereum['Valor_fechamento'].astype(str).describe()"
      ],
      "metadata": {
        "id": "-stbUJyn_MN4",
        "colab": {
          "base_uri": "https://localhost:8080/"
        },
        "outputId": "7d5e2fae-5905-476c-c769-3fd3472ec9b8"
      },
      "execution_count": 86,
      "outputs": [
        {
          "output_type": "execute_result",
          "data": {
            "text/plain": [
              "count                   2160\n",
              "unique                  2158\n",
              "top       11.951600074768066\n",
              "freq                       2\n",
              "Name: Valor_fechamento, dtype: object"
            ]
          },
          "metadata": {},
          "execution_count": 86
        }
      ]
    },
    {
      "cell_type": "markdown",
      "source": [
        ">--> No df_ethereum foram registrados 2160 valores, com 2158 valores diferentes"
      ],
      "metadata": {
        "id": "JlHWBhQw_MN5"
      }
    },
    {
      "cell_type": "code",
      "source": [
        "df_ethereum['Valor_fechamento'].describe()"
      ],
      "metadata": {
        "id": "QQzTS5e2_MN6",
        "colab": {
          "base_uri": "https://localhost:8080/"
        },
        "outputId": "8cba5653-59c3-4a50-daad-b29305f70f44"
      },
      "execution_count": 87,
      "outputs": [
        {
          "output_type": "execute_result",
          "data": {
            "text/plain": [
              "count    2160.000000\n",
              "mean      383.910691\n",
              "std       601.078766\n",
              "min         0.434829\n",
              "25%        13.819200\n",
              "50%       198.643691\n",
              "75%       386.435272\n",
              "max      4168.701049\n",
              "Name: Valor_fechamento, dtype: float64"
            ]
          },
          "metadata": {},
          "execution_count": 87
        }
      ]
    },
    {
      "cell_type": "markdown",
      "source": [
        "![descrição da imagem, dashboard construindo em powerbi sobre a moeda bitcoin com análises estatísticas](https://github.com/grandpa44997/Squad6M5ResiliabyiFood/blob/main/dashimg/ethereum1.png?raw=true)"
      ],
      "metadata": {
        "id": "doXi-pDr_MN7"
      }
    },
    {
      "cell_type": "markdown",
      "source": [
        ">- Média de valor de fechamento teve um aumento de 15.926% e média de valor de abertura teve um aumento de 15.878%, aumentaram em tendência entre 2014 e 2021\n",
        ">- As maiores médias do valor minímo e do valor máximo foram em 2021(234,64 e 262,21)."
      ],
      "metadata": {
        "id": "PytnrVZm_MN8"
      }
    },
    {
      "cell_type": "markdown",
      "source": [
        "> Insight:\n",
        "\n",
        "> O Ethereum, com sua funcionalidade de contratos inteligentes, é uma das criptomoedas mais importantes. De 2015 a 2021, o ETH teve um aumento impressionante de cerca de 22.000% na média de valor de fechamento, refletindo seu papel vital na evolução do espaço cripto."
      ],
      "metadata": {
        "id": "DB9ZLI40_MN8"
      }
    },
    {
      "cell_type": "markdown",
      "source": [
        "####>>>>Tendência"
      ],
      "metadata": {
        "id": "QA8eDRxu_MN9"
      }
    },
    {
      "cell_type": "markdown",
      "source": [
        "![descrição da imagem, dashboard construindo em powerbi sobre a moeda bitcoin com análises estatísticas](https://github.com/grandpa44997/Squad6M5ResiliabyiFood/blob/main/dashimg/ethereum2.png?raw=true)"
      ],
      "metadata": {
        "id": "RiNqN6rN_MN9"
      }
    },
    {
      "cell_type": "markdown",
      "source": [
        "###<font color = bluelight>>>> Litecoin"
      ],
      "metadata": {
        "id": "Td5ASCD3gYAw"
      }
    },
    {
      "cell_type": "markdown",
      "source": [
        "#####>>>>> Litecoin (LTC): O Litecoin é uma criptomoeda semelhante ao Bitcoin,também conhecido como a \"prata\" do Bitcoin, mas com tempos de confirmação de transação mais rápidos. Também utiliza o PoW como método de consenso.\n"
      ],
      "metadata": {
        "id": "Q7zkFZfqgYAw"
      }
    },
    {
      "cell_type": "markdown",
      "source": [
        "####>>>> Dados Estatísticos"
      ],
      "metadata": {
        "id": "z6vrbenvgYAw"
      }
    },
    {
      "cell_type": "markdown",
      "source": [
        ">- Valor de Fechamento"
      ],
      "metadata": {
        "id": "RDJbEwaEgYAx"
      }
    },
    {
      "cell_type": "code",
      "source": [
        "\n",
        "# Crie um novo DataFrame contendo apenas os dados do Litecoin\n",
        "df_litecoin = df_cripto[df_cripto['Nome'] == 'Litecoin'].copy()\n",
        "\n",
        "# Visualize as primeiras linhas do novo DataFrame para verificar\n",
        "print(df_litecoin.head())\n"
      ],
      "metadata": {
        "id": "3DoLfpICgYAx",
        "colab": {
          "base_uri": "https://localhost:8080/"
        },
        "outputId": "2d26c8db-8128-4460-e679-0681f2481052"
      },
      "execution_count": 88,
      "outputs": [
        {
          "output_type": "stream",
          "name": "stdout",
          "text": [
            "           Nome Sigla        Data     Dia_semana  Max_Dia  Min_Dia  \\\n",
            "10163  Litecoin   LTC  29/04/2013  Segunda-feira  4.57360  4.22564   \n",
            "10164  Litecoin   LTC  30/04/2013    Terça-feira  4.57238  4.16896   \n",
            "10165  Litecoin   LTC  01/05/2013   Quarta-feira  4.35686  3.52029   \n",
            "10166  Litecoin   LTC  02/05/2013   Quinta-feira  4.03930  3.00717   \n",
            "10167  Litecoin   LTC  03/05/2013    Sexta-feira  3.45361  2.39594   \n",
            "\n",
            "       Valor_abertura  Valor_fechamento  Volume_negociacao  Valor_Mercado  \n",
            "10163         4.36676           4.38390                0.0   7.538896e+07  \n",
            "10164         4.40352           4.29649                0.0   7.402092e+07  \n",
            "10165         4.28954           3.80101                0.0   6.560460e+07  \n",
            "10166         3.78002           3.37198                0.0   5.828798e+07  \n",
            "10167         3.39044           3.04491                0.0   5.269485e+07  \n"
          ]
        }
      ]
    },
    {
      "cell_type": "markdown",
      "source": [
        ">- Valor de Fechamento"
      ],
      "metadata": {
        "id": "lDEeDlsygYAx"
      }
    },
    {
      "cell_type": "code",
      "source": [
        "# Transforme a coluna 'Close' em uma string\n",
        "df_litecoin['Valor_fechamento'].astype(str).describe()\n"
      ],
      "metadata": {
        "id": "i6mDgbhSgYAy",
        "colab": {
          "base_uri": "https://localhost:8080/"
        },
        "outputId": "57725897-8dd4-42d7-ff30-316a51569e6f"
      },
      "execution_count": 89,
      "outputs": [
        {
          "output_type": "execute_result",
          "data": {
            "text/plain": [
              "count                   2991\n",
              "unique                  2988\n",
              "top       2.8446500301361084\n",
              "freq                       2\n",
              "Name: Valor_fechamento, dtype: object"
            ]
          },
          "metadata": {},
          "execution_count": 89
        }
      ]
    },
    {
      "cell_type": "markdown",
      "source": [
        ">--> No df_litecoin foram registrados 2991 valores, com 2988 valores diferentes"
      ],
      "metadata": {
        "id": "8aVeN8iJgYAy"
      }
    },
    {
      "cell_type": "code",
      "source": [
        "df_litecoin['Valor_fechamento'].describe()"
      ],
      "metadata": {
        "id": "7IYOVNPhgYAy",
        "colab": {
          "base_uri": "https://localhost:8080/"
        },
        "outputId": "453eb9ab-c50e-49fe-8984-86bc60d22d44"
      },
      "execution_count": 90,
      "outputs": [
        {
          "output_type": "execute_result",
          "data": {
            "text/plain": [
              "count    2991.000000\n",
              "mean       49.279008\n",
              "std        63.240464\n",
              "min         1.157010\n",
              "25%         3.794135\n",
              "50%        29.900200\n",
              "75%        62.025043\n",
              "max       386.450779\n",
              "Name: Valor_fechamento, dtype: float64"
            ]
          },
          "metadata": {},
          "execution_count": 90
        }
      ]
    },
    {
      "cell_type": "markdown",
      "source": [
        "![descrição da imagem, dashboard construindo em powerbi sobre a moeda bitcoin com análises estatísticas](https://github.com/grandpa44997/Squad6M5ResiliabyiFood/blob/main/dashimg/litecoin1.png?raw=true)"
      ],
      "metadata": {
        "id": "395N-A9qgYAy"
      }
    },
    {
      "cell_type": "markdown",
      "source": [
        ">- Média de valor de abertura teve um aumento de 2.893% e média de valor de fechamento teve um aumento de 2.855%, aumentaram em tendência entre 2013 e 2021\n",
        ">- As maiores médias do valor minímo e do valor máximo foram em 2021(185,48 e 207,36)."
      ],
      "metadata": {
        "id": "AlfMyc-8gYAy"
      }
    },
    {
      "cell_type": "markdown",
      "source": [
        "> Insight:\n",
        "\n",
        "> O Litecoin apresentou um impressionante aumento de 2.893% na média de valor de abertura e na média de valor de fechamento entre 2013 e 2021, indicando uma tendência de crescimento consistente. Além disso, em 2021, registrou suas maiores médias de valor mínimo (185,48) e valor máximo (207,36), o que sugere um desempenho notável nesse ano."
      ],
      "metadata": {
        "id": "K6kdfUBsgYAz"
      }
    },
    {
      "cell_type": "markdown",
      "source": [
        "####>>>>Tendência"
      ],
      "metadata": {
        "id": "DzRDHxKOgYAz"
      }
    },
    {
      "cell_type": "markdown",
      "source": [
        "![descrição da imagem, dashboard construindo em powerbi sobre a moeda bitcoin com análises estatísticas](https://github.com/grandpa44997/Squad6M5ResiliabyiFood/blob/main/dashimg/litecoin2.png?raw=true)"
      ],
      "metadata": {
        "id": "-ge8RR_4gYAz"
      }
    },
    {
      "cell_type": "markdown",
      "source": [
        "> Ao obeservar o gráfico identificamos que os anos em que o Litecoin obteve suas maiores quedas foi em 2015 com uma baixa de -72,63% em relação a 2014 e 2019 com uma baixa de -34,14 em relação a 2018.\n",
        "> As maiores altas foram em 2017  com uma alta de 1220 % em relação a 2016 e 2021 com uma alta de 250,82% em relação a 2020.( obeservação não temos os dados completos do ano de 2021). Informações mais detalhadas no dashboard."
      ],
      "metadata": {
        "id": "Ioa7V_xxgYA0"
      }
    },
    {
      "cell_type": "markdown",
      "source": [
        "###<font color = bluelight>>>> Monero"
      ],
      "metadata": {
        "id": "wK3xIVnbgYA0"
      }
    },
    {
      "cell_type": "markdown",
      "source": [
        "#####>>>>> A mineração no Monero é o processo pelas quais novas unidades da criptomoeda Monero (XMR) são criadas e transações são verificadas na rede Monero. O Monero utiliza um algoritmo de mineração chamado CryptoNight, que é projetado para ser resistente a ASICs (Application-Specific Integrated Circuits), tornando a mineração mais acessível e distribuída.\n",
        "Prova de Trabalho (PoW): O Monero utiliza um sistema de prova de trabalho para validar transações e criar novas moedas. Os mineradores resolvem problemas computacionais complexos usando seus dispositivos de mineração para competir pela recompensa de bloco."
      ],
      "metadata": {
        "id": "sJAcxdDagYA0"
      }
    },
    {
      "cell_type": "markdown",
      "source": [
        "####>>>> Dados Estatísticos"
      ],
      "metadata": {
        "id": "tfsVe73dgYA0"
      }
    },
    {
      "cell_type": "markdown",
      "source": [
        ">- Valor de Fechamento"
      ],
      "metadata": {
        "id": "QzM-3KtfgYA1"
      }
    },
    {
      "cell_type": "code",
      "source": [
        "\n",
        "# Crie um novo DataFrame contendo apenas os dados do Monero\n",
        "df_monero = df_cripto[df_cripto['Nome'] == 'Monero'].copy()\n",
        "\n",
        "# Visualize as primeiras linhas do novo DataFrame para verificar\n",
        "print(df_monero.head())\n"
      ],
      "metadata": {
        "id": "ZZQgx_DigYA1",
        "colab": {
          "base_uri": "https://localhost:8080/"
        },
        "outputId": "92f9f066-9f5e-4f6e-d682-7b7d5d1374d9"
      },
      "execution_count": 91,
      "outputs": [
        {
          "output_type": "stream",
          "name": "stdout",
          "text": [
            "        Nome Sigla        Data    Dia_semana   Max_Dia   Min_Dia  \\\n",
            "3416  Monero   XMR  07/08/2018   Terça-feira  117.8030  108.0390   \n",
            "3878  Monero   XMR  08/08/2018  Quarta-feira  108.0380   93.4016   \n",
            "3944  Monero   XMR  09/08/2018  Quinta-feira  101.9450   94.7215   \n",
            "4504  Monero   XMR  10/08/2018   Sexta-feira  101.1640   90.8204   \n",
            "4570  Monero   XMR  11/08/2018        Sábado   96.9932   88.0902   \n",
            "\n",
            "      Valor_abertura  Valor_fechamento  Volume_negociacao  Valor_Mercado  \n",
            "3416        114.0930          108.0390         24304400.0   1.757439e+09  \n",
            "3878        108.0380           94.5341         31289400.0   1.537758e+09  \n",
            "3944         94.7215          100.5330         24062700.0   1.635341e+09  \n",
            "4504        100.4730           91.7215         23751500.0   1.492007e+09  \n",
            "4570         92.1754           93.6188         30488100.0   1.522869e+09  \n"
          ]
        }
      ]
    },
    {
      "cell_type": "markdown",
      "source": [
        ">- Valor de Fechamento"
      ],
      "metadata": {
        "id": "wF5RQgkXgYA1"
      }
    },
    {
      "cell_type": "code",
      "source": [
        "# Transforme a coluna 'Close' em uma string\n",
        "df_monero['Valor_fechamento'].astype(str).describe()\n"
      ],
      "metadata": {
        "id": "9MQaiHbpgYA2",
        "colab": {
          "base_uri": "https://localhost:8080/"
        },
        "outputId": "3e4479f7-d822-4421-f2d0-8d7337a80173"
      },
      "execution_count": 92,
      "outputs": [
        {
          "output_type": "execute_result",
          "data": {
            "text/plain": [
              "count        2602\n",
              "unique       2602\n",
              "top       108.039\n",
              "freq            1\n",
              "Name: Valor_fechamento, dtype: object"
            ]
          },
          "metadata": {},
          "execution_count": 92
        }
      ]
    },
    {
      "cell_type": "markdown",
      "source": [
        ">--> No df_monero foram registrados 2602 valores, com 2602 valores diferentes"
      ],
      "metadata": {
        "id": "sYEytP4OgYA3"
      }
    },
    {
      "cell_type": "code",
      "source": [
        "df_monero['Valor_fechamento'].describe()"
      ],
      "metadata": {
        "id": "ziJiM4wzgYA3",
        "colab": {
          "base_uri": "https://localhost:8080/"
        },
        "outputId": "3fb1b5f2-2e95-4c3e-9392-57458a5f4386"
      },
      "execution_count": 93,
      "outputs": [
        {
          "output_type": "execute_result",
          "data": {
            "text/plain": [
              "count    2602.000000\n",
              "mean       74.134773\n",
              "std        91.180556\n",
              "min         0.223522\n",
              "25%         1.588685\n",
              "50%        51.337759\n",
              "75%       102.915250\n",
              "max       483.583612\n",
              "Name: Valor_fechamento, dtype: float64"
            ]
          },
          "metadata": {},
          "execution_count": 93
        }
      ]
    },
    {
      "cell_type": "markdown",
      "source": [
        "![descrição da imagem, dashboard construindo em powerbi sobre a moeda bitcoin com análises estatísticas](https://github.com/grandpa44997/Squad6M5ResiliabyiFood/blob/main/dashimg/monero1.png?raw=true)"
      ],
      "metadata": {
        "id": "3Kwg-Z3lgYA3"
      }
    },
    {
      "cell_type": "markdown",
      "source": [
        ">- Média de valor de fechamento teve um aumento de 15.926% e média de valor de abertura teve um aumento de 15.878%, aumentaram em tendência entre 2014 e 2021\n",
        ">- As maiores médias do valor minímo e do valor máximo foram em 2021(234,64 e 262,21)."
      ],
      "metadata": {
        "id": "CNXy0NSQgYA4"
      }
    },
    {
      "cell_type": "markdown",
      "source": [
        "> Insight:\n",
        "\n",
        "> O Monero teve um desempenho notável entre 2014 e 2021, com um aumento de 15.926% na média de valor de fechamento e um aumento de 15.878% na média de valor de abertura. Esses números indicam uma tendência consistente de crescimento ao longo desse período.\n",
        "\n",
        ">Além disso, em 2021, o Monero registrou suas maiores médias de valor mínimo (234,64) e valor máximo (262,21), sugerindo um desempenho excepcional nesse ano.\n",
        "\n",
        ">Em resumo, o Monero teve um desempenho notável durante esse período, com um aumento significativo nos valores de abertura e fechamento e alcançando máximas recordes em 2021."
      ],
      "metadata": {
        "id": "dPR9qH2ogYA4"
      }
    },
    {
      "cell_type": "markdown",
      "source": [
        "####>>>>Tendência"
      ],
      "metadata": {
        "id": "-fVyPQobgYA4"
      }
    },
    {
      "cell_type": "markdown",
      "source": [
        "![descrição da imagem, dashboard construindo em powerbi sobre a moeda bitcoin com análises estatísticas](https://github.com/grandpa44997/Squad6M5ResiliabyiFood/blob/main/dashimg/monero2.png?raw=true)"
      ],
      "metadata": {
        "id": "4YaiWmEGgYA4"
      }
    },
    {
      "cell_type": "markdown",
      "source": [
        "> Ao obeservar o gráfico identificamos que os anos em que o Monero obteve sua maior queda foi em 2019 com uma baixa de -60,43% em relação a 2018.\n",
        "> As maiores altas foram em 2016  com uma alta de 651,61 % em relação a 2015 e 2017 com uma alta de 1957% em relação a 2016.( obeservação não temos os dados completos do ano de 2021). Informações mais detalhadas no dashboard."
      ],
      "metadata": {
        "id": "w7fCd0irgYA4"
      }
    },
    {
      "cell_type": "markdown",
      "source": [
        "###<font color = bluelight>>>> Polkadot"
      ],
      "metadata": {
        "id": "P5VgLGJZgYA4"
      }
    },
    {
      "cell_type": "markdown",
      "source": [
        "#####>>>>> O Polkadot (DOT) é uma plataforma de blockchain de próxima geração que utiliza uma arquitetura única e inovadora conhecida como “paracadeias” para permitir a interoperabilidade entre diferentes blockchains. Em relação à sua pegada de carbono, o Polkadot compartilha características semelhantes a outras criptomoedas que adotam o Proof of Stake (PoS) e o Proof of Authority (PoA) como mecanismos de consenso.\n"
      ],
      "metadata": {
        "id": "88ffQZ5VgYA5"
      }
    },
    {
      "cell_type": "markdown",
      "source": [
        "####>>>> Dados Estatísticos"
      ],
      "metadata": {
        "id": "2RTIPe-mgYA5"
      }
    },
    {
      "cell_type": "markdown",
      "source": [
        ">- Valor de Fechamento"
      ],
      "metadata": {
        "id": "8ZCNugW8gYA5"
      }
    },
    {
      "cell_type": "code",
      "source": [
        "\n",
        "# Crie um novo DataFrame contendo apenas os dados do Polkadot\n",
        "df_polkadot = df_cripto[df_cripto['Nome'] == 'Polkadot'].copy()\n",
        "\n",
        "# Visualize as primeiras linhas do novo DataFrame para verificar\n",
        "print(df_polkadot.head())\n"
      ],
      "metadata": {
        "id": "WKdhB2AWgYA6",
        "colab": {
          "base_uri": "https://localhost:8080/"
        },
        "outputId": "f7a870ce-4ccf-4e8d-87e0-b10e5d71614e"
      },
      "execution_count": 94,
      "outputs": [
        {
          "output_type": "stream",
          "name": "stdout",
          "text": [
            "           Nome Sigla        Data     Dia_semana   Max_Dia   Min_Dia  \\\n",
            "15732  Polkadot   DOT  21/08/2020    Sexta-feira  3.090093  2.730919   \n",
            "15733  Polkadot   DOT  22/08/2020         Sábado  4.510613  2.816762   \n",
            "15734  Polkadot   DOT  23/08/2020        Domingo  4.487058  3.716271   \n",
            "15735  Polkadot   DOT  24/08/2020  Segunda-feira  4.783158  3.812670   \n",
            "15736  Polkadot   DOT  25/08/2020    Terça-feira  5.760775  4.501223   \n",
            "\n",
            "       Valor_abertura  Valor_fechamento  Volume_negociacao  Valor_Mercado  \n",
            "15732        2.896923          2.875028       4.931314e+07            0.0  \n",
            "15733        2.878570          4.484690       4.858011e+08            0.0  \n",
            "15734        4.487058          3.967066       3.207495e+08            0.0  \n",
            "15735        3.987413          4.602614       4.076902e+08            0.0  \n",
            "15736        4.584953          5.523393       8.988475e+08            0.0  \n"
          ]
        }
      ]
    },
    {
      "cell_type": "markdown",
      "source": [
        ">- Valor de Fechamento"
      ],
      "metadata": {
        "id": "5uapKyVggYA7"
      }
    },
    {
      "cell_type": "code",
      "source": [
        "# Transforme a coluna 'Close' em uma string\n",
        "df_polkadot['Valor_fechamento'].astype(str).describe()\n"
      ],
      "metadata": {
        "id": "8lKHlLVggYA7",
        "colab": {
          "base_uri": "https://localhost:8080/"
        },
        "outputId": "c9fc9632-1832-4c34-e571-f15267d18fd6"
      },
      "execution_count": 95,
      "outputs": [
        {
          "output_type": "execute_result",
          "data": {
            "text/plain": [
              "count              320\n",
              "unique             320\n",
              "top       2.8750282692\n",
              "freq                 1\n",
              "Name: Valor_fechamento, dtype: object"
            ]
          },
          "metadata": {},
          "execution_count": 95
        }
      ]
    },
    {
      "cell_type": "markdown",
      "source": [
        ">--> No df_polkadot foram registrados 320 valores, com 320 valores diferentes"
      ],
      "metadata": {
        "id": "EQaYCK5mgYA8"
      }
    },
    {
      "cell_type": "code",
      "source": [
        "df_polkadot['Valor_fechamento'].describe()"
      ],
      "metadata": {
        "id": "2BsdQHhngYA8",
        "colab": {
          "base_uri": "https://localhost:8080/"
        },
        "outputId": "2be0e27c-7d4b-4da0-da88-dcc25304f27d"
      },
      "execution_count": 96,
      "outputs": [
        {
          "output_type": "execute_result",
          "data": {
            "text/plain": [
              "count    320.000000\n",
              "mean      18.143080\n",
              "std       13.735707\n",
              "min        2.875028\n",
              "25%        4.883383\n",
              "50%       15.979432\n",
              "75%       32.742904\n",
              "max       47.945940\n",
              "Name: Valor_fechamento, dtype: float64"
            ]
          },
          "metadata": {},
          "execution_count": 96
        }
      ]
    },
    {
      "cell_type": "markdown",
      "source": [
        "![descrição da imagem, dashboard construindo em powerbi sobre a moeda bitcoin com análises estatísticas](https://github.com/grandpa44997/Squad6M5ResiliabyiFood/blob/main/dashimg/polkadot1.png?raw=true)"
      ],
      "metadata": {
        "id": "AUAhqtzmgYA8"
      }
    },
    {
      "cell_type": "markdown",
      "source": [
        ">- Média de valor de abertura teve um aumento de 2.893% e média de valor de fechamento teve um aumento de 2.855%, aumentaram em tendência entre 2013 e 2021\n",
        ">- As maiores médias do valor minímo e do valor máximo foram em 2021(185,48 e 207,36)."
      ],
      "metadata": {
        "id": "obDPyY7zgYA9"
      }
    },
    {
      "cell_type": "markdown",
      "source": [
        "> Insight:\n",
        "\n",
        "> Polkadot é uma criptomoeda que visa a interoperabilidade entre diferentes blockchains. Desde o seu lançamento em 2020, o DOT teve um aumento substancial na média de valor de fechamento, mostrando seu potencial no ecossistema de criptomoedas."
      ],
      "metadata": {
        "id": "sH6mZ61vgYA9"
      }
    },
    {
      "cell_type": "markdown",
      "source": [
        "####>>>>Tendência"
      ],
      "metadata": {
        "id": "ffRusNXAgYA9"
      }
    },
    {
      "cell_type": "markdown",
      "source": [
        "![](https://github.com/grandpa44997/Squad6M5ResiliabyiFood/blob/main/dashimg/polkadot2.png?raw=true)"
      ],
      "metadata": {
        "id": "lzDJj2dngYA9"
      }
    },
    {
      "cell_type": "markdown",
      "source": [
        "> Ao obeservar o gráfico identificamos que os anos em que o Litecoin obteve suas maiores quedas foi em 2015 com uma baixa de -72,63% em relação a 2014 e 2019 com uma baixa de -34,14 em relação a 2018.\n",
        "> As maiores altas foram em 2017  com uma alta de 1220 % em relação a 2016 e 2021 com uma alta de 250,82% em relação a 2020.( obeservação não temos os dados completos do ano de 2021). Informações mais detalhadas no dashboard."
      ],
      "metadata": {
        "id": "GO5y7c9tgYA-"
      }
    },
    {
      "cell_type": "markdown",
      "source": [
        "###<font color = bluelight>>>> Solana"
      ],
      "metadata": {
        "id": "IMrEprNYVRGy"
      }
    },
    {
      "cell_type": "markdown",
      "source": [
        "#####>>>>> A Solana (SOL) é uma blockchain de alto desempenho que utiliza um mecanismo de consenso chamado “Proof of History” (PoH) em conjunto com o “Proof of Stake” (PoS). Essa abordagem visa melhorar a escalabilidade e a eficiência da rede, o que pode contribuir para uma pegada de carbono relativamente menor em comparação com blockchains baseados apenas no “Proof of Work” (PoW)."
      ],
      "metadata": {
        "id": "BsxgGycYVRGz"
      }
    },
    {
      "cell_type": "markdown",
      "source": [
        "####>>>> Dados Estatísticos"
      ],
      "metadata": {
        "id": "9KBRUXD-VRGz"
      }
    },
    {
      "cell_type": "markdown",
      "source": [
        ">- Valor de Fechamento"
      ],
      "metadata": {
        "id": "y-7J8BLDVRG0"
      }
    },
    {
      "cell_type": "code",
      "source": [
        "\n",
        "# Crie um novo DataFrame contendo apenas os dados do Solana\n",
        "df_solana = df_cripto[df_cripto['Nome'] == 'Solana'].copy()\n",
        "\n",
        "# Visualize as primeiras linhas do novo DataFrame para verificar\n",
        "print(df_solana.head())\n"
      ],
      "metadata": {
        "id": "R2xCdeGOVRG1",
        "colab": {
          "base_uri": "https://localhost:8080/"
        },
        "outputId": "e0546366-bfd4-43c7-a32d-da0e19bb8862"
      },
      "execution_count": 97,
      "outputs": [
        {
          "output_type": "stream",
          "name": "stdout",
          "text": [
            "         Nome Sigla        Data     Dia_semana   Max_Dia   Min_Dia  \\\n",
            "16053  Solana   SOL  11/04/2020         Sábado  1.049073  0.765020   \n",
            "16054  Solana   SOL  12/04/2020        Domingo  0.956670  0.762426   \n",
            "16055  Solana   SOL  13/04/2020  Segunda-feira  0.891603  0.773976   \n",
            "16056  Solana   SOL  14/04/2020    Terça-feira  0.796472  0.628169   \n",
            "16057  Solana   SOL  15/04/2020   Quarta-feira  0.704964  0.621531   \n",
            "\n",
            "       Valor_abertura  Valor_fechamento  Volume_negociacao  Valor_Mercado  \n",
            "16053        0.951054          0.776819       4.386244e+07            0.0  \n",
            "16054        0.785448          0.882507       3.873690e+07            0.0  \n",
            "16055        0.890760          0.777832       1.821129e+07            0.0  \n",
            "16056        0.777832          0.661925       1.674761e+07            0.0  \n",
            "16057        0.669289          0.646651       1.307528e+07            0.0  \n"
          ]
        }
      ]
    },
    {
      "cell_type": "markdown",
      "source": [
        ">- Valor de Fechamento"
      ],
      "metadata": {
        "id": "6_rcgo6bVRG2"
      }
    },
    {
      "cell_type": "code",
      "source": [
        "# Transforme a coluna 'Close' em uma string\n",
        "df_solana['Valor_fechamento'].astype(str).describe()\n"
      ],
      "metadata": {
        "id": "ksBLYJsPVRG2",
        "colab": {
          "base_uri": "https://localhost:8080/"
        },
        "outputId": "a7e06451-81aa-45f8-d002-f63673d99658"
      },
      "execution_count": 98,
      "outputs": [
        {
          "output_type": "execute_result",
          "data": {
            "text/plain": [
              "count                452\n",
              "unique               452\n",
              "top       0.776818582977\n",
              "freq                   1\n",
              "Name: Valor_fechamento, dtype: object"
            ]
          },
          "metadata": {},
          "execution_count": 98
        }
      ]
    },
    {
      "cell_type": "markdown",
      "source": [
        ">--> No df_solana foram registrados 452 valores, com 452 valores diferentes"
      ],
      "metadata": {
        "id": "cCOJ9mj6VRG4"
      }
    },
    {
      "cell_type": "code",
      "source": [
        "df_solana['Valor_fechamento'].describe()"
      ],
      "metadata": {
        "id": "ms6cVMLHVRG4",
        "colab": {
          "base_uri": "https://localhost:8080/"
        },
        "outputId": "23b0ac81-d144-439a-ab12-0b619bacf09f"
      },
      "execution_count": 99,
      "outputs": [
        {
          "output_type": "execute_result",
          "data": {
            "text/plain": [
              "count    452.000000\n",
              "mean      10.471388\n",
              "std       14.114444\n",
              "min        0.515273\n",
              "25%        1.424761\n",
              "50%        2.881389\n",
              "75%       14.362851\n",
              "max       55.910960\n",
              "Name: Valor_fechamento, dtype: float64"
            ]
          },
          "metadata": {},
          "execution_count": 99
        }
      ]
    },
    {
      "cell_type": "markdown",
      "source": [
        "![descrição da imagem, dashboard construindo em powerbi sobre a moeda bitcoin com análises estatísticas](https://github.com/grandpa44997/Squad6M5ResiliabyiFood/blob/main/dashimg/solana1.png?raw=true)"
      ],
      "metadata": {
        "id": "MeJMXLGFVRG5"
      }
    },
    {
      "cell_type": "markdown",
      "source": [
        "> Insight:\n",
        "\n",
        "> Solana, com sua abordagem de escalabilidade, ganhou destaque rapidamente. Desde seu lançamento em 2020, o SOL viu um crescimento significativo na média de valor de fechamento, refletindo sua inovação tecnológica."
      ],
      "metadata": {
        "id": "o3pIpWDMVRG6"
      }
    },
    {
      "cell_type": "markdown",
      "source": [
        "####>>>>Tendência"
      ],
      "metadata": {
        "id": "PMFWD32vVRG6"
      }
    },
    {
      "cell_type": "markdown",
      "source": [
        "![descrição da imagem, dashboard construindo em powerbi sobre a moeda bitcoin com análises estatísticas](https://github.com/grandpa44997/Squad6M5ResiliabyiFood/blob/main/dashimg/solana2.png?raw=true)"
      ],
      "metadata": {
        "id": "0cSotVWxVRG6"
      }
    },
    {
      "cell_type": "markdown",
      "source": [
        "###<font color = bluelight>>>> Stellar"
      ],
      "metadata": {
        "id": "OfibutQ7Umzy"
      }
    },
    {
      "cell_type": "markdown",
      "source": [
        "#####>>>>> A Stellar (XLM) é uma blockchain que utiliza o mecanismo de consenso conhecido como “Federated Byzantine Agreement” (FBA). Esta abordagem é considerada eficiente em termos de energia, o que resulta em uma pegada de carbono relativamente baixa em comparação com blockchains que dependem do “Proof of Work” (PoW)."
      ],
      "metadata": {
        "id": "3OkPJmBgUmz2"
      }
    },
    {
      "cell_type": "markdown",
      "source": [
        "####>>>> Dados Estatísticos"
      ],
      "metadata": {
        "id": "VswlRD9AUmz3"
      }
    },
    {
      "cell_type": "markdown",
      "source": [
        ">- Valor de Fechamento"
      ],
      "metadata": {
        "id": "hn7jozyEUmz4"
      }
    },
    {
      "cell_type": "code",
      "source": [
        "\n",
        "# Crie um novo DataFrame contendo apenas os dados do Stellar\n",
        "df_stellar = df_cripto[df_cripto['Nome'] == 'Stellar'].copy()\n",
        "\n",
        "# Visualize as primeiras linhas do novo DataFrame para verificar\n",
        "print(df_stellar.head())\n"
      ],
      "metadata": {
        "id": "Bahx4B_BUmz4",
        "colab": {
          "base_uri": "https://localhost:8080/"
        },
        "outputId": "229522b1-857b-4cf8-8835-55848a7bf324"
      },
      "execution_count": 100,
      "outputs": [
        {
          "output_type": "stream",
          "name": "stdout",
          "text": [
            "          Nome Sigla        Data    Dia_semana   Max_Dia   Min_Dia  \\\n",
            "14858  Stellar   XLM  18/08/2018        Sábado  0.245270  0.220600   \n",
            "14924  Stellar   XLM  21/08/2018   Terça-feira  0.227195  0.210588   \n",
            "14990  Stellar   XLM  22/08/2018  Quarta-feira  0.238291  0.205148   \n",
            "15056  Stellar   XLM  23/08/2018  Quinta-feira  0.222162  0.206242   \n",
            "15122  Stellar   XLM  24/08/2018   Sexta-feira  0.225470  0.211178   \n",
            "\n",
            "       Valor_abertura  Valor_fechamento  Volume_negociacao  Valor_Mercado  \n",
            "14858        0.239124          0.224235         73536300.0   4.209285e+09  \n",
            "14924        0.217877          0.214708         57619800.0   4.030698e+09  \n",
            "14990        0.219224          0.206896         57593700.0   3.884044e+09  \n",
            "15056        0.213642          0.222162         50407300.0   4.170633e+09  \n",
            "15122        0.214871          0.219806         46565700.0   4.126404e+09  \n"
          ]
        }
      ]
    },
    {
      "cell_type": "markdown",
      "source": [
        ">- Valor de Fechamento"
      ],
      "metadata": {
        "id": "bEpIUbf6Umz5"
      }
    },
    {
      "cell_type": "code",
      "source": [
        "# Transforme a coluna 'Close' em uma string\n",
        "df_stellar['Valor_fechamento'].astype(str).describe()\n"
      ],
      "metadata": {
        "id": "xByKwVfoUmz6",
        "colab": {
          "base_uri": "https://localhost:8080/"
        },
        "outputId": "5eb850d9-2b72-4201-c03a-bad38b084ec8"
      },
      "execution_count": 101,
      "outputs": [
        {
          "output_type": "execute_result",
          "data": {
            "text/plain": [
              "count         2527\n",
              "unique        2525\n",
              "top       0.216032\n",
              "freq             2\n",
              "Name: Valor_fechamento, dtype: object"
            ]
          },
          "metadata": {},
          "execution_count": 101
        }
      ]
    },
    {
      "cell_type": "markdown",
      "source": [
        ">--> No df_stellar foram registrados 2527 valores, com 2525 valores diferentes"
      ],
      "metadata": {
        "id": "Afq3xpy3Umz7"
      }
    },
    {
      "cell_type": "code",
      "source": [
        "df_stellar['Valor_fechamento'].describe()"
      ],
      "metadata": {
        "id": "ddGL0vvKUmz8",
        "colab": {
          "base_uri": "https://localhost:8080/"
        },
        "outputId": "b482e652-7199-45f2-edda-068f200c7f4e"
      },
      "execution_count": 102,
      "outputs": [
        {
          "output_type": "execute_result",
          "data": {
            "text/plain": [
              "count    2527.000000\n",
              "mean        0.101509\n",
              "std         0.141125\n",
              "min         0.001357\n",
              "25%         0.002449\n",
              "50%         0.049441\n",
              "75%         0.124355\n",
              "max         0.896227\n",
              "Name: Valor_fechamento, dtype: float64"
            ]
          },
          "metadata": {},
          "execution_count": 102
        }
      ]
    },
    {
      "cell_type": "markdown",
      "source": [
        "![descrição da imagem, dashboard construindo em powerbi sobre a moeda bitcoin com análises estatísticas](https://github.com/grandpa44997/Squad6M5ResiliabyiFood/blob/main/dashimg/stellar1.png?raw=true)"
      ],
      "metadata": {
        "id": "ooblkFNQUmz8"
      }
    },
    {
      "cell_type": "markdown",
      "source": [
        ">- Média de valor de fechamento teve um aumento de 15.926% e média de valor de abertura teve um aumento de 15.878%, aumentaram em tendência entre 2014 e 2021\n",
        ">- As maiores médias do valor minímo e do valor máximo foram em 2021(234,64 e 262,21)."
      ],
      "metadata": {
        "id": "y1dYTycTUmz-"
      }
    },
    {
      "cell_type": "markdown",
      "source": [
        "> Insight:\n",
        "\n",
        "> O Stellar, focado em soluções financeiras, mostrou um desempenho sólido. De 2014 a 2021, o XLM experimentou um aumento de cerca de 3.000% na média de valor de fechamento, indicando seu papel no setor financeiro descentralizado."
      ],
      "metadata": {
        "id": "MI1V38p6Umz-"
      }
    },
    {
      "cell_type": "markdown",
      "source": [
        "####>>>>Tendência"
      ],
      "metadata": {
        "id": "pbTRl_foUmz_"
      }
    },
    {
      "cell_type": "markdown",
      "source": [
        "![descrição da imagem, dashboard construindo em powerbi sobre a moeda bitcoin com análises estatísticas](https://github.com/grandpa44997/Squad6M5ResiliabyiFood/blob/main/dashimg/stellar2.png?raw=true)"
      ],
      "metadata": {
        "id": "W4tlT039Umz_"
      }
    },
    {
      "cell_type": "markdown",
      "source": [
        "> Ao obeservar o gráfico identificamos que os anos em que o Stellar obteve sua maior queda foi em 2018 com uma queda de -60,43% em relação a primeira semana de 2018.\n",
        "> As maiores altas foram em 2018  com uma alta de 651,61 % em relação a 2017 e 2021 com uma alta de 357% em relação a 2020.( obeservação não temos os dados completos do ano de 2021). Informações mais detalhadas no dashboard."
      ],
      "metadata": {
        "id": "bFU-p4P3Umz_"
      }
    },
    {
      "cell_type": "markdown",
      "source": [
        "## <font color = bluelight>>> Dados Prontos para Análise Descritiva\n"
      ],
      "metadata": {
        "id": "r5KLZy0eO4z4"
      }
    },
    {
      "cell_type": "markdown",
      "source": [
        ">- Valor de Fechamento"
      ],
      "metadata": {
        "id": "HQuFp4-VxL9y"
      }
    },
    {
      "cell_type": "code",
      "source": [
        "# Transforme a coluna 'Close' em uma string\n",
        "df_cripto['Valor_fechamento'].astype(str).describe()\n"
      ],
      "metadata": {
        "id": "xSdmVslGSq4i",
        "colab": {
          "base_uri": "https://localhost:8080/"
        },
        "outputId": "4a41a5db-2f65-4a5e-9343-3ceea938dcba"
      },
      "execution_count": 103,
      "outputs": [
        {
          "output_type": "execute_result",
          "data": {
            "text/plain": [
              "count     19022\n",
              "unique    18994\n",
              "top       104.0\n",
              "freq          3\n",
              "Name: Valor_fechamento, dtype: object"
            ]
          },
          "metadata": {},
          "execution_count": 103
        }
      ]
    },
    {
      "cell_type": "markdown",
      "source": [
        ">--> No df_cripto foram registrados 19022 valores, com 18994 valores diferentes\n",
        "o valor mais alto foi 104.0"
      ],
      "metadata": {
        "id": "eAp9IjUd-QET"
      }
    },
    {
      "cell_type": "code",
      "source": [
        "df_cripto['Valor_fechamento'].describe()"
      ],
      "metadata": {
        "id": "1bFoko0l3l7H",
        "colab": {
          "base_uri": "https://localhost:8080/"
        },
        "outputId": "4144fd1e-84d8-44e7-af27-49452f8c5a4e"
      },
      "execution_count": 104,
      "outputs": [
        {
          "output_type": "execute_result",
          "data": {
            "text/plain": [
              "count    19022.000000\n",
              "mean      1117.648700\n",
              "std       5095.065126\n",
              "min          0.000087\n",
              "25%          0.073516\n",
              "50%          4.466921\n",
              "75%        152.225020\n",
              "max      63503.457930\n",
              "Name: Valor_fechamento, dtype: float64"
            ]
          },
          "metadata": {},
          "execution_count": 104
        }
      ]
    },
    {
      "cell_type": "markdown",
      "source": [],
      "metadata": {
        "id": "JxLnxj-aKX9Z"
      }
    },
    {
      "cell_type": "markdown",
      "source": [
        ">- A maior média de falor de fechameto foi em Maio com  0.5137 obtendo um um percentual de variação de 732 (%) a mais do que Outubro o mês que teve a menor média de valor de fechamento com ($) 0.0617"
      ],
      "metadata": {
        "id": "mGCKfZ8qJfEW"
      }
    }
  ]
}
