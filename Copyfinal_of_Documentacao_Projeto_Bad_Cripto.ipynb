{
  "nbformat": 4,
  "nbformat_minor": 0,
  "metadata": {
    "colab": {
      "provenance": []
    },
    "kernelspec": {
      "name": "python3",
      "display_name": "Python 3"
    },
    "language_info": {
      "name": "python"
    }
  },
  "cells": [
    {
      "cell_type": "markdown",
      "source": [
        "## >> Passo 1:"
      ],
      "metadata": {
        "id": "Nv13mgTZkrUi"
      }
    },
    {
      "cell_type": "markdown",
      "source": [
        "###>>> Faz o dowloand do link:\n",
        "\n"
      ],
      "metadata": {
        "id": "atkmOAh-k7Up"
      }
    },
    {
      "cell_type": "markdown",
      "source": [
        "-  Link [Serie historica de valores de criptomoedas ](https://www.kaggle.com/datasets/sudalairajkumar/cryptocurrencypricehistory)\n",
        "- Extraia o conteúdo para uma pasta e nomeie ela 'CriptoMoedas'\n",
        "- As 10 moedas que serão trabalhadas:\n",
        "  - Bitcoin;\n",
        "  - Litecoin;\n",
        "  - Polkadot;\n",
        "  - Dogecoin;\n",
        "  - Solana;\n",
        "  - Stellar;\n",
        "  - Cardano;\n",
        "  - Monero;\n",
        "  - Cosmos;\n",
        "  - Ethereum.\n",
        "\n",
        "- As restantes podem ser apagadas da pasta."
      ],
      "metadata": {
        "id": "D-PFsg_83Yaj"
      }
    },
    {
      "cell_type": "markdown",
      "source": [
        "## >> Passo 2:\n"
      ],
      "metadata": {
        "id": "9nFOBI-_nn1G"
      }
    },
    {
      "cell_type": "markdown",
      "source": [
        "###>>> Tratando dados no pgadmin4"
      ],
      "metadata": {
        "id": "Xzg6cNMRnvYV"
      }
    },
    {
      "cell_type": "markdown",
      "source": [
        "- Em um diretório onde o PostegreSql tenha permissão de acesso, copie e cole a pasta CriptoMoedas com os arquivos das 10 moedas escolhidas pela nossa equipe.\n",
        "- Dentro do pgAdmin4\n",
        "- execute o script criacao_tb_final.sql que está dentro da pasta Script_Bd_Criptomoedas do nosso repositório no GitHub [aqui](https://github.com/grandpa44997/Squad6M5ResiliabyiFood/blob/main/Script_Bd_Criptomoedas/criacao_tb_final.sql).\n",
        "\n",
        "    No script SQL, localize as seções onde ocorre a inserção de dados a partir de arquivos CSV.\n",
        "\n",
        "    Edite cada uma das consultas COPY para especificar o diretório correto onde os arquivos CSV estão localizados.\n",
        "\n",
        "    Execute cada uma das consultas COPY para inserir os dados dos arquivos CSV nas tabelas correspondentes.\n",
        "\n",
        "    As consultas finals unificam os dados de todas as moedas em uma unica tabela chamada tb_final"
      ],
      "metadata": {
        "id": "V2Q43NgCY1fn"
      }
    },
    {
      "cell_type": "markdown",
      "source": [
        "###>>>Execute o Arquivo 'Projeto_Bad_Cripton.ipynb'"
      ],
      "metadata": {
        "id": "NjS31cyLsnsA"
      }
    },
    {
      "cell_type": "markdown",
      "source": [
        "- Sera criado um arquivo .csv chamado tb_cripto essa tabela deve ser baixada pelo navegador em uma pasta de sua escolha"
      ],
      "metadata": {
        "id": "qgxL9YAWs-VX"
      }
    },
    {
      "cell_type": "markdown",
      "source": [
        "##>>Passo 3:"
      ],
      "metadata": {
        "id": "2GF_W2fCulfW"
      }
    },
    {
      "cell_type": "markdown",
      "source": [
        "###>>> Exportando a tabela para o PostgreSql\n"
      ],
      "metadata": {
        "id": "XHdSoF2Muv1N"
      }
    },
    {
      "cell_type": "markdown",
      "source": [
        " - Em um diretório onde o PostegreSql tenha permissão de acesso\n",
        " - Copie para essa pasta o arquivo tb_cripto.csv"
      ],
      "metadata": {
        "id": "MVlv5sCH3OGV"
      }
    },
    {
      "cell_type": "markdown",
      "source": [
        "###>>> Criando o Bd_Criptomoedas"
      ],
      "metadata": {
        "id": "OtAImuobxkvi"
      }
    },
    {
      "cell_type": "markdown",
      "source": [
        "- Abra o PostgreSql atraves do PGAdmin4\n",
        "- Crie um database chamado Bd_Criptomoedas\n",
        "![Imgur](https://i.imgur.com/iIxfqod.png)"
      ],
      "metadata": {
        "id": "wLdZQBplxwKi"
      }
    },
    {
      "cell_type": "markdown",
      "source": [
        "###>>> Criando a tabela tb_cripto\n"
      ],
      "metadata": {
        "id": "xtE8NfZFywOK"
      }
    },
    {
      "cell_type": "markdown",
      "source": [
        "- Abra a pasta chamada Script_Bd_Criptomoedas que esta no repositório do GitHub\n",
        "- Execute o script criacao_tb_cripto no postgre\n",
        "![Imgur](https://i.imgur.com/xbyMFsM.png)"
      ],
      "metadata": {
        "id": "z8mPb1p-27uU"
      }
    },
    {
      "cell_type": "markdown",
      "source": [
        "![Imgur](https://i.imgur.com/OEQcRes.png)"
      ],
      "metadata": {
        "id": "zMjZInAO0aDa"
      }
    },
    {
      "cell_type": "markdown",
      "source": [
        "###>>> Importando tb_cripto.csv\n"
      ],
      "metadata": {
        "id": "chMyCW3w05wX"
      }
    },
    {
      "cell_type": "markdown",
      "source": [
        "- Apos a tabela criado no banco de dados;\n",
        "- Execute o script import_tb_cripto que esta na mesma pasta chamada 'Script_Bd_Criptomoedas', no postegre.\n",
        "![Imgur](https://i.imgur.com/5LaF6z2.png)\n",
        "![Imgur](https://i.imgur.com/mMbplMG.png)"
      ],
      "metadata": {
        "id": "vBEbWnX03E1U"
      }
    },
    {
      "cell_type": "markdown",
      "source": [
        "##>> Passo 4:"
      ],
      "metadata": {
        "id": "HdwsGZPO3lY6"
      }
    },
    {
      "cell_type": "markdown",
      "source": [
        "###>>> Conectando o PGAdmin4 ao Power BI"
      ],
      "metadata": {
        "id": "De3c2WGI3uO0"
      }
    },
    {
      "cell_type": "markdown",
      "source": [
        "- Procure em propriedades do seu servidor PGAdmin 4, pesquise Connection e anote as informções:\n",
        "\n",
        "![Imgur](https://i.imgur.com/5DjFTKf.png)"
      ],
      "metadata": {
        "id": "ll2keVRT4A7l"
      }
    },
    {
      "cell_type": "markdown",
      "source": [
        "- Abra o Power BI\n",
        "- clique em obter dados role ate em baixo 'mais'\n",
        "![Imgur](https://i.imgur.com/7vdCmGk.png)"
      ],
      "metadata": {
        "id": "YF5EFlw-8j23"
      }
    },
    {
      "cell_type": "markdown",
      "source": [
        "- clik em Mais\n",
        "- Procure por Banco de dados PostgreSQL"
      ],
      "metadata": {
        "id": "d2bL9Lv-_rHz"
      }
    },
    {
      "cell_type": "markdown",
      "source": [
        "![Imgur](https://i.imgur.com/0UDDKwb.png)"
      ],
      "metadata": {
        "id": "CQRFOLrx_LxN"
      }
    },
    {
      "cell_type": "markdown",
      "source": [
        "- Digite as informações guardadas anteriormente do seu servidor PGAdmin4 e sua senha do banco de dados.\n",
        "![Imgur](https://i.imgur.com/wAnDOd5.png)\n",
        "![Imgur](https://i.imgur.com/7Aj2b7N.png)"
      ],
      "metadata": {
        "id": "uDwn-P-l_9LF"
      }
    },
    {
      "cell_type": "markdown",
      "source": [
        "- Conecte\n",
        "- Agora ja esta conectado ao banco de dados\n",
        "- Podera importar as tabelas necessarias pra utilizar o arquivo Power BI\n",
        "- Agora abra o arquivo Criptomoedas.pbix que esta na pasta com nome de Cripto_BI\n",
        "\n",
        "![Imgur](https://i.imgur.com/IqFNwXP.png)"
      ],
      "metadata": {
        "id": "L-Et5Ae1AzKM"
      }
    },
    {
      "cell_type": "markdown",
      "source": [
        "##>>Fim"
      ],
      "metadata": {
        "id": "I_K3ek8SEzWo"
      }
    }
  ]
}